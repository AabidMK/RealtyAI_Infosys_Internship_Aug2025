{
 "cells": [
  {
   "cell_type": "markdown",
   "id": "e040ceb6",
   "metadata": {},
   "source": [
    "\n",
    "# Real Estate Datasets — Quickstart Exploration\n",
    "\n",
    "This notebook helps you **load and explore** four datasets with Pandas.\n",
    "\n",
    "> **Before you run:** Put this notebook **in the same folder** as your CSV files:\n",
    "- `housing.csv`\n",
    "- `world_real_estate_data(147k).csv`\n",
    "- `Real Estate Data V21.csv`\n",
    "- `real_estate_dataset.csv`\n",
    "\n",
    "If your file names/paths are different, edit the `files` dictionary in the next cell.\n"
   ]
  },
  {
   "cell_type": "code",
   "execution_count": 1,
   "id": "6247084e",
   "metadata": {},
   "outputs": [],
   "source": [
    "\n",
    "# (Optional) Install libraries — run this only if you get ModuleNotFoundError\n",
    "# !pip install --upgrade pip\n",
    "# !pip install pandas matplotlib numpy\n"
   ]
  },
  {
   "cell_type": "code",
   "execution_count": 2,
   "id": "a02ae3fd",
   "metadata": {},
   "outputs": [
    {
     "name": "stderr",
     "output_type": "stream",
     "text": [
      "Matplotlib is building the font cache; this may take a moment.\n"
     ]
    }
   ],
   "source": [
    "\n",
    "import pandas as pd\n",
    "import numpy as np\n",
    "import matplotlib.pyplot as plt\n",
    "\n",
    "pd.set_option(\"display.max_colwidth\", 120)\n",
    "pd.set_option(\"display.max_columns\", None)\n"
   ]
  },
  {
   "cell_type": "code",
   "execution_count": 3,
   "id": "5f689816",
   "metadata": {},
   "outputs": [
    {
     "data": {
      "text/plain": [
       "{'California Housing Prices': 'housing.csv',\n",
       " 'World Real Estate Data': 'world_real_estate_data(147k).csv',\n",
       " 'Indian Cities Real Estate': 'Real Estate Data V21.csv',\n",
       " 'Indian House Price Prediction': 'real_estate_dataset.csv'}"
      ]
     },
     "execution_count": 3,
     "metadata": {},
     "output_type": "execute_result"
    }
   ],
   "source": [
    "\n",
    "# Update these paths if your files are elsewhere\n",
    "files = {\n",
    "    \"California Housing Prices\": \"housing.csv\",\n",
    "    \"World Real Estate Data\": \"world_real_estate_data(147k).csv\",\n",
    "    \"Indian Cities Real Estate\": \"Real Estate Data V21.csv\",\n",
    "    \"Indian House Price Prediction\": \"real_estate_dataset.csv\",\n",
    "}\n",
    "files\n"
   ]
  },
  {
   "cell_type": "code",
   "execution_count": 15,
   "id": "14204f55",
   "metadata": {},
   "outputs": [],
   "source": [
    "\n",
    "def overview(df: pd.DataFrame, name: str, head_n: int = 5):\n",
    "    print(f\"\\n=== {name} ===\")\n",
    "    print(\"Shape:\", df.shape)\n",
    "    print(\"\\nColumns:\", list(df.columns))\n",
    "    mv = df.isna().sum()\n",
    "    mv_pct = (mv / len(df) * 100).round(2)\n",
    "    miss = pd.DataFrame({\"missing\": mv, \"missing_%\": mv_pct}).sort_values(\"missing_%\", ascending=False)\n",
    "    print(\"\\nMissing values (top 10):\")\n",
    "    display(miss.head(10))\n",
    "    print(\"\\nHead:\")\n",
    "    display(df.head(head_n))\n"
   ]
  },
  {
   "cell_type": "code",
   "execution_count": 5,
   "id": "a2e58da6",
   "metadata": {},
   "outputs": [
    {
     "name": "stdout",
     "output_type": "stream",
     "text": [
      "Some files could not be loaded:\n",
      "- World Real Estate Data: [Errno 2] No such file or directory: 'world_real_estate_data(147k).csv'\n",
      "- Indian Cities Real Estate: [Errno 2] No such file or directory: 'Real Estate Data V21.csv'\n"
     ]
    }
   ],
   "source": [
    "\n",
    "dfs = {}\n",
    "errors = {}\n",
    "\n",
    "for name, path in files.items():\n",
    "    try:\n",
    "        df = pd.read_csv(path)\n",
    "        dfs[name] = df\n",
    "    except Exception as e:\n",
    "        errors[name] = str(e)\n",
    "\n",
    "if errors:\n",
    "    print(\"Some files could not be loaded:\")\n",
    "    for k, v in errors.items():\n",
    "        print(f\"- {k}: {v}\")\n",
    "else:\n",
    "    print(\"All files loaded successfully!\")\n"
   ]
  },
  {
   "cell_type": "code",
   "execution_count": 6,
   "id": "9a537ad8",
   "metadata": {},
   "outputs": [
    {
     "name": "stdout",
     "output_type": "stream",
     "text": [
      "\n",
      "=== California Housing Prices ===\n",
      "Shape: (20640, 10)\n",
      "\n",
      "Columns: ['longitude', 'latitude', 'housing_median_age', 'total_rooms', 'total_bedrooms', 'population', 'households', 'median_income', 'median_house_value', 'ocean_proximity']\n",
      "\n",
      "Missing values (top 10):\n"
     ]
    },
    {
     "data": {
      "text/html": [
       "<div>\n",
       "<style scoped>\n",
       "    .dataframe tbody tr th:only-of-type {\n",
       "        vertical-align: middle;\n",
       "    }\n",
       "\n",
       "    .dataframe tbody tr th {\n",
       "        vertical-align: top;\n",
       "    }\n",
       "\n",
       "    .dataframe thead th {\n",
       "        text-align: right;\n",
       "    }\n",
       "</style>\n",
       "<table border=\"1\" class=\"dataframe\">\n",
       "  <thead>\n",
       "    <tr style=\"text-align: right;\">\n",
       "      <th></th>\n",
       "      <th>missing</th>\n",
       "      <th>missing_%</th>\n",
       "    </tr>\n",
       "  </thead>\n",
       "  <tbody>\n",
       "    <tr>\n",
       "      <th>total_bedrooms</th>\n",
       "      <td>207</td>\n",
       "      <td>1.0</td>\n",
       "    </tr>\n",
       "    <tr>\n",
       "      <th>longitude</th>\n",
       "      <td>0</td>\n",
       "      <td>0.0</td>\n",
       "    </tr>\n",
       "    <tr>\n",
       "      <th>latitude</th>\n",
       "      <td>0</td>\n",
       "      <td>0.0</td>\n",
       "    </tr>\n",
       "    <tr>\n",
       "      <th>housing_median_age</th>\n",
       "      <td>0</td>\n",
       "      <td>0.0</td>\n",
       "    </tr>\n",
       "    <tr>\n",
       "      <th>total_rooms</th>\n",
       "      <td>0</td>\n",
       "      <td>0.0</td>\n",
       "    </tr>\n",
       "    <tr>\n",
       "      <th>population</th>\n",
       "      <td>0</td>\n",
       "      <td>0.0</td>\n",
       "    </tr>\n",
       "    <tr>\n",
       "      <th>households</th>\n",
       "      <td>0</td>\n",
       "      <td>0.0</td>\n",
       "    </tr>\n",
       "    <tr>\n",
       "      <th>median_income</th>\n",
       "      <td>0</td>\n",
       "      <td>0.0</td>\n",
       "    </tr>\n",
       "    <tr>\n",
       "      <th>median_house_value</th>\n",
       "      <td>0</td>\n",
       "      <td>0.0</td>\n",
       "    </tr>\n",
       "    <tr>\n",
       "      <th>ocean_proximity</th>\n",
       "      <td>0</td>\n",
       "      <td>0.0</td>\n",
       "    </tr>\n",
       "  </tbody>\n",
       "</table>\n",
       "</div>"
      ],
      "text/plain": [
       "                    missing  missing_%\n",
       "total_bedrooms          207        1.0\n",
       "longitude                 0        0.0\n",
       "latitude                  0        0.0\n",
       "housing_median_age        0        0.0\n",
       "total_rooms               0        0.0\n",
       "population                0        0.0\n",
       "households                0        0.0\n",
       "median_income             0        0.0\n",
       "median_house_value        0        0.0\n",
       "ocean_proximity           0        0.0"
      ]
     },
     "metadata": {},
     "output_type": "display_data"
    },
    {
     "name": "stdout",
     "output_type": "stream",
     "text": [
      "\n",
      "Head:\n"
     ]
    },
    {
     "data": {
      "text/html": [
       "<div>\n",
       "<style scoped>\n",
       "    .dataframe tbody tr th:only-of-type {\n",
       "        vertical-align: middle;\n",
       "    }\n",
       "\n",
       "    .dataframe tbody tr th {\n",
       "        vertical-align: top;\n",
       "    }\n",
       "\n",
       "    .dataframe thead th {\n",
       "        text-align: right;\n",
       "    }\n",
       "</style>\n",
       "<table border=\"1\" class=\"dataframe\">\n",
       "  <thead>\n",
       "    <tr style=\"text-align: right;\">\n",
       "      <th></th>\n",
       "      <th>longitude</th>\n",
       "      <th>latitude</th>\n",
       "      <th>housing_median_age</th>\n",
       "      <th>total_rooms</th>\n",
       "      <th>total_bedrooms</th>\n",
       "      <th>population</th>\n",
       "      <th>households</th>\n",
       "      <th>median_income</th>\n",
       "      <th>median_house_value</th>\n",
       "      <th>ocean_proximity</th>\n",
       "    </tr>\n",
       "  </thead>\n",
       "  <tbody>\n",
       "    <tr>\n",
       "      <th>0</th>\n",
       "      <td>-122.23</td>\n",
       "      <td>37.88</td>\n",
       "      <td>41.0</td>\n",
       "      <td>880.0</td>\n",
       "      <td>129.0</td>\n",
       "      <td>322.0</td>\n",
       "      <td>126.0</td>\n",
       "      <td>8.3252</td>\n",
       "      <td>452600.0</td>\n",
       "      <td>NEAR BAY</td>\n",
       "    </tr>\n",
       "    <tr>\n",
       "      <th>1</th>\n",
       "      <td>-122.22</td>\n",
       "      <td>37.86</td>\n",
       "      <td>21.0</td>\n",
       "      <td>7099.0</td>\n",
       "      <td>1106.0</td>\n",
       "      <td>2401.0</td>\n",
       "      <td>1138.0</td>\n",
       "      <td>8.3014</td>\n",
       "      <td>358500.0</td>\n",
       "      <td>NEAR BAY</td>\n",
       "    </tr>\n",
       "    <tr>\n",
       "      <th>2</th>\n",
       "      <td>-122.24</td>\n",
       "      <td>37.85</td>\n",
       "      <td>52.0</td>\n",
       "      <td>1467.0</td>\n",
       "      <td>190.0</td>\n",
       "      <td>496.0</td>\n",
       "      <td>177.0</td>\n",
       "      <td>7.2574</td>\n",
       "      <td>352100.0</td>\n",
       "      <td>NEAR BAY</td>\n",
       "    </tr>\n",
       "    <tr>\n",
       "      <th>3</th>\n",
       "      <td>-122.25</td>\n",
       "      <td>37.85</td>\n",
       "      <td>52.0</td>\n",
       "      <td>1274.0</td>\n",
       "      <td>235.0</td>\n",
       "      <td>558.0</td>\n",
       "      <td>219.0</td>\n",
       "      <td>5.6431</td>\n",
       "      <td>341300.0</td>\n",
       "      <td>NEAR BAY</td>\n",
       "    </tr>\n",
       "    <tr>\n",
       "      <th>4</th>\n",
       "      <td>-122.25</td>\n",
       "      <td>37.85</td>\n",
       "      <td>52.0</td>\n",
       "      <td>1627.0</td>\n",
       "      <td>280.0</td>\n",
       "      <td>565.0</td>\n",
       "      <td>259.0</td>\n",
       "      <td>3.8462</td>\n",
       "      <td>342200.0</td>\n",
       "      <td>NEAR BAY</td>\n",
       "    </tr>\n",
       "  </tbody>\n",
       "</table>\n",
       "</div>"
      ],
      "text/plain": [
       "   longitude  latitude  housing_median_age  total_rooms  total_bedrooms  \\\n",
       "0    -122.23     37.88                41.0        880.0           129.0   \n",
       "1    -122.22     37.86                21.0       7099.0          1106.0   \n",
       "2    -122.24     37.85                52.0       1467.0           190.0   \n",
       "3    -122.25     37.85                52.0       1274.0           235.0   \n",
       "4    -122.25     37.85                52.0       1627.0           280.0   \n",
       "\n",
       "   population  households  median_income  median_house_value ocean_proximity  \n",
       "0       322.0       126.0         8.3252            452600.0        NEAR BAY  \n",
       "1      2401.0      1138.0         8.3014            358500.0        NEAR BAY  \n",
       "2       496.0       177.0         7.2574            352100.0        NEAR BAY  \n",
       "3       558.0       219.0         5.6431            341300.0        NEAR BAY  \n",
       "4       565.0       259.0         3.8462            342200.0        NEAR BAY  "
      ]
     },
     "metadata": {},
     "output_type": "display_data"
    },
    {
     "name": "stdout",
     "output_type": "stream",
     "text": [
      "\n",
      "=== Indian House Price Prediction ===\n",
      "Shape: (287, 9)\n",
      "\n",
      "Columns: ['url', 'beds', 'city', 'date', 'size', 'type', 'baths', 'price', 'neighborhood']\n",
      "\n",
      "Missing values (top 10):\n"
     ]
    },
    {
     "data": {
      "text/html": [
       "<div>\n",
       "<style scoped>\n",
       "    .dataframe tbody tr th:only-of-type {\n",
       "        vertical-align: middle;\n",
       "    }\n",
       "\n",
       "    .dataframe tbody tr th {\n",
       "        vertical-align: top;\n",
       "    }\n",
       "\n",
       "    .dataframe thead th {\n",
       "        text-align: right;\n",
       "    }\n",
       "</style>\n",
       "<table border=\"1\" class=\"dataframe\">\n",
       "  <thead>\n",
       "    <tr style=\"text-align: right;\">\n",
       "      <th></th>\n",
       "      <th>missing</th>\n",
       "      <th>missing_%</th>\n",
       "    </tr>\n",
       "  </thead>\n",
       "  <tbody>\n",
       "    <tr>\n",
       "      <th>url</th>\n",
       "      <td>0</td>\n",
       "      <td>0.0</td>\n",
       "    </tr>\n",
       "    <tr>\n",
       "      <th>beds</th>\n",
       "      <td>0</td>\n",
       "      <td>0.0</td>\n",
       "    </tr>\n",
       "    <tr>\n",
       "      <th>city</th>\n",
       "      <td>0</td>\n",
       "      <td>0.0</td>\n",
       "    </tr>\n",
       "    <tr>\n",
       "      <th>date</th>\n",
       "      <td>0</td>\n",
       "      <td>0.0</td>\n",
       "    </tr>\n",
       "    <tr>\n",
       "      <th>size</th>\n",
       "      <td>0</td>\n",
       "      <td>0.0</td>\n",
       "    </tr>\n",
       "    <tr>\n",
       "      <th>type</th>\n",
       "      <td>0</td>\n",
       "      <td>0.0</td>\n",
       "    </tr>\n",
       "    <tr>\n",
       "      <th>baths</th>\n",
       "      <td>0</td>\n",
       "      <td>0.0</td>\n",
       "    </tr>\n",
       "    <tr>\n",
       "      <th>price</th>\n",
       "      <td>0</td>\n",
       "      <td>0.0</td>\n",
       "    </tr>\n",
       "    <tr>\n",
       "      <th>neighborhood</th>\n",
       "      <td>0</td>\n",
       "      <td>0.0</td>\n",
       "    </tr>\n",
       "  </tbody>\n",
       "</table>\n",
       "</div>"
      ],
      "text/plain": [
       "              missing  missing_%\n",
       "url                 0        0.0\n",
       "beds                0        0.0\n",
       "city                0        0.0\n",
       "date                0        0.0\n",
       "size                0        0.0\n",
       "type                0        0.0\n",
       "baths               0        0.0\n",
       "price               0        0.0\n",
       "neighborhood        0        0.0"
      ]
     },
     "metadata": {},
     "output_type": "display_data"
    },
    {
     "name": "stdout",
     "output_type": "stream",
     "text": [
      "\n",
      "Head:\n"
     ]
    },
    {
     "data": {
      "text/html": [
       "<div>\n",
       "<style scoped>\n",
       "    .dataframe tbody tr th:only-of-type {\n",
       "        vertical-align: middle;\n",
       "    }\n",
       "\n",
       "    .dataframe tbody tr th {\n",
       "        vertical-align: top;\n",
       "    }\n",
       "\n",
       "    .dataframe thead th {\n",
       "        text-align: right;\n",
       "    }\n",
       "</style>\n",
       "<table border=\"1\" class=\"dataframe\">\n",
       "  <thead>\n",
       "    <tr style=\"text-align: right;\">\n",
       "      <th></th>\n",
       "      <th>url</th>\n",
       "      <th>beds</th>\n",
       "      <th>city</th>\n",
       "      <th>date</th>\n",
       "      <th>size</th>\n",
       "      <th>type</th>\n",
       "      <th>baths</th>\n",
       "      <th>price</th>\n",
       "      <th>neighborhood</th>\n",
       "    </tr>\n",
       "  </thead>\n",
       "  <tbody>\n",
       "    <tr>\n",
       "      <th>0</th>\n",
       "      <td>https://www.99acres.com/residential-land-plot-for-sale-in-vaishnavi-urban-county-jigani-bangalore-south-89-sq-yard-t...</td>\n",
       "      <td>0</td>\n",
       "      <td>Bangalore</td>\n",
       "      <td>2025-02-19</td>\n",
       "      <td>799-1258 sqft</td>\n",
       "      <td>Residential land / Plot</td>\n",
       "      <td>0</td>\n",
       "      <td>2317000.0</td>\n",
       "      <td>Jigani</td>\n",
       "    </tr>\n",
       "    <tr>\n",
       "      <th>1</th>\n",
       "      <td>https://www.99acres.com/2-bhk-bedroom-apartment-flat-for-sale-in-prestige-jindal-city-tumkur-road-bangalore-west-108...</td>\n",
       "      <td>2</td>\n",
       "      <td>Bangalore</td>\n",
       "      <td>2025-02-19</td>\n",
       "      <td>1085 sqft</td>\n",
       "      <td>2 BHK Flat</td>\n",
       "      <td>2</td>\n",
       "      <td>12500000.0</td>\n",
       "      <td>Tumkur Road</td>\n",
       "    </tr>\n",
       "    <tr>\n",
       "      <th>2</th>\n",
       "      <td>https://www.99acres.com/sumadhura-capitol-residences-whitefield-bangalore-east-npxid-r433778</td>\n",
       "      <td>3</td>\n",
       "      <td>Bangalore</td>\n",
       "      <td>2025-02-19</td>\n",
       "      <td>1525-2150 sqft</td>\n",
       "      <td>3, 4 BHK Apartment</td>\n",
       "      <td>0</td>\n",
       "      <td>23200000.0</td>\n",
       "      <td>Whitefield</td>\n",
       "    </tr>\n",
       "    <tr>\n",
       "      <th>3</th>\n",
       "      <td>https://www.99acres.com/provident-botanico-soukya-road-bangalore-east-npxid-r424433</td>\n",
       "      <td>2</td>\n",
       "      <td>Bangalore</td>\n",
       "      <td>2025-02-19</td>\n",
       "      <td>658-1003 sqft</td>\n",
       "      <td>2, 3 BHK Apartment</td>\n",
       "      <td>0</td>\n",
       "      <td>889000.0</td>\n",
       "      <td>Soukya Road</td>\n",
       "    </tr>\n",
       "    <tr>\n",
       "      <th>4</th>\n",
       "      <td>https://www.99acres.com/kvg-superior-kalkere-bangalore-south-npxid-r438820</td>\n",
       "      <td>2</td>\n",
       "      <td>Bangalore</td>\n",
       "      <td>2025-02-19</td>\n",
       "      <td>1179-1449 sqft</td>\n",
       "      <td>2, 3 BHK Apartment</td>\n",
       "      <td>0</td>\n",
       "      <td>6483000.0</td>\n",
       "      <td>Kalkere</td>\n",
       "    </tr>\n",
       "  </tbody>\n",
       "</table>\n",
       "</div>"
      ],
      "text/plain": [
       "                                                                                                                       url  \\\n",
       "0  https://www.99acres.com/residential-land-plot-for-sale-in-vaishnavi-urban-county-jigani-bangalore-south-89-sq-yard-t...   \n",
       "1  https://www.99acres.com/2-bhk-bedroom-apartment-flat-for-sale-in-prestige-jindal-city-tumkur-road-bangalore-west-108...   \n",
       "2                             https://www.99acres.com/sumadhura-capitol-residences-whitefield-bangalore-east-npxid-r433778   \n",
       "3                                      https://www.99acres.com/provident-botanico-soukya-road-bangalore-east-npxid-r424433   \n",
       "4                                               https://www.99acres.com/kvg-superior-kalkere-bangalore-south-npxid-r438820   \n",
       "\n",
       "   beds       city        date            size                     type  \\\n",
       "0     0  Bangalore  2025-02-19   799-1258 sqft  Residential land / Plot   \n",
       "1     2  Bangalore  2025-02-19       1085 sqft               2 BHK Flat   \n",
       "2     3  Bangalore  2025-02-19  1525-2150 sqft       3, 4 BHK Apartment   \n",
       "3     2  Bangalore  2025-02-19   658-1003 sqft       2, 3 BHK Apartment   \n",
       "4     2  Bangalore  2025-02-19  1179-1449 sqft       2, 3 BHK Apartment   \n",
       "\n",
       "   baths       price neighborhood  \n",
       "0      0   2317000.0       Jigani  \n",
       "1      2  12500000.0  Tumkur Road  \n",
       "2      0  23200000.0   Whitefield  \n",
       "3      0    889000.0  Soukya Road  \n",
       "4      0   6483000.0      Kalkere  "
      ]
     },
     "metadata": {},
     "output_type": "display_data"
    }
   ],
   "source": [
    "\n",
    "for name, df in dfs.items():\n",
    "    overview(df, name)\n"
   ]
  },
  {
   "cell_type": "code",
   "execution_count": 7,
   "id": "1185642f",
   "metadata": {},
   "outputs": [
    {
     "name": "stdout",
     "output_type": "stream",
     "text": [
      "\n",
      "--- Numeric Summary: California Housing Prices ---\n"
     ]
    },
    {
     "data": {
      "text/html": [
       "<div>\n",
       "<style scoped>\n",
       "    .dataframe tbody tr th:only-of-type {\n",
       "        vertical-align: middle;\n",
       "    }\n",
       "\n",
       "    .dataframe tbody tr th {\n",
       "        vertical-align: top;\n",
       "    }\n",
       "\n",
       "    .dataframe thead th {\n",
       "        text-align: right;\n",
       "    }\n",
       "</style>\n",
       "<table border=\"1\" class=\"dataframe\">\n",
       "  <thead>\n",
       "    <tr style=\"text-align: right;\">\n",
       "      <th></th>\n",
       "      <th>count</th>\n",
       "      <th>mean</th>\n",
       "      <th>std</th>\n",
       "      <th>min</th>\n",
       "      <th>25%</th>\n",
       "      <th>50%</th>\n",
       "      <th>75%</th>\n",
       "      <th>max</th>\n",
       "    </tr>\n",
       "  </thead>\n",
       "  <tbody>\n",
       "    <tr>\n",
       "      <th>longitude</th>\n",
       "      <td>20640.0</td>\n",
       "      <td>-119.569704</td>\n",
       "      <td>2.003532</td>\n",
       "      <td>-124.3500</td>\n",
       "      <td>-121.8000</td>\n",
       "      <td>-118.4900</td>\n",
       "      <td>-118.01000</td>\n",
       "      <td>-114.3100</td>\n",
       "    </tr>\n",
       "    <tr>\n",
       "      <th>latitude</th>\n",
       "      <td>20640.0</td>\n",
       "      <td>35.631861</td>\n",
       "      <td>2.135952</td>\n",
       "      <td>32.5400</td>\n",
       "      <td>33.9300</td>\n",
       "      <td>34.2600</td>\n",
       "      <td>37.71000</td>\n",
       "      <td>41.9500</td>\n",
       "    </tr>\n",
       "    <tr>\n",
       "      <th>housing_median_age</th>\n",
       "      <td>20640.0</td>\n",
       "      <td>28.639486</td>\n",
       "      <td>12.585558</td>\n",
       "      <td>1.0000</td>\n",
       "      <td>18.0000</td>\n",
       "      <td>29.0000</td>\n",
       "      <td>37.00000</td>\n",
       "      <td>52.0000</td>\n",
       "    </tr>\n",
       "    <tr>\n",
       "      <th>total_rooms</th>\n",
       "      <td>20640.0</td>\n",
       "      <td>2635.763081</td>\n",
       "      <td>2181.615252</td>\n",
       "      <td>2.0000</td>\n",
       "      <td>1447.7500</td>\n",
       "      <td>2127.0000</td>\n",
       "      <td>3148.00000</td>\n",
       "      <td>39320.0000</td>\n",
       "    </tr>\n",
       "    <tr>\n",
       "      <th>total_bedrooms</th>\n",
       "      <td>20433.0</td>\n",
       "      <td>537.870553</td>\n",
       "      <td>421.385070</td>\n",
       "      <td>1.0000</td>\n",
       "      <td>296.0000</td>\n",
       "      <td>435.0000</td>\n",
       "      <td>647.00000</td>\n",
       "      <td>6445.0000</td>\n",
       "    </tr>\n",
       "    <tr>\n",
       "      <th>population</th>\n",
       "      <td>20640.0</td>\n",
       "      <td>1425.476744</td>\n",
       "      <td>1132.462122</td>\n",
       "      <td>3.0000</td>\n",
       "      <td>787.0000</td>\n",
       "      <td>1166.0000</td>\n",
       "      <td>1725.00000</td>\n",
       "      <td>35682.0000</td>\n",
       "    </tr>\n",
       "    <tr>\n",
       "      <th>households</th>\n",
       "      <td>20640.0</td>\n",
       "      <td>499.539680</td>\n",
       "      <td>382.329753</td>\n",
       "      <td>1.0000</td>\n",
       "      <td>280.0000</td>\n",
       "      <td>409.0000</td>\n",
       "      <td>605.00000</td>\n",
       "      <td>6082.0000</td>\n",
       "    </tr>\n",
       "    <tr>\n",
       "      <th>median_income</th>\n",
       "      <td>20640.0</td>\n",
       "      <td>3.870671</td>\n",
       "      <td>1.899822</td>\n",
       "      <td>0.4999</td>\n",
       "      <td>2.5634</td>\n",
       "      <td>3.5348</td>\n",
       "      <td>4.74325</td>\n",
       "      <td>15.0001</td>\n",
       "    </tr>\n",
       "    <tr>\n",
       "      <th>median_house_value</th>\n",
       "      <td>20640.0</td>\n",
       "      <td>206855.816909</td>\n",
       "      <td>115395.615874</td>\n",
       "      <td>14999.0000</td>\n",
       "      <td>119600.0000</td>\n",
       "      <td>179700.0000</td>\n",
       "      <td>264725.00000</td>\n",
       "      <td>500001.0000</td>\n",
       "    </tr>\n",
       "  </tbody>\n",
       "</table>\n",
       "</div>"
      ],
      "text/plain": [
       "                      count           mean            std         min  \\\n",
       "longitude           20640.0    -119.569704       2.003532   -124.3500   \n",
       "latitude            20640.0      35.631861       2.135952     32.5400   \n",
       "housing_median_age  20640.0      28.639486      12.585558      1.0000   \n",
       "total_rooms         20640.0    2635.763081    2181.615252      2.0000   \n",
       "total_bedrooms      20433.0     537.870553     421.385070      1.0000   \n",
       "population          20640.0    1425.476744    1132.462122      3.0000   \n",
       "households          20640.0     499.539680     382.329753      1.0000   \n",
       "median_income       20640.0       3.870671       1.899822      0.4999   \n",
       "median_house_value  20640.0  206855.816909  115395.615874  14999.0000   \n",
       "\n",
       "                            25%          50%           75%          max  \n",
       "longitude             -121.8000    -118.4900    -118.01000    -114.3100  \n",
       "latitude                33.9300      34.2600      37.71000      41.9500  \n",
       "housing_median_age      18.0000      29.0000      37.00000      52.0000  \n",
       "total_rooms           1447.7500    2127.0000    3148.00000   39320.0000  \n",
       "total_bedrooms         296.0000     435.0000     647.00000    6445.0000  \n",
       "population             787.0000    1166.0000    1725.00000   35682.0000  \n",
       "households             280.0000     409.0000     605.00000    6082.0000  \n",
       "median_income            2.5634       3.5348       4.74325      15.0001  \n",
       "median_house_value  119600.0000  179700.0000  264725.00000  500001.0000  "
      ]
     },
     "metadata": {},
     "output_type": "display_data"
    },
    {
     "name": "stdout",
     "output_type": "stream",
     "text": [
      "\n",
      "--- Numeric Summary: Indian House Price Prediction ---\n"
     ]
    },
    {
     "data": {
      "text/html": [
       "<div>\n",
       "<style scoped>\n",
       "    .dataframe tbody tr th:only-of-type {\n",
       "        vertical-align: middle;\n",
       "    }\n",
       "\n",
       "    .dataframe tbody tr th {\n",
       "        vertical-align: top;\n",
       "    }\n",
       "\n",
       "    .dataframe thead th {\n",
       "        text-align: right;\n",
       "    }\n",
       "</style>\n",
       "<table border=\"1\" class=\"dataframe\">\n",
       "  <thead>\n",
       "    <tr style=\"text-align: right;\">\n",
       "      <th></th>\n",
       "      <th>count</th>\n",
       "      <th>mean</th>\n",
       "      <th>std</th>\n",
       "      <th>min</th>\n",
       "      <th>25%</th>\n",
       "      <th>50%</th>\n",
       "      <th>75%</th>\n",
       "      <th>max</th>\n",
       "    </tr>\n",
       "  </thead>\n",
       "  <tbody>\n",
       "    <tr>\n",
       "      <th>beds</th>\n",
       "      <td>287.0</td>\n",
       "      <td>2.156794e+00</td>\n",
       "      <td>1.767959e+00</td>\n",
       "      <td>0.0</td>\n",
       "      <td>0.0</td>\n",
       "      <td>2.0</td>\n",
       "      <td>3.0</td>\n",
       "      <td>12.0</td>\n",
       "    </tr>\n",
       "    <tr>\n",
       "      <th>baths</th>\n",
       "      <td>287.0</td>\n",
       "      <td>1.526132e+00</td>\n",
       "      <td>1.771525e+00</td>\n",
       "      <td>0.0</td>\n",
       "      <td>0.0</td>\n",
       "      <td>1.0</td>\n",
       "      <td>2.0</td>\n",
       "      <td>12.0</td>\n",
       "    </tr>\n",
       "    <tr>\n",
       "      <th>price</th>\n",
       "      <td>287.0</td>\n",
       "      <td>1.956434e+07</td>\n",
       "      <td>4.461799e+07</td>\n",
       "      <td>0.0</td>\n",
       "      <td>4738000.0</td>\n",
       "      <td>10000000.0</td>\n",
       "      <td>20850000.0</td>\n",
       "      <td>600000000.0</td>\n",
       "    </tr>\n",
       "  </tbody>\n",
       "</table>\n",
       "</div>"
      ],
      "text/plain": [
       "       count          mean           std  min        25%         50%  \\\n",
       "beds   287.0  2.156794e+00  1.767959e+00  0.0        0.0         2.0   \n",
       "baths  287.0  1.526132e+00  1.771525e+00  0.0        0.0         1.0   \n",
       "price  287.0  1.956434e+07  4.461799e+07  0.0  4738000.0  10000000.0   \n",
       "\n",
       "              75%          max  \n",
       "beds          3.0         12.0  \n",
       "baths         2.0         12.0  \n",
       "price  20850000.0  600000000.0  "
      ]
     },
     "metadata": {},
     "output_type": "display_data"
    }
   ],
   "source": [
    "\n",
    "for name, df in dfs.items():\n",
    "    print(f\"\\n--- Numeric Summary: {name} ---\")\n",
    "    num = df.select_dtypes(include=\"number\")\n",
    "    if num.shape[1] == 0:\n",
    "        print(\"No numeric columns found.\")\n",
    "    else:\n",
    "        display(num.describe().T)\n"
   ]
  },
  {
   "cell_type": "code",
   "execution_count": 8,
   "id": "2a5fca40",
   "metadata": {},
   "outputs": [
    {
     "name": "stdout",
     "output_type": "stream",
     "text": [
      "\n",
      "--- Histograms: California Housing Prices ---\n"
     ]
    },
    {
     "data": {
      "image/png": "[encoded data removed]",
      "text/plain": [
       "<Figure size 640x480 with 1 Axes>"
      ]
     },
     "metadata": {},
     "output_type": "display_data"
    },
    {
     "data": {
      "image/png": "[encoded data removed]",
      "text/plain": [
       "<Figure size 640x480 with 1 Axes>"
      ]
     },
     "metadata": {},
     "output_type": "display_data"
    },
    {
     "data": {
      "image/png": "[encoded data removed]",
      "text/plain": [
       "<Figure size 640x480 with 1 Axes>"
      ]
     },
     "metadata": {},
     "output_type": "display_data"
    },
    {
     "data": {
      "image/png": "[encoded data removed]",
      "text/plain": [
       "<Figure size 640x480 with 1 Axes>"
      ]
     },
     "metadata": {},
     "output_type": "display_data"
    },
    {
     "data": {
      "image/png": "[encoded data removed]",
      "text/plain": [
       "<Figure size 640x480 with 1 Axes>"
      ]
     },
     "metadata": {},
     "output_type": "display_data"
    },
    {
     "data": {
      "image/png": "[encoded data removed]",
      "text/plain": [
       "<Figure size 640x480 with 1 Axes>"
      ]
     },
     "metadata": {},
     "output_type": "display_data"
    },
    {
     "name": "stdout",
     "output_type": "stream",
     "text": [
      "\n",
      "--- Histograms: Indian House Price Prediction ---\n"
     ]
    },
    {
     "data": {
      "image/png": "[encoded data removed]",
      "text/plain": [
       "<Figure size 640x480 with 1 Axes>"
      ]
     },
     "metadata": {},
     "output_type": "display_data"
    },
    {
     "data": {
      "image/png": "[encoded data removed]",
      "text/plain": [
       "<Figure size 640x480 with 1 Axes>"
      ]
     },
     "metadata": {},
     "output_type": "display_data"
    },
    {
     "data": {
      "image/png": "[encoded data removed]",
      "text/plain": [
       "<Figure size 640x480 with 1 Axes>"
      ]
     },
     "metadata": {},
     "output_type": "display_data"
    }
   ],
   "source": [
    "\n",
    "for name, df in dfs.items():\n",
    "    print(f\"\\n--- Histograms: {name} ---\")\n",
    "    num_cols = df.select_dtypes(include=\"number\").columns[:6]  # up to 6 columns\n",
    "    for col in num_cols:\n",
    "        plt.figure()\n",
    "        df[col].plot.hist(bins=30)\n",
    "        plt.title(f\"{name}: {col} distribution\")\n",
    "        plt.xlabel(col)\n",
    "        plt.ylabel(\"Count\")\n",
    "        plt.show()\n"
   ]
  },
  {
   "cell_type": "code",
   "execution_count": 9,
   "id": "8f39d06b",
   "metadata": {},
   "outputs": [
    {
     "name": "stdout",
     "output_type": "stream",
     "text": [
      "\n",
      "--- Correlation (top pairs): California Housing Prices ---\n"
     ]
    },
    {
     "data": {
      "text/plain": [
       "total_bedrooms      households            0.979728\n",
       "total_rooms         total_bedrooms        0.930380\n",
       "longitude           latitude             -0.924664\n",
       "total_rooms         households            0.918484\n",
       "population          households            0.907222\n",
       "total_bedrooms      population            0.877747\n",
       "total_rooms         population            0.857126\n",
       "median_income       median_house_value    0.688075\n",
       "housing_median_age  total_rooms          -0.361262\n",
       "                    total_bedrooms       -0.320451\n",
       "Name: corr, dtype: float64"
      ]
     },
     "metadata": {},
     "output_type": "display_data"
    },
    {
     "name": "stdout",
     "output_type": "stream",
     "text": [
      "\n",
      "--- Correlation (top pairs): Indian House Price Prediction ---\n"
     ]
    },
    {
     "data": {
      "text/plain": [
       "beds   baths    0.747224\n",
       "baths  price    0.034577\n",
       "beds   price    0.020138\n",
       "Name: corr, dtype: float64"
      ]
     },
     "metadata": {},
     "output_type": "display_data"
    }
   ],
   "source": [
    "\n",
    "for name, df in dfs.items():\n",
    "    num = df.select_dtypes(include=\"number\")\n",
    "    if num.shape[1] >= 2:\n",
    "        corr = num.corr(numeric_only=True)\n",
    "        print(f\"\\n--- Correlation (top pairs): {name} ---\")\n",
    "        corr_pairs = (\n",
    "            corr.where(~np.tril(np.ones(corr.shape), k=0).astype(bool))  # lower triangle only\n",
    "            .stack()\n",
    "            .rename(\"corr\")\n",
    "            .sort_values(key=lambda s: s.abs(), ascending=False)\n",
    "        )\n",
    "        display(corr_pairs.head(10))\n",
    "    else:\n",
    "        print(f\"\\n{name}: Not enough numeric columns for correlation.\")\n"
   ]
  },
  {
   "cell_type": "code",
   "execution_count": 10,
   "id": "4b428126",
   "metadata": {},
   "outputs": [
    {
     "name": "stdout",
     "output_type": "stream",
     "text": [
      "\n",
      "--- Categorical Peek: California Housing Prices ---\n",
      "\n",
      "Column: ocean_proximity\n"
     ]
    },
    {
     "data": {
      "text/plain": [
       "ocean_proximity\n",
       "<1H OCEAN     9136\n",
       "INLAND        6551\n",
       "NEAR OCEAN    2658\n",
       "NEAR BAY      2290\n",
       "ISLAND           5\n",
       "Name: count, dtype: int64"
      ]
     },
     "metadata": {},
     "output_type": "display_data"
    },
    {
     "name": "stdout",
     "output_type": "stream",
     "text": [
      "\n",
      "--- Categorical Peek: Indian House Price Prediction ---\n",
      "\n",
      "Column: url\n"
     ]
    },
    {
     "data": {
      "text/plain": [
       "url\n",
       "https://www.99acres.com/5-bhk-bedroom-independent-house-villa-for-sale-in-ramanayapeta-kakinada-3150-sq-ft-spid-X80181911        3\n",
       "https://www.99acres.com/4-bhk-bedroom-independent-house-villa-for-sale-in-sasikanth-nagar-kakinada-2400-sq-ft-spid-O80266555     2\n",
       "https://www.99acres.com/5-bhk-bedroom-independent-house-villa-for-sale-in-sasikanth-nagar-kakinada-28800-sq-ft-spid-O80294923    2\n",
       "https://www.99acres.com/3-bhk-bedroom-independent-house-villa-for-sale-in-atchampeta-kakinada-2600-sq-ft-spid-F79579347          2\n",
       "https://www.99acres.com/3-bhk-bedroom-independent-house-villa-for-sale-in-kovvada-kakinada-1800-sq-ft-spid-W79454185             2\n",
       "https://www.99acres.com/4-bhk-bedroom-independent-house-villa-for-sale-in-vakalapudi-kakinada-165-sq-ft-spid-J78732827           2\n",
       "https://www.99acres.com/sumadhura-capitol-residences-whitefield-bangalore-east-npxid-r433778                                     1\n",
       "https://www.99acres.com/provident-botanico-soukya-road-bangalore-east-npxid-r424433                                              1\n",
       "https://www.99acres.com/kvg-superior-kalkere-bangalore-south-npxid-r438820                                                       1\n",
       "https://www.99acres.com/nambiar-district-25-sarjapur-road-bangalore-east-npxid-r432506                                           1\n",
       "Name: count, dtype: int64"
      ]
     },
     "metadata": {},
     "output_type": "display_data"
    },
    {
     "name": "stdout",
     "output_type": "stream",
     "text": [
      "\n",
      "Column: city\n"
     ]
    },
    {
     "data": {
      "text/plain": [
       "city\n",
       "Kakinada         37\n",
       "Visakhapatnam    25\n",
       "Noida            22\n",
       "Hyderabad        20\n",
       "Chennai          20\n",
       "Mumbai           17\n",
       "Bhubaneswar      10\n",
       "Bangalore        10\n",
       "Gurgaon          10\n",
       "Kochi            10\n",
       "Name: count, dtype: int64"
      ]
     },
     "metadata": {},
     "output_type": "display_data"
    },
    {
     "name": "stdout",
     "output_type": "stream",
     "text": [
      "\n",
      "Column: date\n"
     ]
    },
    {
     "data": {
      "text/plain": [
       "date\n",
       "2025-02-19                  155\n",
       "2025-01-19                   29\n",
       "3mo ago                      15\n",
       "2025-02-19T04:38:34.048Z     10\n",
       "2025-02-19T04:38:35.432Z     10\n",
       "2025-02-19T04:38:38.010Z     10\n",
       "2025-02-19T04:38:36.102Z      9\n",
       "2025-02-19T04:38:38.179Z      8\n",
       "2mo ago                       7\n",
       "1mo ago                       6\n",
       "Name: count, dtype: int64"
      ]
     },
     "metadata": {},
     "output_type": "display_data"
    },
    {
     "name": "stdout",
     "output_type": "stream",
     "text": [
      "\n",
      "Column: size\n"
     ]
    },
    {
     "data": {
      "text/plain": [
       "size\n",
       "Varies           24\n",
       "sq.ft            10\n",
       "various           8\n",
       "Not specified     8\n",
       "1800 sqft         5\n",
       "1350 sqft         4\n",
       "3150 sqft         4\n",
       "1503 sqft         3\n",
       "1000 sqft         3\n",
       "2304 sqft         2\n",
       "Name: count, dtype: int64"
      ]
     },
     "metadata": {},
     "output_type": "display_data"
    },
    {
     "name": "stdout",
     "output_type": "stream",
     "text": [
      "\n",
      "Column: type\n"
     ]
    },
    {
     "data": {
      "text/plain": [
       "type\n",
       "Residential land / Plot    47\n",
       "2, 3 BHK Apartment         21\n",
       "Apartment                  21\n",
       "3, 4 BHK Apartment         19\n",
       "3 BHK Flat                 17\n",
       "Land                       16\n",
       "Villa                      11\n",
       "Flat                       11\n",
       "3 BHK Apartment            10\n",
       "2 BHK Flat                 10\n",
       "Name: count, dtype: int64"
      ]
     },
     "metadata": {},
     "output_type": "display_data"
    }
   ],
   "source": [
    "\n",
    "for name, df in dfs.items():\n",
    "    print(f\"\\n--- Categorical Peek: {name} ---\")\n",
    "    cat = df.select_dtypes(include=[\"object\"])\n",
    "    for col in cat.columns[:5]:  # up to 5 categorical columns\n",
    "        print(f\"\\nColumn: {col}\")\n",
    "        display(cat[col].value_counts().head(10))\n"
   ]
  },
  {
   "cell_type": "code",
   "execution_count": 11,
   "id": "7f1124a7",
   "metadata": {},
   "outputs": [
    {
     "data": {
      "text/plain": [
       "(                         dataset   rows  cols  missing_cells  missing_%\n",
       " 0      California Housing Prices  20640    10            207        0.1\n",
       " 1  Indian House Price Prediction    287     9              0        0.0,\n",
       " 'exploration_report.csv')"
      ]
     },
     "execution_count": 11,
     "metadata": {},
     "output_type": "execute_result"
    }
   ],
   "source": [
    "\n",
    "report_rows = []\n",
    "for name, df in dfs.items():\n",
    "    mv = df.isna().sum()\n",
    "    mv_pct = (mv / len(df) * 100).round(2)\n",
    "    report_rows.append({\n",
    "        \"dataset\": name,\n",
    "        \"rows\": len(df),\n",
    "        \"cols\": df.shape[1],\n",
    "        \"missing_cells\": int(mv.sum()),\n",
    "        \"missing_%\": round((mv.sum() / (len(df) * df.shape[1])) * 100, 2) if len(df) else 0\n",
    "    })\n",
    "report = pd.DataFrame(report_rows)\n",
    "report_path = \"exploration_report.csv\"\n",
    "report.to_csv(report_path, index=False)\n",
    "report, report_path\n"
   ]
  },
  {
   "cell_type": "code",
   "execution_count": 12,
   "id": "0cd96dfd-493a-4eef-806a-04a5bcf1234b",
   "metadata": {},
   "outputs": [
    {
     "name": "stdout",
     "output_type": "stream",
     "text": [
      "<class 'pandas.core.frame.DataFrame'>\n",
      "RangeIndex: 287 entries, 0 to 286\n",
      "Data columns (total 9 columns):\n",
      " #   Column        Non-Null Count  Dtype  \n",
      "---  ------        --------------  -----  \n",
      " 0   url           287 non-null    object \n",
      " 1   beds          287 non-null    int64  \n",
      " 2   city          287 non-null    object \n",
      " 3   date          287 non-null    object \n",
      " 4   size          287 non-null    object \n",
      " 5   type          287 non-null    object \n",
      " 6   baths         287 non-null    int64  \n",
      " 7   price         287 non-null    float64\n",
      " 8   neighborhood  287 non-null    object \n",
      "dtypes: float64(1), int64(2), object(6)\n",
      "memory usage: 20.3+ KB\n"
     ]
    }
   ],
   "source": [
    "df.info()\n"
   ]
  },
  {
   "cell_type": "code",
   "execution_count": 14,
   "id": "5b78deae-9af2-4a4c-9d65-e8fc75a3d167",
   "metadata": {},
   "outputs": [
    {
     "data": {
      "text/html": [
       "<div>\n",
       "<style scoped>\n",
       "    .dataframe tbody tr th:only-of-type {\n",
       "        vertical-align: middle;\n",
       "    }\n",
       "\n",
       "    .dataframe tbody tr th {\n",
       "        vertical-align: top;\n",
       "    }\n",
       "\n",
       "    .dataframe thead th {\n",
       "        text-align: right;\n",
       "    }\n",
       "</style>\n",
       "<table border=\"1\" class=\"dataframe\">\n",
       "  <thead>\n",
       "    <tr style=\"text-align: right;\">\n",
       "      <th></th>\n",
       "      <th>url</th>\n",
       "      <th>beds</th>\n",
       "      <th>city</th>\n",
       "      <th>date</th>\n",
       "      <th>size</th>\n",
       "      <th>type</th>\n",
       "      <th>baths</th>\n",
       "      <th>price</th>\n",
       "      <th>neighborhood</th>\n",
       "    </tr>\n",
       "  </thead>\n",
       "  <tbody>\n",
       "    <tr>\n",
       "      <th>0</th>\n",
       "      <td>https://www.99acres.com/residential-land-plot-for-sale-in-vaishnavi-urban-county-jigani-bangalore-south-89-sq-yard-t...</td>\n",
       "      <td>0</td>\n",
       "      <td>Bangalore</td>\n",
       "      <td>2025-02-19</td>\n",
       "      <td>799-1258 sqft</td>\n",
       "      <td>Residential land / Plot</td>\n",
       "      <td>0</td>\n",
       "      <td>2317000.0</td>\n",
       "      <td>Jigani</td>\n",
       "    </tr>\n",
       "    <tr>\n",
       "      <th>1</th>\n",
       "      <td>https://www.99acres.com/2-bhk-bedroom-apartment-flat-for-sale-in-prestige-jindal-city-tumkur-road-bangalore-west-108...</td>\n",
       "      <td>2</td>\n",
       "      <td>Bangalore</td>\n",
       "      <td>2025-02-19</td>\n",
       "      <td>1085 sqft</td>\n",
       "      <td>2 BHK Flat</td>\n",
       "      <td>2</td>\n",
       "      <td>12500000.0</td>\n",
       "      <td>Tumkur Road</td>\n",
       "    </tr>\n",
       "    <tr>\n",
       "      <th>2</th>\n",
       "      <td>https://www.99acres.com/sumadhura-capitol-residences-whitefield-bangalore-east-npxid-r433778</td>\n",
       "      <td>3</td>\n",
       "      <td>Bangalore</td>\n",
       "      <td>2025-02-19</td>\n",
       "      <td>1525-2150 sqft</td>\n",
       "      <td>3, 4 BHK Apartment</td>\n",
       "      <td>0</td>\n",
       "      <td>23200000.0</td>\n",
       "      <td>Whitefield</td>\n",
       "    </tr>\n",
       "    <tr>\n",
       "      <th>3</th>\n",
       "      <td>https://www.99acres.com/provident-botanico-soukya-road-bangalore-east-npxid-r424433</td>\n",
       "      <td>2</td>\n",
       "      <td>Bangalore</td>\n",
       "      <td>2025-02-19</td>\n",
       "      <td>658-1003 sqft</td>\n",
       "      <td>2, 3 BHK Apartment</td>\n",
       "      <td>0</td>\n",
       "      <td>889000.0</td>\n",
       "      <td>Soukya Road</td>\n",
       "    </tr>\n",
       "    <tr>\n",
       "      <th>4</th>\n",
       "      <td>https://www.99acres.com/kvg-superior-kalkere-bangalore-south-npxid-r438820</td>\n",
       "      <td>2</td>\n",
       "      <td>Bangalore</td>\n",
       "      <td>2025-02-19</td>\n",
       "      <td>1179-1449 sqft</td>\n",
       "      <td>2, 3 BHK Apartment</td>\n",
       "      <td>0</td>\n",
       "      <td>6483000.0</td>\n",
       "      <td>Kalkere</td>\n",
       "    </tr>\n",
       "    <tr>\n",
       "      <th>5</th>\n",
       "      <td>https://www.99acres.com/nambiar-district-25-sarjapur-road-bangalore-east-npxid-r432506</td>\n",
       "      <td>2</td>\n",
       "      <td>Bangalore</td>\n",
       "      <td>2025-02-19</td>\n",
       "      <td>1199-2484 sqft</td>\n",
       "      <td>2, 3, 4 BHK Apartment</td>\n",
       "      <td>0</td>\n",
       "      <td>15000000.0</td>\n",
       "      <td>Sarjapur Road</td>\n",
       "    </tr>\n",
       "    <tr>\n",
       "      <th>6</th>\n",
       "      <td>https://www.99acres.com/mahaveer-celesse-yelahanka-bangalore-north-npxid-r263821</td>\n",
       "      <td>2</td>\n",
       "      <td>Bangalore</td>\n",
       "      <td>2025-02-19</td>\n",
       "      <td>794-1923 sqft</td>\n",
       "      <td>2, 3 BHK Apartment</td>\n",
       "      <td>0</td>\n",
       "      <td>7518000.0</td>\n",
       "      <td>Yelahanka</td>\n",
       "    </tr>\n",
       "    <tr>\n",
       "      <th>7</th>\n",
       "      <td>https://www.99acres.com/keya-life-by-the-lake-hebbal-bangalore-north-npxid-r178479</td>\n",
       "      <td>4</td>\n",
       "      <td>Bangalore</td>\n",
       "      <td>2025-02-19</td>\n",
       "      <td>0 sqft</td>\n",
       "      <td>4, 5 BHK Villa</td>\n",
       "      <td>0</td>\n",
       "      <td>39800000.0</td>\n",
       "      <td>Hebbal</td>\n",
       "    </tr>\n",
       "    <tr>\n",
       "      <th>8</th>\n",
       "      <td>https://www.99acres.com/amrutha-platinum-towers-whitefield-bangalore-east-npxid-r305417</td>\n",
       "      <td>2</td>\n",
       "      <td>Bangalore</td>\n",
       "      <td>2025-02-19</td>\n",
       "      <td>1006-1636 sqft</td>\n",
       "      <td>2, 3 BHK Apartment</td>\n",
       "      <td>0</td>\n",
       "      <td>11100000.0</td>\n",
       "      <td>Whitefield</td>\n",
       "    </tr>\n",
       "    <tr>\n",
       "      <th>9</th>\n",
       "      <td>https://www.99acres.com/keya-spring-bannerghatta-road-bangalore-south-npxid-r401648</td>\n",
       "      <td>2</td>\n",
       "      <td>Bangalore</td>\n",
       "      <td>2025-02-19</td>\n",
       "      <td>1335-2700 sqft</td>\n",
       "      <td>2, 3, 4 BHK Apartment</td>\n",
       "      <td>0</td>\n",
       "      <td>15700000.0</td>\n",
       "      <td>Bannerghatta Road</td>\n",
       "    </tr>\n",
       "  </tbody>\n",
       "</table>\n",
       "</div>"
      ],
      "text/plain": [
       "                                                                                                                       url  \\\n",
       "0  https://www.99acres.com/residential-land-plot-for-sale-in-vaishnavi-urban-county-jigani-bangalore-south-89-sq-yard-t...   \n",
       "1  https://www.99acres.com/2-bhk-bedroom-apartment-flat-for-sale-in-prestige-jindal-city-tumkur-road-bangalore-west-108...   \n",
       "2                             https://www.99acres.com/sumadhura-capitol-residences-whitefield-bangalore-east-npxid-r433778   \n",
       "3                                      https://www.99acres.com/provident-botanico-soukya-road-bangalore-east-npxid-r424433   \n",
       "4                                               https://www.99acres.com/kvg-superior-kalkere-bangalore-south-npxid-r438820   \n",
       "5                                   https://www.99acres.com/nambiar-district-25-sarjapur-road-bangalore-east-npxid-r432506   \n",
       "6                                         https://www.99acres.com/mahaveer-celesse-yelahanka-bangalore-north-npxid-r263821   \n",
       "7                                       https://www.99acres.com/keya-life-by-the-lake-hebbal-bangalore-north-npxid-r178479   \n",
       "8                                  https://www.99acres.com/amrutha-platinum-towers-whitefield-bangalore-east-npxid-r305417   \n",
       "9                                      https://www.99acres.com/keya-spring-bannerghatta-road-bangalore-south-npxid-r401648   \n",
       "\n",
       "   beds       city        date            size                     type  \\\n",
       "0     0  Bangalore  2025-02-19   799-1258 sqft  Residential land / Plot   \n",
       "1     2  Bangalore  2025-02-19       1085 sqft               2 BHK Flat   \n",
       "2     3  Bangalore  2025-02-19  1525-2150 sqft       3, 4 BHK Apartment   \n",
       "3     2  Bangalore  2025-02-19   658-1003 sqft       2, 3 BHK Apartment   \n",
       "4     2  Bangalore  2025-02-19  1179-1449 sqft       2, 3 BHK Apartment   \n",
       "5     2  Bangalore  2025-02-19  1199-2484 sqft    2, 3, 4 BHK Apartment   \n",
       "6     2  Bangalore  2025-02-19   794-1923 sqft       2, 3 BHK Apartment   \n",
       "7     4  Bangalore  2025-02-19          0 sqft           4, 5 BHK Villa   \n",
       "8     2  Bangalore  2025-02-19  1006-1636 sqft       2, 3 BHK Apartment   \n",
       "9     2  Bangalore  2025-02-19  1335-2700 sqft    2, 3, 4 BHK Apartment   \n",
       "\n",
       "   baths       price       neighborhood  \n",
       "0      0   2317000.0             Jigani  \n",
       "1      2  12500000.0        Tumkur Road  \n",
       "2      0  23200000.0         Whitefield  \n",
       "3      0    889000.0        Soukya Road  \n",
       "4      0   6483000.0            Kalkere  \n",
       "5      0  15000000.0      Sarjapur Road  \n",
       "6      0   7518000.0          Yelahanka  \n",
       "7      0  39800000.0             Hebbal  \n",
       "8      0  11100000.0         Whitefield  \n",
       "9      0  15700000.0  Bannerghatta Road  "
      ]
     },
     "execution_count": 14,
     "metadata": {},
     "output_type": "execute_result"
    }
   ],
   "source": [
    "df.head(10)\n"
   ]
  },
  {
   "cell_type": "code",
   "execution_count": null,
   "id": "4d196efb-13de-4cdf-a99f-441a6ce1778b",
   "metadata": {},
   "outputs": [],
   "source": []
  },
  {
   "cell_type": "code",
   "execution_count": null,
   "id": "29b2e4bf-f230-47e1-8401-6799e873ae97",
   "metadata": {},
   "outputs": [],
   "source": []
  }
 ],
 "metadata": {
  "kernelspec": {
   "display_name": "Python [conda env:base] *",
   "language": "python",
   "name": "conda-base-py"
  },
  "language_info": {
   "codemirror_mode": {
    "name": "ipython",
    "version": 3
   },
   "file_extension": ".py",
   "mimetype": "text/x-python",
   "name": "python",
   "nbconvert_exporter": "python",
   "pygments_lexer": "ipython3",
   "version": "3.13.5"
  }
 },
 "nbformat": 4,
 "nbformat_minor": 5
}
