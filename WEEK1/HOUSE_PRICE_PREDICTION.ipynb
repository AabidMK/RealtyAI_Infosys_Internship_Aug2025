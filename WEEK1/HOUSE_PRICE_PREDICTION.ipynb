{
  "nbformat": 4,
  "nbformat_minor": 0,
  "metadata": {
    "colab": {
      "provenance": []
    },
    "kernelspec": {
      "name": "python3",
      "display_name": "Python 3"
    },
    "language_info": {
      "name": "python"
    }
  },
  "cells": [
    {
      "cell_type": "markdown",
      "source": [
        "**House Real estate data from Indian cities**\n",
        "\n",
        "Dataset Link:\n",
        " [https://www.kaggle.com/datasets/rakkesharv/real-estate-data-from-7-indian-cities](https://)"
      ],
      "metadata": {
        "id": "Z8Sd15F7jeYM"
      }
    },
    {
      "cell_type": "code",
      "execution_count": 35,
      "metadata": {
        "id": "lsB-vTPqjcsp"
      },
      "outputs": [],
      "source": [
        "import pandas as pd\n",
        "import numpy as np\n",
        "import matplotlib.pyplot as plt\n",
        "import seaborn as sns"
      ]
    },
    {
      "cell_type": "code",
      "source": [
        "df=pd.read_csv(\"Real Estate Data V21.csv\")"
      ],
      "metadata": {
        "id": "GMUZ3UHJjk7E"
      },
      "execution_count": 36,
      "outputs": []
    },
    {
      "cell_type": "code",
      "source": [
        "df.head()"
      ],
      "metadata": {
        "colab": {
          "base_uri": "https://localhost:8080/",
          "height": 206
        },
        "id": "-ftNf1G2jmMj",
        "outputId": "851769d9-50c1-49cc-e12c-c07fd42c22aa"
      },
      "execution_count": 37,
      "outputs": [
        {
          "output_type": "execute_result",
          "data": {
            "text/plain": [
              "                                      Name  \\\n",
              "0                         Casagrand ECR 14   \n",
              "1    Ramanathan Nagar, Pozhichalur,Chennai   \n",
              "2                              DAC Prapthi   \n",
              "3  Naveenilaya,Chepauk, Triplicane,Chennai   \n",
              "4                 VGN Spring Field Phase 1   \n",
              "\n",
              "                                      Property Title     Price  \\\n",
              "0  4 BHK Flat for sale in Kanathur Reddikuppam, C...  ₹1.99 Cr   \n",
              "1  10 BHK Independent House for sale in Pozhichal...  ₹2.25 Cr   \n",
              "2      3 BHK Flat for sale in West Tambaram, Chennai   ₹1.0 Cr   \n",
              "3  7 BHK Independent House for sale in Triplicane...  ₹3.33 Cr   \n",
              "4              2 BHK Flat for sale in Avadi, Chennai   ₹48.0 L   \n",
              "\n",
              "                                   Location  Total_Area  Price_per_SQFT  \\\n",
              "0             Kanathur Reddikuppam, Chennai        2583          7700.0   \n",
              "1     Ramanathan Nagar, Pozhichalur,Chennai        7000          3210.0   \n",
              "2  Kasthuribai Nagar, West Tambaram,Chennai        1320          7580.0   \n",
              "3   Naveenilaya,Chepauk, Triplicane,Chennai        4250          7840.0   \n",
              "4                            Avadi, Chennai         960          5000.0   \n",
              "\n",
              "                                         Description  Baths Balcony  \n",
              "0  Best 4 BHK Apartment for modern-day lifestyle ...      4     Yes  \n",
              "1  Looking for a 10 BHK Independent House for sal...      6     Yes  \n",
              "2  Property for sale in Tambaram, Chennai. This 3...      3      No  \n",
              "3  Entire Building for sale with 7 units of singl...      5     Yes  \n",
              "4  Property for sale in Avadi, Chennai. This 2 BH...      3     Yes  "
            ],
            "text/html": [
              "\n",
              "  <div id=\"df-7e03bf23-3b39-41d6-9bcb-5557bb3a435f\" class=\"colab-df-container\">\n",
              "    <div>\n",
              "<style scoped>\n",
              "    .dataframe tbody tr th:only-of-type {\n",
              "        vertical-align: middle;\n",
              "    }\n",
              "\n",
              "    .dataframe tbody tr th {\n",
              "        vertical-align: top;\n",
              "    }\n",
              "\n",
              "    .dataframe thead th {\n",
              "        text-align: right;\n",
              "    }\n",
              "</style>\n",
              "<table border=\"1\" class=\"dataframe\">\n",
              "  <thead>\n",
              "    <tr style=\"text-align: right;\">\n",
              "      <th></th>\n",
              "      <th>Name</th>\n",
              "      <th>Property Title</th>\n",
              "      <th>Price</th>\n",
              "      <th>Location</th>\n",
              "      <th>Total_Area</th>\n",
              "      <th>Price_per_SQFT</th>\n",
              "      <th>Description</th>\n",
              "      <th>Baths</th>\n",
              "      <th>Balcony</th>\n",
              "    </tr>\n",
              "  </thead>\n",
              "  <tbody>\n",
              "    <tr>\n",
              "      <th>0</th>\n",
              "      <td>Casagrand ECR 14</td>\n",
              "      <td>4 BHK Flat for sale in Kanathur Reddikuppam, C...</td>\n",
              "      <td>₹1.99 Cr</td>\n",
              "      <td>Kanathur Reddikuppam, Chennai</td>\n",
              "      <td>2583</td>\n",
              "      <td>7700.0</td>\n",
              "      <td>Best 4 BHK Apartment for modern-day lifestyle ...</td>\n",
              "      <td>4</td>\n",
              "      <td>Yes</td>\n",
              "    </tr>\n",
              "    <tr>\n",
              "      <th>1</th>\n",
              "      <td>Ramanathan Nagar, Pozhichalur,Chennai</td>\n",
              "      <td>10 BHK Independent House for sale in Pozhichal...</td>\n",
              "      <td>₹2.25 Cr</td>\n",
              "      <td>Ramanathan Nagar, Pozhichalur,Chennai</td>\n",
              "      <td>7000</td>\n",
              "      <td>3210.0</td>\n",
              "      <td>Looking for a 10 BHK Independent House for sal...</td>\n",
              "      <td>6</td>\n",
              "      <td>Yes</td>\n",
              "    </tr>\n",
              "    <tr>\n",
              "      <th>2</th>\n",
              "      <td>DAC Prapthi</td>\n",
              "      <td>3 BHK Flat for sale in West Tambaram, Chennai</td>\n",
              "      <td>₹1.0 Cr</td>\n",
              "      <td>Kasthuribai Nagar, West Tambaram,Chennai</td>\n",
              "      <td>1320</td>\n",
              "      <td>7580.0</td>\n",
              "      <td>Property for sale in Tambaram, Chennai. This 3...</td>\n",
              "      <td>3</td>\n",
              "      <td>No</td>\n",
              "    </tr>\n",
              "    <tr>\n",
              "      <th>3</th>\n",
              "      <td>Naveenilaya,Chepauk, Triplicane,Chennai</td>\n",
              "      <td>7 BHK Independent House for sale in Triplicane...</td>\n",
              "      <td>₹3.33 Cr</td>\n",
              "      <td>Naveenilaya,Chepauk, Triplicane,Chennai</td>\n",
              "      <td>4250</td>\n",
              "      <td>7840.0</td>\n",
              "      <td>Entire Building for sale with 7 units of singl...</td>\n",
              "      <td>5</td>\n",
              "      <td>Yes</td>\n",
              "    </tr>\n",
              "    <tr>\n",
              "      <th>4</th>\n",
              "      <td>VGN Spring Field Phase 1</td>\n",
              "      <td>2 BHK Flat for sale in Avadi, Chennai</td>\n",
              "      <td>₹48.0 L</td>\n",
              "      <td>Avadi, Chennai</td>\n",
              "      <td>960</td>\n",
              "      <td>5000.0</td>\n",
              "      <td>Property for sale in Avadi, Chennai. This 2 BH...</td>\n",
              "      <td>3</td>\n",
              "      <td>Yes</td>\n",
              "    </tr>\n",
              "  </tbody>\n",
              "</table>\n",
              "</div>\n",
              "    <div class=\"colab-df-buttons\">\n",
              "\n",
              "  <div class=\"colab-df-container\">\n",
              "    <button class=\"colab-df-convert\" onclick=\"convertToInteractive('df-7e03bf23-3b39-41d6-9bcb-5557bb3a435f')\"\n",
              "            title=\"Convert this dataframe to an interactive table.\"\n",
              "            style=\"display:none;\">\n",
              "\n",
              "  <svg xmlns=\"http://www.w3.org/2000/svg\" height=\"24px\" viewBox=\"0 -960 960 960\">\n",
              "    <path d=\"M120-120v-720h720v720H120Zm60-500h600v-160H180v160Zm220 220h160v-160H400v160Zm0 220h160v-160H400v160ZM180-400h160v-160H180v160Zm440 0h160v-160H620v160ZM180-180h160v-160H180v160Zm440 0h160v-160H620v160Z\"/>\n",
              "  </svg>\n",
              "    </button>\n",
              "\n",
              "  <style>\n",
              "    .colab-df-container {\n",
              "      display:flex;\n",
              "      gap: 12px;\n",
              "    }\n",
              "\n",
              "    .colab-df-convert {\n",
              "      background-color: #E8F0FE;\n",
              "      border: none;\n",
              "      border-radius: 50%;\n",
              "      cursor: pointer;\n",
              "      display: none;\n",
              "      fill: #1967D2;\n",
              "      height: 32px;\n",
              "      padding: 0 0 0 0;\n",
              "      width: 32px;\n",
              "    }\n",
              "\n",
              "    .colab-df-convert:hover {\n",
              "      background-color: #E2EBFA;\n",
              "      box-shadow: 0px 1px 2px rgba(60, 64, 67, 0.3), 0px 1px 3px 1px rgba(60, 64, 67, 0.15);\n",
              "      fill: #174EA6;\n",
              "    }\n",
              "\n",
              "    .colab-df-buttons div {\n",
              "      margin-bottom: 4px;\n",
              "    }\n",
              "\n",
              "    [theme=dark] .colab-df-convert {\n",
              "      background-color: #3B4455;\n",
              "      fill: #D2E3FC;\n",
              "    }\n",
              "\n",
              "    [theme=dark] .colab-df-convert:hover {\n",
              "      background-color: #434B5C;\n",
              "      box-shadow: 0px 1px 3px 1px rgba(0, 0, 0, 0.15);\n",
              "      filter: drop-shadow(0px 1px 2px rgba(0, 0, 0, 0.3));\n",
              "      fill: #FFFFFF;\n",
              "    }\n",
              "  </style>\n",
              "\n",
              "    <script>\n",
              "      const buttonEl =\n",
              "        document.querySelector('#df-7e03bf23-3b39-41d6-9bcb-5557bb3a435f button.colab-df-convert');\n",
              "      buttonEl.style.display =\n",
              "        google.colab.kernel.accessAllowed ? 'block' : 'none';\n",
              "\n",
              "      async function convertToInteractive(key) {\n",
              "        const element = document.querySelector('#df-7e03bf23-3b39-41d6-9bcb-5557bb3a435f');\n",
              "        const dataTable =\n",
              "          await google.colab.kernel.invokeFunction('convertToInteractive',\n",
              "                                                    [key], {});\n",
              "        if (!dataTable) return;\n",
              "\n",
              "        const docLinkHtml = 'Like what you see? Visit the ' +\n",
              "          '<a target=\"_blank\" href=https://colab.research.google.com/notebooks/data_table.ipynb>data table notebook</a>'\n",
              "          + ' to learn more about interactive tables.';\n",
              "        element.innerHTML = '';\n",
              "        dataTable['output_type'] = 'display_data';\n",
              "        await google.colab.output.renderOutput(dataTable, element);\n",
              "        const docLink = document.createElement('div');\n",
              "        docLink.innerHTML = docLinkHtml;\n",
              "        element.appendChild(docLink);\n",
              "      }\n",
              "    </script>\n",
              "  </div>\n",
              "\n",
              "\n",
              "    <div id=\"df-f2e6bceb-5706-40cf-8ad5-24da3f5b2a95\">\n",
              "      <button class=\"colab-df-quickchart\" onclick=\"quickchart('df-f2e6bceb-5706-40cf-8ad5-24da3f5b2a95')\"\n",
              "                title=\"Suggest charts\"\n",
              "                style=\"display:none;\">\n",
              "\n",
              "<svg xmlns=\"http://www.w3.org/2000/svg\" height=\"24px\"viewBox=\"0 0 24 24\"\n",
              "     width=\"24px\">\n",
              "    <g>\n",
              "        <path d=\"M19 3H5c-1.1 0-2 .9-2 2v14c0 1.1.9 2 2 2h14c1.1 0 2-.9 2-2V5c0-1.1-.9-2-2-2zM9 17H7v-7h2v7zm4 0h-2V7h2v10zm4 0h-2v-4h2v4z\"/>\n",
              "    </g>\n",
              "</svg>\n",
              "      </button>\n",
              "\n",
              "<style>\n",
              "  .colab-df-quickchart {\n",
              "      --bg-color: #E8F0FE;\n",
              "      --fill-color: #1967D2;\n",
              "      --hover-bg-color: #E2EBFA;\n",
              "      --hover-fill-color: #174EA6;\n",
              "      --disabled-fill-color: #AAA;\n",
              "      --disabled-bg-color: #DDD;\n",
              "  }\n",
              "\n",
              "  [theme=dark] .colab-df-quickchart {\n",
              "      --bg-color: #3B4455;\n",
              "      --fill-color: #D2E3FC;\n",
              "      --hover-bg-color: #434B5C;\n",
              "      --hover-fill-color: #FFFFFF;\n",
              "      --disabled-bg-color: #3B4455;\n",
              "      --disabled-fill-color: #666;\n",
              "  }\n",
              "\n",
              "  .colab-df-quickchart {\n",
              "    background-color: var(--bg-color);\n",
              "    border: none;\n",
              "    border-radius: 50%;\n",
              "    cursor: pointer;\n",
              "    display: none;\n",
              "    fill: var(--fill-color);\n",
              "    height: 32px;\n",
              "    padding: 0;\n",
              "    width: 32px;\n",
              "  }\n",
              "\n",
              "  .colab-df-quickchart:hover {\n",
              "    background-color: var(--hover-bg-color);\n",
              "    box-shadow: 0 1px 2px rgba(60, 64, 67, 0.3), 0 1px 3px 1px rgba(60, 64, 67, 0.15);\n",
              "    fill: var(--button-hover-fill-color);\n",
              "  }\n",
              "\n",
              "  .colab-df-quickchart-complete:disabled,\n",
              "  .colab-df-quickchart-complete:disabled:hover {\n",
              "    background-color: var(--disabled-bg-color);\n",
              "    fill: var(--disabled-fill-color);\n",
              "    box-shadow: none;\n",
              "  }\n",
              "\n",
              "  .colab-df-spinner {\n",
              "    border: 2px solid var(--fill-color);\n",
              "    border-color: transparent;\n",
              "    border-bottom-color: var(--fill-color);\n",
              "    animation:\n",
              "      spin 1s steps(1) infinite;\n",
              "  }\n",
              "\n",
              "  @keyframes spin {\n",
              "    0% {\n",
              "      border-color: transparent;\n",
              "      border-bottom-color: var(--fill-color);\n",
              "      border-left-color: var(--fill-color);\n",
              "    }\n",
              "    20% {\n",
              "      border-color: transparent;\n",
              "      border-left-color: var(--fill-color);\n",
              "      border-top-color: var(--fill-color);\n",
              "    }\n",
              "    30% {\n",
              "      border-color: transparent;\n",
              "      border-left-color: var(--fill-color);\n",
              "      border-top-color: var(--fill-color);\n",
              "      border-right-color: var(--fill-color);\n",
              "    }\n",
              "    40% {\n",
              "      border-color: transparent;\n",
              "      border-right-color: var(--fill-color);\n",
              "      border-top-color: var(--fill-color);\n",
              "    }\n",
              "    60% {\n",
              "      border-color: transparent;\n",
              "      border-right-color: var(--fill-color);\n",
              "    }\n",
              "    80% {\n",
              "      border-color: transparent;\n",
              "      border-right-color: var(--fill-color);\n",
              "      border-bottom-color: var(--fill-color);\n",
              "    }\n",
              "    90% {\n",
              "      border-color: transparent;\n",
              "      border-bottom-color: var(--fill-color);\n",
              "    }\n",
              "  }\n",
              "</style>\n",
              "\n",
              "      <script>\n",
              "        async function quickchart(key) {\n",
              "          const quickchartButtonEl =\n",
              "            document.querySelector('#' + key + ' button');\n",
              "          quickchartButtonEl.disabled = true;  // To prevent multiple clicks.\n",
              "          quickchartButtonEl.classList.add('colab-df-spinner');\n",
              "          try {\n",
              "            const charts = await google.colab.kernel.invokeFunction(\n",
              "                'suggestCharts', [key], {});\n",
              "          } catch (error) {\n",
              "            console.error('Error during call to suggestCharts:', error);\n",
              "          }\n",
              "          quickchartButtonEl.classList.remove('colab-df-spinner');\n",
              "          quickchartButtonEl.classList.add('colab-df-quickchart-complete');\n",
              "        }\n",
              "        (() => {\n",
              "          let quickchartButtonEl =\n",
              "            document.querySelector('#df-f2e6bceb-5706-40cf-8ad5-24da3f5b2a95 button');\n",
              "          quickchartButtonEl.style.display =\n",
              "            google.colab.kernel.accessAllowed ? 'block' : 'none';\n",
              "        })();\n",
              "      </script>\n",
              "    </div>\n",
              "\n",
              "    </div>\n",
              "  </div>\n"
            ],
            "application/vnd.google.colaboratory.intrinsic+json": {
              "type": "dataframe",
              "variable_name": "df",
              "summary": "{\n  \"name\": \"df\",\n  \"rows\": 14528,\n  \"fields\": [\n    {\n      \"column\": \"Name\",\n      \"properties\": {\n        \"dtype\": \"string\",\n        \"num_unique_values\": 9998,\n        \"samples\": [\n          \"EAPL Sri Tirumala Millennium\",\n          \"Hasnabad, Santosh Nagar,Hyderabad\",\n          \"5th Stage, RR Nagar,Bangalore\"\n        ],\n        \"semantic_type\": \"\",\n        \"description\": \"\"\n      }\n    },\n    {\n      \"column\": \"Property Title\",\n      \"properties\": {\n        \"dtype\": \"category\",\n        \"num_unique_values\": 6507,\n        \"samples\": [\n          \"2 BHK Flat for sale in Kurla East, Mumbai\",\n          \"2 BHK Flat for sale in Kashewadi, Pune\",\n          \"4 BHK Independent House for sale in Narhe, Pune\"\n        ],\n        \"semantic_type\": \"\",\n        \"description\": \"\"\n      }\n    },\n    {\n      \"column\": \"Price\",\n      \"properties\": {\n        \"dtype\": \"category\",\n        \"num_unique_values\": 891,\n        \"samples\": [\n          \"\\u20b932.8 L\",\n          \"\\u20b935.0 Cr\",\n          \"\\u20b951.7 L\"\n        ],\n        \"semantic_type\": \"\",\n        \"description\": \"\"\n      }\n    },\n    {\n      \"column\": \"Location\",\n      \"properties\": {\n        \"dtype\": \"category\",\n        \"num_unique_values\": 7050,\n        \"samples\": [\n          \"Shree Shankaranand Society,Walvekar Nagar, Parvati Darshan,Pune\",\n          \"Elango Nagar, Padi,Chennai\",\n          \"Laxminarayana Layout, Munnekollal,Bangalore\"\n        ],\n        \"semantic_type\": \"\",\n        \"description\": \"\"\n      }\n    },\n    {\n      \"column\": \"Total_Area\",\n      \"properties\": {\n        \"dtype\": \"number\",\n        \"std\": 1245,\n        \"min\": 70,\n        \"max\": 35000,\n        \"num_unique_values\": 1774,\n        \"samples\": [\n          2187,\n          1378,\n          1491\n        ],\n        \"semantic_type\": \"\",\n        \"description\": \"\"\n      }\n    },\n    {\n      \"column\": \"Price_per_SQFT\",\n      \"properties\": {\n        \"dtype\": \"number\",\n        \"std\": 49036.068632130635,\n        \"min\": 0.0,\n        \"max\": 999000.0,\n        \"num_unique_values\": 2094,\n        \"samples\": [\n          27200.0,\n          19070.0,\n          884000.0\n        ],\n        \"semantic_type\": \"\",\n        \"description\": \"\"\n      }\n    },\n    {\n      \"column\": \"Description\",\n      \"properties\": {\n        \"dtype\": \"string\",\n        \"num_unique_values\": 14490,\n        \"samples\": [\n          \"3 BHK Apartment for sale in Kolkata. This property is in Kamardanga, which is a coveted investment location. This tastefully designed 3 BHK unit is among Kolkata's best properties. No brokerage to be paid for this property. This 3 BHK property is posted directly by Owner. Contact now for more details. This property in Kolkata is on floor 3. The total number of floors in this Apartment is 4. The price of the Apartment is Rs 32.0 L. Monthly maintenance charges come to Rs 0. It is best suited for all kinds of families. Because this property is spacious, with a built-up area of 750 Square feet. So...\",\n          \"Looking for a good 3 BHK Apartment in Kokapet, Hyderabad? This property is in one of Hyderabad's most popular locations. This is a no brokerage property. The property is on floor 9. Total number of floors is 12. Maintenance charges of this property is Rs 3500. This Apartment is available for Rs 1.95 Cr. This modern unit has a built-up area of 1680 Square feet. This property has a good view and is West-facing. There are 3 bedrooms and 3 bathroom. Lift is available in this Apartment. This is a gated community. Cctv facility is provided to ensure safety. Sports enthusiasts have multiple options s...\",\n          \"Looking for a 3 BHK Apartment for sale in Bengaluru? Your search ends here. Buy this 3 BHK property in Bengaluru's finest location, C V Raman Nagar. This is an owner listed property and there is no brokerage involved. It is on floor 2 out of 3 floors. This Apartment is available at a reasonable price of Rs 1.15 Cr. The built up area of this property is 1360 Square feet. There are a number of reputed schools in the vicinity such as Hello Kids - India, Kendriya Vidyalaya DRDO, and Global City International School. Medical facility is also close at hand with names like The Life Plus Hospital - Dr...\"\n        ],\n        \"semantic_type\": \"\",\n        \"description\": \"\"\n      }\n    },\n    {\n      \"column\": \"Baths\",\n      \"properties\": {\n        \"dtype\": \"number\",\n        \"std\": 0,\n        \"min\": 1,\n        \"max\": 6,\n        \"num_unique_values\": 6,\n        \"samples\": [\n          4,\n          6,\n          1\n        ],\n        \"semantic_type\": \"\",\n        \"description\": \"\"\n      }\n    },\n    {\n      \"column\": \"Balcony\",\n      \"properties\": {\n        \"dtype\": \"category\",\n        \"num_unique_values\": 2,\n        \"samples\": [\n          \"No\",\n          \"Yes\"\n        ],\n        \"semantic_type\": \"\",\n        \"description\": \"\"\n      }\n    }\n  ]\n}"
            }
          },
          "metadata": {},
          "execution_count": 37
        }
      ]
    },
    {
      "cell_type": "markdown",
      "source": [
        "**Having a look on how the dataset looks like**"
      ],
      "metadata": {
        "id": "cGgvUMm7kJxr"
      }
    },
    {
      "cell_type": "markdown",
      "source": [
        "**Initial Data Inspection**"
      ],
      "metadata": {
        "id": "wJvHTiX7kO3A"
      }
    },
    {
      "cell_type": "code",
      "source": [
        "df.shape"
      ],
      "metadata": {
        "colab": {
          "base_uri": "https://localhost:8080/"
        },
        "id": "iXukB5B7kGU_",
        "outputId": "a1becba3-6253-4c34-976b-cf4429bef8d9"
      },
      "execution_count": 38,
      "outputs": [
        {
          "output_type": "execute_result",
          "data": {
            "text/plain": [
              "(14528, 9)"
            ]
          },
          "metadata": {},
          "execution_count": 38
        }
      ]
    },
    {
      "cell_type": "markdown",
      "source": [
        "The dataset has 14528 rows and 9 columns"
      ],
      "metadata": {
        "id": "r8SyE0zikm9s"
      }
    },
    {
      "cell_type": "code",
      "source": [
        "df.columns"
      ],
      "metadata": {
        "colab": {
          "base_uri": "https://localhost:8080/"
        },
        "id": "KC9sEj7Qkmeo",
        "outputId": "1052ee2a-bb26-4803-fd87-1a7ffa6ade13"
      },
      "execution_count": 39,
      "outputs": [
        {
          "output_type": "execute_result",
          "data": {
            "text/plain": [
              "Index(['Name', 'Property Title', 'Price', 'Location', 'Total_Area',\n",
              "       'Price_per_SQFT', 'Description', 'Baths', 'Balcony'],\n",
              "      dtype='object')"
            ]
          },
          "metadata": {},
          "execution_count": 39
        }
      ]
    },
    {
      "cell_type": "code",
      "source": [
        "df.info()"
      ],
      "metadata": {
        "colab": {
          "base_uri": "https://localhost:8080/"
        },
        "id": "WVfWm4PckuN6",
        "outputId": "b5276680-5249-4179-fb2c-b56199b06b9d"
      },
      "execution_count": 40,
      "outputs": [
        {
          "output_type": "stream",
          "name": "stdout",
          "text": [
            "<class 'pandas.core.frame.DataFrame'>\n",
            "RangeIndex: 14528 entries, 0 to 14527\n",
            "Data columns (total 9 columns):\n",
            " #   Column          Non-Null Count  Dtype  \n",
            "---  ------          --------------  -----  \n",
            " 0   Name            14528 non-null  object \n",
            " 1   Property Title  14528 non-null  object \n",
            " 2   Price           14528 non-null  object \n",
            " 3   Location        14528 non-null  object \n",
            " 4   Total_Area      14528 non-null  int64  \n",
            " 5   Price_per_SQFT  14528 non-null  float64\n",
            " 6   Description     14528 non-null  object \n",
            " 7   Baths           14528 non-null  int64  \n",
            " 8   Balcony         14528 non-null  object \n",
            "dtypes: float64(1), int64(2), object(6)\n",
            "memory usage: 1021.6+ KB\n"
          ]
        }
      ]
    },
    {
      "cell_type": "markdown",
      "source": [
        "6 columns contains string values and 3 columns contain numeric values"
      ],
      "metadata": {
        "id": "aJrr31OYk2eK"
      }
    },
    {
      "cell_type": "code",
      "source": [
        "df.describe()"
      ],
      "metadata": {
        "colab": {
          "base_uri": "https://localhost:8080/",
          "height": 300
        },
        "id": "YAuSW8Vfk18v",
        "outputId": "30811403-10f0-4bbd-d033-07830014ee68"
      },
      "execution_count": 41,
      "outputs": [
        {
          "output_type": "execute_result",
          "data": {
            "text/plain": [
              "         Total_Area  Price_per_SQFT         Baths\n",
              "count  14528.000000    14528.000000  14528.000000\n",
              "mean    1297.916988    11719.456222      2.751239\n",
              "std     1245.694305    49036.068632      0.898243\n",
              "min       70.000000        0.000000      1.000000\n",
              "25%      650.000000     4480.000000      2.000000\n",
              "50%     1000.000000     6050.000000      3.000000\n",
              "75%     1439.000000     9312.500000      3.000000\n",
              "max    35000.000000   999000.000000      6.000000"
            ],
            "text/html": [
              "\n",
              "  <div id=\"df-b6dba3f8-d019-43b2-a222-904f88cf56dd\" class=\"colab-df-container\">\n",
              "    <div>\n",
              "<style scoped>\n",
              "    .dataframe tbody tr th:only-of-type {\n",
              "        vertical-align: middle;\n",
              "    }\n",
              "\n",
              "    .dataframe tbody tr th {\n",
              "        vertical-align: top;\n",
              "    }\n",
              "\n",
              "    .dataframe thead th {\n",
              "        text-align: right;\n",
              "    }\n",
              "</style>\n",
              "<table border=\"1\" class=\"dataframe\">\n",
              "  <thead>\n",
              "    <tr style=\"text-align: right;\">\n",
              "      <th></th>\n",
              "      <th>Total_Area</th>\n",
              "      <th>Price_per_SQFT</th>\n",
              "      <th>Baths</th>\n",
              "    </tr>\n",
              "  </thead>\n",
              "  <tbody>\n",
              "    <tr>\n",
              "      <th>count</th>\n",
              "      <td>14528.000000</td>\n",
              "      <td>14528.000000</td>\n",
              "      <td>14528.000000</td>\n",
              "    </tr>\n",
              "    <tr>\n",
              "      <th>mean</th>\n",
              "      <td>1297.916988</td>\n",
              "      <td>11719.456222</td>\n",
              "      <td>2.751239</td>\n",
              "    </tr>\n",
              "    <tr>\n",
              "      <th>std</th>\n",
              "      <td>1245.694305</td>\n",
              "      <td>49036.068632</td>\n",
              "      <td>0.898243</td>\n",
              "    </tr>\n",
              "    <tr>\n",
              "      <th>min</th>\n",
              "      <td>70.000000</td>\n",
              "      <td>0.000000</td>\n",
              "      <td>1.000000</td>\n",
              "    </tr>\n",
              "    <tr>\n",
              "      <th>25%</th>\n",
              "      <td>650.000000</td>\n",
              "      <td>4480.000000</td>\n",
              "      <td>2.000000</td>\n",
              "    </tr>\n",
              "    <tr>\n",
              "      <th>50%</th>\n",
              "      <td>1000.000000</td>\n",
              "      <td>6050.000000</td>\n",
              "      <td>3.000000</td>\n",
              "    </tr>\n",
              "    <tr>\n",
              "      <th>75%</th>\n",
              "      <td>1439.000000</td>\n",
              "      <td>9312.500000</td>\n",
              "      <td>3.000000</td>\n",
              "    </tr>\n",
              "    <tr>\n",
              "      <th>max</th>\n",
              "      <td>35000.000000</td>\n",
              "      <td>999000.000000</td>\n",
              "      <td>6.000000</td>\n",
              "    </tr>\n",
              "  </tbody>\n",
              "</table>\n",
              "</div>\n",
              "    <div class=\"colab-df-buttons\">\n",
              "\n",
              "  <div class=\"colab-df-container\">\n",
              "    <button class=\"colab-df-convert\" onclick=\"convertToInteractive('df-b6dba3f8-d019-43b2-a222-904f88cf56dd')\"\n",
              "            title=\"Convert this dataframe to an interactive table.\"\n",
              "            style=\"display:none;\">\n",
              "\n",
              "  <svg xmlns=\"http://www.w3.org/2000/svg\" height=\"24px\" viewBox=\"0 -960 960 960\">\n",
              "    <path d=\"M120-120v-720h720v720H120Zm60-500h600v-160H180v160Zm220 220h160v-160H400v160Zm0 220h160v-160H400v160ZM180-400h160v-160H180v160Zm440 0h160v-160H620v160ZM180-180h160v-160H180v160Zm440 0h160v-160H620v160Z\"/>\n",
              "  </svg>\n",
              "    </button>\n",
              "\n",
              "  <style>\n",
              "    .colab-df-container {\n",
              "      display:flex;\n",
              "      gap: 12px;\n",
              "    }\n",
              "\n",
              "    .colab-df-convert {\n",
              "      background-color: #E8F0FE;\n",
              "      border: none;\n",
              "      border-radius: 50%;\n",
              "      cursor: pointer;\n",
              "      display: none;\n",
              "      fill: #1967D2;\n",
              "      height: 32px;\n",
              "      padding: 0 0 0 0;\n",
              "      width: 32px;\n",
              "    }\n",
              "\n",
              "    .colab-df-convert:hover {\n",
              "      background-color: #E2EBFA;\n",
              "      box-shadow: 0px 1px 2px rgba(60, 64, 67, 0.3), 0px 1px 3px 1px rgba(60, 64, 67, 0.15);\n",
              "      fill: #174EA6;\n",
              "    }\n",
              "\n",
              "    .colab-df-buttons div {\n",
              "      margin-bottom: 4px;\n",
              "    }\n",
              "\n",
              "    [theme=dark] .colab-df-convert {\n",
              "      background-color: #3B4455;\n",
              "      fill: #D2E3FC;\n",
              "    }\n",
              "\n",
              "    [theme=dark] .colab-df-convert:hover {\n",
              "      background-color: #434B5C;\n",
              "      box-shadow: 0px 1px 3px 1px rgba(0, 0, 0, 0.15);\n",
              "      filter: drop-shadow(0px 1px 2px rgba(0, 0, 0, 0.3));\n",
              "      fill: #FFFFFF;\n",
              "    }\n",
              "  </style>\n",
              "\n",
              "    <script>\n",
              "      const buttonEl =\n",
              "        document.querySelector('#df-b6dba3f8-d019-43b2-a222-904f88cf56dd button.colab-df-convert');\n",
              "      buttonEl.style.display =\n",
              "        google.colab.kernel.accessAllowed ? 'block' : 'none';\n",
              "\n",
              "      async function convertToInteractive(key) {\n",
              "        const element = document.querySelector('#df-b6dba3f8-d019-43b2-a222-904f88cf56dd');\n",
              "        const dataTable =\n",
              "          await google.colab.kernel.invokeFunction('convertToInteractive',\n",
              "                                                    [key], {});\n",
              "        if (!dataTable) return;\n",
              "\n",
              "        const docLinkHtml = 'Like what you see? Visit the ' +\n",
              "          '<a target=\"_blank\" href=https://colab.research.google.com/notebooks/data_table.ipynb>data table notebook</a>'\n",
              "          + ' to learn more about interactive tables.';\n",
              "        element.innerHTML = '';\n",
              "        dataTable['output_type'] = 'display_data';\n",
              "        await google.colab.output.renderOutput(dataTable, element);\n",
              "        const docLink = document.createElement('div');\n",
              "        docLink.innerHTML = docLinkHtml;\n",
              "        element.appendChild(docLink);\n",
              "      }\n",
              "    </script>\n",
              "  </div>\n",
              "\n",
              "\n",
              "    <div id=\"df-3749939c-d338-4c3d-942d-ea76e1f9152a\">\n",
              "      <button class=\"colab-df-quickchart\" onclick=\"quickchart('df-3749939c-d338-4c3d-942d-ea76e1f9152a')\"\n",
              "                title=\"Suggest charts\"\n",
              "                style=\"display:none;\">\n",
              "\n",
              "<svg xmlns=\"http://www.w3.org/2000/svg\" height=\"24px\"viewBox=\"0 0 24 24\"\n",
              "     width=\"24px\">\n",
              "    <g>\n",
              "        <path d=\"M19 3H5c-1.1 0-2 .9-2 2v14c0 1.1.9 2 2 2h14c1.1 0 2-.9 2-2V5c0-1.1-.9-2-2-2zM9 17H7v-7h2v7zm4 0h-2V7h2v10zm4 0h-2v-4h2v4z\"/>\n",
              "    </g>\n",
              "</svg>\n",
              "      </button>\n",
              "\n",
              "<style>\n",
              "  .colab-df-quickchart {\n",
              "      --bg-color: #E8F0FE;\n",
              "      --fill-color: #1967D2;\n",
              "      --hover-bg-color: #E2EBFA;\n",
              "      --hover-fill-color: #174EA6;\n",
              "      --disabled-fill-color: #AAA;\n",
              "      --disabled-bg-color: #DDD;\n",
              "  }\n",
              "\n",
              "  [theme=dark] .colab-df-quickchart {\n",
              "      --bg-color: #3B4455;\n",
              "      --fill-color: #D2E3FC;\n",
              "      --hover-bg-color: #434B5C;\n",
              "      --hover-fill-color: #FFFFFF;\n",
              "      --disabled-bg-color: #3B4455;\n",
              "      --disabled-fill-color: #666;\n",
              "  }\n",
              "\n",
              "  .colab-df-quickchart {\n",
              "    background-color: var(--bg-color);\n",
              "    border: none;\n",
              "    border-radius: 50%;\n",
              "    cursor: pointer;\n",
              "    display: none;\n",
              "    fill: var(--fill-color);\n",
              "    height: 32px;\n",
              "    padding: 0;\n",
              "    width: 32px;\n",
              "  }\n",
              "\n",
              "  .colab-df-quickchart:hover {\n",
              "    background-color: var(--hover-bg-color);\n",
              "    box-shadow: 0 1px 2px rgba(60, 64, 67, 0.3), 0 1px 3px 1px rgba(60, 64, 67, 0.15);\n",
              "    fill: var(--button-hover-fill-color);\n",
              "  }\n",
              "\n",
              "  .colab-df-quickchart-complete:disabled,\n",
              "  .colab-df-quickchart-complete:disabled:hover {\n",
              "    background-color: var(--disabled-bg-color);\n",
              "    fill: var(--disabled-fill-color);\n",
              "    box-shadow: none;\n",
              "  }\n",
              "\n",
              "  .colab-df-spinner {\n",
              "    border: 2px solid var(--fill-color);\n",
              "    border-color: transparent;\n",
              "    border-bottom-color: var(--fill-color);\n",
              "    animation:\n",
              "      spin 1s steps(1) infinite;\n",
              "  }\n",
              "\n",
              "  @keyframes spin {\n",
              "    0% {\n",
              "      border-color: transparent;\n",
              "      border-bottom-color: var(--fill-color);\n",
              "      border-left-color: var(--fill-color);\n",
              "    }\n",
              "    20% {\n",
              "      border-color: transparent;\n",
              "      border-left-color: var(--fill-color);\n",
              "      border-top-color: var(--fill-color);\n",
              "    }\n",
              "    30% {\n",
              "      border-color: transparent;\n",
              "      border-left-color: var(--fill-color);\n",
              "      border-top-color: var(--fill-color);\n",
              "      border-right-color: var(--fill-color);\n",
              "    }\n",
              "    40% {\n",
              "      border-color: transparent;\n",
              "      border-right-color: var(--fill-color);\n",
              "      border-top-color: var(--fill-color);\n",
              "    }\n",
              "    60% {\n",
              "      border-color: transparent;\n",
              "      border-right-color: var(--fill-color);\n",
              "    }\n",
              "    80% {\n",
              "      border-color: transparent;\n",
              "      border-right-color: var(--fill-color);\n",
              "      border-bottom-color: var(--fill-color);\n",
              "    }\n",
              "    90% {\n",
              "      border-color: transparent;\n",
              "      border-bottom-color: var(--fill-color);\n",
              "    }\n",
              "  }\n",
              "</style>\n",
              "\n",
              "      <script>\n",
              "        async function quickchart(key) {\n",
              "          const quickchartButtonEl =\n",
              "            document.querySelector('#' + key + ' button');\n",
              "          quickchartButtonEl.disabled = true;  // To prevent multiple clicks.\n",
              "          quickchartButtonEl.classList.add('colab-df-spinner');\n",
              "          try {\n",
              "            const charts = await google.colab.kernel.invokeFunction(\n",
              "                'suggestCharts', [key], {});\n",
              "          } catch (error) {\n",
              "            console.error('Error during call to suggestCharts:', error);\n",
              "          }\n",
              "          quickchartButtonEl.classList.remove('colab-df-spinner');\n",
              "          quickchartButtonEl.classList.add('colab-df-quickchart-complete');\n",
              "        }\n",
              "        (() => {\n",
              "          let quickchartButtonEl =\n",
              "            document.querySelector('#df-3749939c-d338-4c3d-942d-ea76e1f9152a button');\n",
              "          quickchartButtonEl.style.display =\n",
              "            google.colab.kernel.accessAllowed ? 'block' : 'none';\n",
              "        })();\n",
              "      </script>\n",
              "    </div>\n",
              "\n",
              "    </div>\n",
              "  </div>\n"
            ],
            "application/vnd.google.colaboratory.intrinsic+json": {
              "type": "dataframe",
              "summary": "{\n  \"name\": \"df\",\n  \"rows\": 8,\n  \"fields\": [\n    {\n      \"column\": \"Total_Area\",\n      \"properties\": {\n        \"dtype\": \"number\",\n        \"std\": 12314.304660141746,\n        \"min\": 70.0,\n        \"max\": 35000.0,\n        \"num_unique_values\": 8,\n        \"samples\": [\n          1297.9169878854625,\n          1000.0,\n          14528.0\n        ],\n        \"semantic_type\": \"\",\n        \"description\": \"\"\n      }\n    },\n    {\n      \"column\": \"Price_per_SQFT\",\n      \"properties\": {\n        \"dtype\": \"number\",\n        \"std\": 348723.8715738694,\n        \"min\": 0.0,\n        \"max\": 999000.0,\n        \"num_unique_values\": 8,\n        \"samples\": [\n          11719.45622246696,\n          6050.0,\n          14528.0\n        ],\n        \"semantic_type\": \"\",\n        \"description\": \"\"\n      }\n    },\n    {\n      \"column\": \"Baths\",\n      \"properties\": {\n        \"dtype\": \"number\",\n        \"std\": 5135.481963490523,\n        \"min\": 0.8982432277177818,\n        \"max\": 14528.0,\n        \"num_unique_values\": 7,\n        \"samples\": [\n          14528.0,\n          2.751238986784141,\n          3.0\n        ],\n        \"semantic_type\": \"\",\n        \"description\": \"\"\n      }\n    }\n  ]\n}"
            }
          },
          "metadata": {},
          "execution_count": 41
        }
      ]
    },
    {
      "cell_type": "markdown",
      "source": [
        "Provides insights into numeric columns (like Total Area, Price per SQFT,Baths)"
      ],
      "metadata": {
        "id": "Ya8Zf7gzlZOt"
      }
    },
    {
      "cell_type": "code",
      "source": [
        "df.isnull().sum()"
      ],
      "metadata": {
        "colab": {
          "base_uri": "https://localhost:8080/",
          "height": 366
        },
        "id": "IeZGL6_FliPZ",
        "outputId": "d924e126-9440-44a2-9cf3-206b28149ad3"
      },
      "execution_count": 42,
      "outputs": [
        {
          "output_type": "execute_result",
          "data": {
            "text/plain": [
              "Name              0\n",
              "Property Title    0\n",
              "Price             0\n",
              "Location          0\n",
              "Total_Area        0\n",
              "Price_per_SQFT    0\n",
              "Description       0\n",
              "Baths             0\n",
              "Balcony           0\n",
              "dtype: int64"
            ],
            "text/html": [
              "<div>\n",
              "<style scoped>\n",
              "    .dataframe tbody tr th:only-of-type {\n",
              "        vertical-align: middle;\n",
              "    }\n",
              "\n",
              "    .dataframe tbody tr th {\n",
              "        vertical-align: top;\n",
              "    }\n",
              "\n",
              "    .dataframe thead th {\n",
              "        text-align: right;\n",
              "    }\n",
              "</style>\n",
              "<table border=\"1\" class=\"dataframe\">\n",
              "  <thead>\n",
              "    <tr style=\"text-align: right;\">\n",
              "      <th></th>\n",
              "      <th>0</th>\n",
              "    </tr>\n",
              "  </thead>\n",
              "  <tbody>\n",
              "    <tr>\n",
              "      <th>Name</th>\n",
              "      <td>0</td>\n",
              "    </tr>\n",
              "    <tr>\n",
              "      <th>Property Title</th>\n",
              "      <td>0</td>\n",
              "    </tr>\n",
              "    <tr>\n",
              "      <th>Price</th>\n",
              "      <td>0</td>\n",
              "    </tr>\n",
              "    <tr>\n",
              "      <th>Location</th>\n",
              "      <td>0</td>\n",
              "    </tr>\n",
              "    <tr>\n",
              "      <th>Total_Area</th>\n",
              "      <td>0</td>\n",
              "    </tr>\n",
              "    <tr>\n",
              "      <th>Price_per_SQFT</th>\n",
              "      <td>0</td>\n",
              "    </tr>\n",
              "    <tr>\n",
              "      <th>Description</th>\n",
              "      <td>0</td>\n",
              "    </tr>\n",
              "    <tr>\n",
              "      <th>Baths</th>\n",
              "      <td>0</td>\n",
              "    </tr>\n",
              "    <tr>\n",
              "      <th>Balcony</th>\n",
              "      <td>0</td>\n",
              "    </tr>\n",
              "  </tbody>\n",
              "</table>\n",
              "</div><br><label><b>dtype:</b> int64</label>"
            ]
          },
          "metadata": {},
          "execution_count": 42
        }
      ]
    },
    {
      "cell_type": "markdown",
      "source": [
        "There are no missing values in the dataset"
      ],
      "metadata": {
        "id": "dMnbLwK1lj7S"
      }
    },
    {
      "cell_type": "code",
      "source": [
        "df['Location'].value_counts().head(10)"
      ],
      "metadata": {
        "colab": {
          "base_uri": "https://localhost:8080/",
          "height": 429
        },
        "id": "LfXmzNxmmO9K",
        "outputId": "1f9af1b6-e683-4390-9277-8100bb72531c"
      },
      "execution_count": 79,
      "outputs": [
        {
          "output_type": "execute_result",
          "data": {
            "text/plain": [
              "Location\n",
              "Sector 12 Dwarka, New Delhi                        44\n",
              "Wagholi, Pune                                      39\n",
              "Bannerughatta, Bangalore                           35\n",
              "Horamavu Agara, Horamavu,Bangalore                 32\n",
              "Chakan, Pune                                       32\n",
              "Mattanahalli, Bangalore                            31\n",
              "Veer Sandra, Electronic City,Bangalore             31\n",
              "Yelahanka, Bangalore                               30\n",
              "Veer Sandra, Electronic City Phase II,Bangalore    29\n",
              "Dodsworth Layout, Whitefield,Bangalore             27\n",
              "Name: count, dtype: int64"
            ],
            "text/html": [
              "<div>\n",
              "<style scoped>\n",
              "    .dataframe tbody tr th:only-of-type {\n",
              "        vertical-align: middle;\n",
              "    }\n",
              "\n",
              "    .dataframe tbody tr th {\n",
              "        vertical-align: top;\n",
              "    }\n",
              "\n",
              "    .dataframe thead th {\n",
              "        text-align: right;\n",
              "    }\n",
              "</style>\n",
              "<table border=\"1\" class=\"dataframe\">\n",
              "  <thead>\n",
              "    <tr style=\"text-align: right;\">\n",
              "      <th></th>\n",
              "      <th>count</th>\n",
              "    </tr>\n",
              "    <tr>\n",
              "      <th>Location</th>\n",
              "      <th></th>\n",
              "    </tr>\n",
              "  </thead>\n",
              "  <tbody>\n",
              "    <tr>\n",
              "      <th>Sector 12 Dwarka, New Delhi</th>\n",
              "      <td>44</td>\n",
              "    </tr>\n",
              "    <tr>\n",
              "      <th>Wagholi, Pune</th>\n",
              "      <td>39</td>\n",
              "    </tr>\n",
              "    <tr>\n",
              "      <th>Bannerughatta, Bangalore</th>\n",
              "      <td>35</td>\n",
              "    </tr>\n",
              "    <tr>\n",
              "      <th>Horamavu Agara, Horamavu,Bangalore</th>\n",
              "      <td>32</td>\n",
              "    </tr>\n",
              "    <tr>\n",
              "      <th>Chakan, Pune</th>\n",
              "      <td>32</td>\n",
              "    </tr>\n",
              "    <tr>\n",
              "      <th>Mattanahalli, Bangalore</th>\n",
              "      <td>31</td>\n",
              "    </tr>\n",
              "    <tr>\n",
              "      <th>Veer Sandra, Electronic City,Bangalore</th>\n",
              "      <td>31</td>\n",
              "    </tr>\n",
              "    <tr>\n",
              "      <th>Yelahanka, Bangalore</th>\n",
              "      <td>30</td>\n",
              "    </tr>\n",
              "    <tr>\n",
              "      <th>Veer Sandra, Electronic City Phase II,Bangalore</th>\n",
              "      <td>29</td>\n",
              "    </tr>\n",
              "    <tr>\n",
              "      <th>Dodsworth Layout, Whitefield,Bangalore</th>\n",
              "      <td>27</td>\n",
              "    </tr>\n",
              "  </tbody>\n",
              "</table>\n",
              "</div><br><label><b>dtype:</b> int64</label>"
            ]
          },
          "metadata": {},
          "execution_count": 79
        }
      ]
    },
    {
      "cell_type": "markdown",
      "source": [
        "Above are the top 10 locations by count"
      ],
      "metadata": {
        "id": "Rk3hbfuDmOAt"
      }
    },
    {
      "cell_type": "code",
      "source": [
        "# Function to convert to lakhs\n",
        "def convert_price_to_lakhs(price_str):\n",
        "    if pd.isnull(price_str):\n",
        "        return np.nan\n",
        "\n",
        "    price_str = str(price_str).replace('₹', '').replace(',', '').strip().lower()\n",
        "\n",
        "    if 'cr' in price_str:\n",
        "        try:\n",
        "            num = float(price_str.replace('cr', '').strip())\n",
        "            return round(num * 100, 2)\n",
        "        except:\n",
        "            return np.nan\n",
        "    elif 'l' in price_str:\n",
        "        try:\n",
        "            num = float(price_str.replace('l', '').strip())\n",
        "            return round(num, 2)\n",
        "        except:\n",
        "            return np.nan\n",
        "    else:\n",
        "        return np.nan  # unknown format\n",
        "\n",
        "# Apply to DataFrame\n",
        "df['Price'] = df['Price'].apply(convert_price_to_lakhs)\n",
        "\n",
        "df.rename(columns={'Price': 'Price (in Lakhs)'}, inplace=True)\n"
      ],
      "metadata": {
        "id": "1bLizpCrKbNC"
      },
      "execution_count": 44,
      "outputs": []
    },
    {
      "cell_type": "code",
      "source": [
        "df.head()"
      ],
      "metadata": {
        "colab": {
          "base_uri": "https://localhost:8080/",
          "height": 206
        },
        "id": "1iBjnprELzta",
        "outputId": "8e4d021b-813c-4fca-e541-5c96b3bf1023"
      },
      "execution_count": 45,
      "outputs": [
        {
          "output_type": "execute_result",
          "data": {
            "text/plain": [
              "                                      Name  \\\n",
              "0                         Casagrand ECR 14   \n",
              "1    Ramanathan Nagar, Pozhichalur,Chennai   \n",
              "2                              DAC Prapthi   \n",
              "3  Naveenilaya,Chepauk, Triplicane,Chennai   \n",
              "4                 VGN Spring Field Phase 1   \n",
              "\n",
              "                                      Property Title  Price (in Lakhs)  \\\n",
              "0  4 BHK Flat for sale in Kanathur Reddikuppam, C...             199.0   \n",
              "1  10 BHK Independent House for sale in Pozhichal...             225.0   \n",
              "2      3 BHK Flat for sale in West Tambaram, Chennai             100.0   \n",
              "3  7 BHK Independent House for sale in Triplicane...             333.0   \n",
              "4              2 BHK Flat for sale in Avadi, Chennai              48.0   \n",
              "\n",
              "                                   Location  Total_Area  Price_per_SQFT  \\\n",
              "0             Kanathur Reddikuppam, Chennai        2583          7700.0   \n",
              "1     Ramanathan Nagar, Pozhichalur,Chennai        7000          3210.0   \n",
              "2  Kasthuribai Nagar, West Tambaram,Chennai        1320          7580.0   \n",
              "3   Naveenilaya,Chepauk, Triplicane,Chennai        4250          7840.0   \n",
              "4                            Avadi, Chennai         960          5000.0   \n",
              "\n",
              "                                         Description  Baths Balcony  \n",
              "0  Best 4 BHK Apartment for modern-day lifestyle ...      4     Yes  \n",
              "1  Looking for a 10 BHK Independent House for sal...      6     Yes  \n",
              "2  Property for sale in Tambaram, Chennai. This 3...      3      No  \n",
              "3  Entire Building for sale with 7 units of singl...      5     Yes  \n",
              "4  Property for sale in Avadi, Chennai. This 2 BH...      3     Yes  "
            ],
            "text/html": [
              "\n",
              "  <div id=\"df-26bb54cf-70e5-43a9-bf3d-252e1068204a\" class=\"colab-df-container\">\n",
              "    <div>\n",
              "<style scoped>\n",
              "    .dataframe tbody tr th:only-of-type {\n",
              "        vertical-align: middle;\n",
              "    }\n",
              "\n",
              "    .dataframe tbody tr th {\n",
              "        vertical-align: top;\n",
              "    }\n",
              "\n",
              "    .dataframe thead th {\n",
              "        text-align: right;\n",
              "    }\n",
              "</style>\n",
              "<table border=\"1\" class=\"dataframe\">\n",
              "  <thead>\n",
              "    <tr style=\"text-align: right;\">\n",
              "      <th></th>\n",
              "      <th>Name</th>\n",
              "      <th>Property Title</th>\n",
              "      <th>Price (in Lakhs)</th>\n",
              "      <th>Location</th>\n",
              "      <th>Total_Area</th>\n",
              "      <th>Price_per_SQFT</th>\n",
              "      <th>Description</th>\n",
              "      <th>Baths</th>\n",
              "      <th>Balcony</th>\n",
              "    </tr>\n",
              "  </thead>\n",
              "  <tbody>\n",
              "    <tr>\n",
              "      <th>0</th>\n",
              "      <td>Casagrand ECR 14</td>\n",
              "      <td>4 BHK Flat for sale in Kanathur Reddikuppam, C...</td>\n",
              "      <td>199.0</td>\n",
              "      <td>Kanathur Reddikuppam, Chennai</td>\n",
              "      <td>2583</td>\n",
              "      <td>7700.0</td>\n",
              "      <td>Best 4 BHK Apartment for modern-day lifestyle ...</td>\n",
              "      <td>4</td>\n",
              "      <td>Yes</td>\n",
              "    </tr>\n",
              "    <tr>\n",
              "      <th>1</th>\n",
              "      <td>Ramanathan Nagar, Pozhichalur,Chennai</td>\n",
              "      <td>10 BHK Independent House for sale in Pozhichal...</td>\n",
              "      <td>225.0</td>\n",
              "      <td>Ramanathan Nagar, Pozhichalur,Chennai</td>\n",
              "      <td>7000</td>\n",
              "      <td>3210.0</td>\n",
              "      <td>Looking for a 10 BHK Independent House for sal...</td>\n",
              "      <td>6</td>\n",
              "      <td>Yes</td>\n",
              "    </tr>\n",
              "    <tr>\n",
              "      <th>2</th>\n",
              "      <td>DAC Prapthi</td>\n",
              "      <td>3 BHK Flat for sale in West Tambaram, Chennai</td>\n",
              "      <td>100.0</td>\n",
              "      <td>Kasthuribai Nagar, West Tambaram,Chennai</td>\n",
              "      <td>1320</td>\n",
              "      <td>7580.0</td>\n",
              "      <td>Property for sale in Tambaram, Chennai. This 3...</td>\n",
              "      <td>3</td>\n",
              "      <td>No</td>\n",
              "    </tr>\n",
              "    <tr>\n",
              "      <th>3</th>\n",
              "      <td>Naveenilaya,Chepauk, Triplicane,Chennai</td>\n",
              "      <td>7 BHK Independent House for sale in Triplicane...</td>\n",
              "      <td>333.0</td>\n",
              "      <td>Naveenilaya,Chepauk, Triplicane,Chennai</td>\n",
              "      <td>4250</td>\n",
              "      <td>7840.0</td>\n",
              "      <td>Entire Building for sale with 7 units of singl...</td>\n",
              "      <td>5</td>\n",
              "      <td>Yes</td>\n",
              "    </tr>\n",
              "    <tr>\n",
              "      <th>4</th>\n",
              "      <td>VGN Spring Field Phase 1</td>\n",
              "      <td>2 BHK Flat for sale in Avadi, Chennai</td>\n",
              "      <td>48.0</td>\n",
              "      <td>Avadi, Chennai</td>\n",
              "      <td>960</td>\n",
              "      <td>5000.0</td>\n",
              "      <td>Property for sale in Avadi, Chennai. This 2 BH...</td>\n",
              "      <td>3</td>\n",
              "      <td>Yes</td>\n",
              "    </tr>\n",
              "  </tbody>\n",
              "</table>\n",
              "</div>\n",
              "    <div class=\"colab-df-buttons\">\n",
              "\n",
              "  <div class=\"colab-df-container\">\n",
              "    <button class=\"colab-df-convert\" onclick=\"convertToInteractive('df-26bb54cf-70e5-43a9-bf3d-252e1068204a')\"\n",
              "            title=\"Convert this dataframe to an interactive table.\"\n",
              "            style=\"display:none;\">\n",
              "\n",
              "  <svg xmlns=\"http://www.w3.org/2000/svg\" height=\"24px\" viewBox=\"0 -960 960 960\">\n",
              "    <path d=\"M120-120v-720h720v720H120Zm60-500h600v-160H180v160Zm220 220h160v-160H400v160Zm0 220h160v-160H400v160ZM180-400h160v-160H180v160Zm440 0h160v-160H620v160ZM180-180h160v-160H180v160Zm440 0h160v-160H620v160Z\"/>\n",
              "  </svg>\n",
              "    </button>\n",
              "\n",
              "  <style>\n",
              "    .colab-df-container {\n",
              "      display:flex;\n",
              "      gap: 12px;\n",
              "    }\n",
              "\n",
              "    .colab-df-convert {\n",
              "      background-color: #E8F0FE;\n",
              "      border: none;\n",
              "      border-radius: 50%;\n",
              "      cursor: pointer;\n",
              "      display: none;\n",
              "      fill: #1967D2;\n",
              "      height: 32px;\n",
              "      padding: 0 0 0 0;\n",
              "      width: 32px;\n",
              "    }\n",
              "\n",
              "    .colab-df-convert:hover {\n",
              "      background-color: #E2EBFA;\n",
              "      box-shadow: 0px 1px 2px rgba(60, 64, 67, 0.3), 0px 1px 3px 1px rgba(60, 64, 67, 0.15);\n",
              "      fill: #174EA6;\n",
              "    }\n",
              "\n",
              "    .colab-df-buttons div {\n",
              "      margin-bottom: 4px;\n",
              "    }\n",
              "\n",
              "    [theme=dark] .colab-df-convert {\n",
              "      background-color: #3B4455;\n",
              "      fill: #D2E3FC;\n",
              "    }\n",
              "\n",
              "    [theme=dark] .colab-df-convert:hover {\n",
              "      background-color: #434B5C;\n",
              "      box-shadow: 0px 1px 3px 1px rgba(0, 0, 0, 0.15);\n",
              "      filter: drop-shadow(0px 1px 2px rgba(0, 0, 0, 0.3));\n",
              "      fill: #FFFFFF;\n",
              "    }\n",
              "  </style>\n",
              "\n",
              "    <script>\n",
              "      const buttonEl =\n",
              "        document.querySelector('#df-26bb54cf-70e5-43a9-bf3d-252e1068204a button.colab-df-convert');\n",
              "      buttonEl.style.display =\n",
              "        google.colab.kernel.accessAllowed ? 'block' : 'none';\n",
              "\n",
              "      async function convertToInteractive(key) {\n",
              "        const element = document.querySelector('#df-26bb54cf-70e5-43a9-bf3d-252e1068204a');\n",
              "        const dataTable =\n",
              "          await google.colab.kernel.invokeFunction('convertToInteractive',\n",
              "                                                    [key], {});\n",
              "        if (!dataTable) return;\n",
              "\n",
              "        const docLinkHtml = 'Like what you see? Visit the ' +\n",
              "          '<a target=\"_blank\" href=https://colab.research.google.com/notebooks/data_table.ipynb>data table notebook</a>'\n",
              "          + ' to learn more about interactive tables.';\n",
              "        element.innerHTML = '';\n",
              "        dataTable['output_type'] = 'display_data';\n",
              "        await google.colab.output.renderOutput(dataTable, element);\n",
              "        const docLink = document.createElement('div');\n",
              "        docLink.innerHTML = docLinkHtml;\n",
              "        element.appendChild(docLink);\n",
              "      }\n",
              "    </script>\n",
              "  </div>\n",
              "\n",
              "\n",
              "    <div id=\"df-dba9f498-edee-4325-a7fa-eeeeda222ff6\">\n",
              "      <button class=\"colab-df-quickchart\" onclick=\"quickchart('df-dba9f498-edee-4325-a7fa-eeeeda222ff6')\"\n",
              "                title=\"Suggest charts\"\n",
              "                style=\"display:none;\">\n",
              "\n",
              "<svg xmlns=\"http://www.w3.org/2000/svg\" height=\"24px\"viewBox=\"0 0 24 24\"\n",
              "     width=\"24px\">\n",
              "    <g>\n",
              "        <path d=\"M19 3H5c-1.1 0-2 .9-2 2v14c0 1.1.9 2 2 2h14c1.1 0 2-.9 2-2V5c0-1.1-.9-2-2-2zM9 17H7v-7h2v7zm4 0h-2V7h2v10zm4 0h-2v-4h2v4z\"/>\n",
              "    </g>\n",
              "</svg>\n",
              "      </button>\n",
              "\n",
              "<style>\n",
              "  .colab-df-quickchart {\n",
              "      --bg-color: #E8F0FE;\n",
              "      --fill-color: #1967D2;\n",
              "      --hover-bg-color: #E2EBFA;\n",
              "      --hover-fill-color: #174EA6;\n",
              "      --disabled-fill-color: #AAA;\n",
              "      --disabled-bg-color: #DDD;\n",
              "  }\n",
              "\n",
              "  [theme=dark] .colab-df-quickchart {\n",
              "      --bg-color: #3B4455;\n",
              "      --fill-color: #D2E3FC;\n",
              "      --hover-bg-color: #434B5C;\n",
              "      --hover-fill-color: #FFFFFF;\n",
              "      --disabled-bg-color: #3B4455;\n",
              "      --disabled-fill-color: #666;\n",
              "  }\n",
              "\n",
              "  .colab-df-quickchart {\n",
              "    background-color: var(--bg-color);\n",
              "    border: none;\n",
              "    border-radius: 50%;\n",
              "    cursor: pointer;\n",
              "    display: none;\n",
              "    fill: var(--fill-color);\n",
              "    height: 32px;\n",
              "    padding: 0;\n",
              "    width: 32px;\n",
              "  }\n",
              "\n",
              "  .colab-df-quickchart:hover {\n",
              "    background-color: var(--hover-bg-color);\n",
              "    box-shadow: 0 1px 2px rgba(60, 64, 67, 0.3), 0 1px 3px 1px rgba(60, 64, 67, 0.15);\n",
              "    fill: var(--button-hover-fill-color);\n",
              "  }\n",
              "\n",
              "  .colab-df-quickchart-complete:disabled,\n",
              "  .colab-df-quickchart-complete:disabled:hover {\n",
              "    background-color: var(--disabled-bg-color);\n",
              "    fill: var(--disabled-fill-color);\n",
              "    box-shadow: none;\n",
              "  }\n",
              "\n",
              "  .colab-df-spinner {\n",
              "    border: 2px solid var(--fill-color);\n",
              "    border-color: transparent;\n",
              "    border-bottom-color: var(--fill-color);\n",
              "    animation:\n",
              "      spin 1s steps(1) infinite;\n",
              "  }\n",
              "\n",
              "  @keyframes spin {\n",
              "    0% {\n",
              "      border-color: transparent;\n",
              "      border-bottom-color: var(--fill-color);\n",
              "      border-left-color: var(--fill-color);\n",
              "    }\n",
              "    20% {\n",
              "      border-color: transparent;\n",
              "      border-left-color: var(--fill-color);\n",
              "      border-top-color: var(--fill-color);\n",
              "    }\n",
              "    30% {\n",
              "      border-color: transparent;\n",
              "      border-left-color: var(--fill-color);\n",
              "      border-top-color: var(--fill-color);\n",
              "      border-right-color: var(--fill-color);\n",
              "    }\n",
              "    40% {\n",
              "      border-color: transparent;\n",
              "      border-right-color: var(--fill-color);\n",
              "      border-top-color: var(--fill-color);\n",
              "    }\n",
              "    60% {\n",
              "      border-color: transparent;\n",
              "      border-right-color: var(--fill-color);\n",
              "    }\n",
              "    80% {\n",
              "      border-color: transparent;\n",
              "      border-right-color: var(--fill-color);\n",
              "      border-bottom-color: var(--fill-color);\n",
              "    }\n",
              "    90% {\n",
              "      border-color: transparent;\n",
              "      border-bottom-color: var(--fill-color);\n",
              "    }\n",
              "  }\n",
              "</style>\n",
              "\n",
              "      <script>\n",
              "        async function quickchart(key) {\n",
              "          const quickchartButtonEl =\n",
              "            document.querySelector('#' + key + ' button');\n",
              "          quickchartButtonEl.disabled = true;  // To prevent multiple clicks.\n",
              "          quickchartButtonEl.classList.add('colab-df-spinner');\n",
              "          try {\n",
              "            const charts = await google.colab.kernel.invokeFunction(\n",
              "                'suggestCharts', [key], {});\n",
              "          } catch (error) {\n",
              "            console.error('Error during call to suggestCharts:', error);\n",
              "          }\n",
              "          quickchartButtonEl.classList.remove('colab-df-spinner');\n",
              "          quickchartButtonEl.classList.add('colab-df-quickchart-complete');\n",
              "        }\n",
              "        (() => {\n",
              "          let quickchartButtonEl =\n",
              "            document.querySelector('#df-dba9f498-edee-4325-a7fa-eeeeda222ff6 button');\n",
              "          quickchartButtonEl.style.display =\n",
              "            google.colab.kernel.accessAllowed ? 'block' : 'none';\n",
              "        })();\n",
              "      </script>\n",
              "    </div>\n",
              "\n",
              "    </div>\n",
              "  </div>\n"
            ],
            "application/vnd.google.colaboratory.intrinsic+json": {
              "type": "dataframe",
              "variable_name": "df",
              "summary": "{\n  \"name\": \"df\",\n  \"rows\": 14528,\n  \"fields\": [\n    {\n      \"column\": \"Name\",\n      \"properties\": {\n        \"dtype\": \"string\",\n        \"num_unique_values\": 9998,\n        \"samples\": [\n          \"EAPL Sri Tirumala Millennium\",\n          \"Hasnabad, Santosh Nagar,Hyderabad\",\n          \"5th Stage, RR Nagar,Bangalore\"\n        ],\n        \"semantic_type\": \"\",\n        \"description\": \"\"\n      }\n    },\n    {\n      \"column\": \"Property Title\",\n      \"properties\": {\n        \"dtype\": \"category\",\n        \"num_unique_values\": 6507,\n        \"samples\": [\n          \"2 BHK Flat for sale in Kurla East, Mumbai\",\n          \"2 BHK Flat for sale in Kashewadi, Pune\",\n          \"4 BHK Independent House for sale in Narhe, Pune\"\n        ],\n        \"semantic_type\": \"\",\n        \"description\": \"\"\n      }\n    },\n    {\n      \"column\": \"Price (in Lakhs)\",\n      \"properties\": {\n        \"dtype\": \"number\",\n        \"std\": 186.75708127893512,\n        \"min\": 1.0,\n        \"max\": 8400.0,\n        \"num_unique_values\": 886,\n        \"samples\": [\n          50.0,\n          35.06,\n          36.42\n        ],\n        \"semantic_type\": \"\",\n        \"description\": \"\"\n      }\n    },\n    {\n      \"column\": \"Location\",\n      \"properties\": {\n        \"dtype\": \"category\",\n        \"num_unique_values\": 7050,\n        \"samples\": [\n          \"Shree Shankaranand Society,Walvekar Nagar, Parvati Darshan,Pune\",\n          \"Elango Nagar, Padi,Chennai\",\n          \"Laxminarayana Layout, Munnekollal,Bangalore\"\n        ],\n        \"semantic_type\": \"\",\n        \"description\": \"\"\n      }\n    },\n    {\n      \"column\": \"Total_Area\",\n      \"properties\": {\n        \"dtype\": \"number\",\n        \"std\": 1245,\n        \"min\": 70,\n        \"max\": 35000,\n        \"num_unique_values\": 1774,\n        \"samples\": [\n          2187,\n          1378,\n          1491\n        ],\n        \"semantic_type\": \"\",\n        \"description\": \"\"\n      }\n    },\n    {\n      \"column\": \"Price_per_SQFT\",\n      \"properties\": {\n        \"dtype\": \"number\",\n        \"std\": 49036.068632130635,\n        \"min\": 0.0,\n        \"max\": 999000.0,\n        \"num_unique_values\": 2094,\n        \"samples\": [\n          27200.0,\n          19070.0,\n          884000.0\n        ],\n        \"semantic_type\": \"\",\n        \"description\": \"\"\n      }\n    },\n    {\n      \"column\": \"Description\",\n      \"properties\": {\n        \"dtype\": \"string\",\n        \"num_unique_values\": 14490,\n        \"samples\": [\n          \"3 BHK Apartment for sale in Kolkata. This property is in Kamardanga, which is a coveted investment location. This tastefully designed 3 BHK unit is among Kolkata's best properties. No brokerage to be paid for this property. This 3 BHK property is posted directly by Owner. Contact now for more details. This property in Kolkata is on floor 3. The total number of floors in this Apartment is 4. The price of the Apartment is Rs 32.0 L. Monthly maintenance charges come to Rs 0. It is best suited for all kinds of families. Because this property is spacious, with a built-up area of 750 Square feet. So...\",\n          \"Looking for a good 3 BHK Apartment in Kokapet, Hyderabad? This property is in one of Hyderabad's most popular locations. This is a no brokerage property. The property is on floor 9. Total number of floors is 12. Maintenance charges of this property is Rs 3500. This Apartment is available for Rs 1.95 Cr. This modern unit has a built-up area of 1680 Square feet. This property has a good view and is West-facing. There are 3 bedrooms and 3 bathroom. Lift is available in this Apartment. This is a gated community. Cctv facility is provided to ensure safety. Sports enthusiasts have multiple options s...\",\n          \"Looking for a 3 BHK Apartment for sale in Bengaluru? Your search ends here. Buy this 3 BHK property in Bengaluru's finest location, C V Raman Nagar. This is an owner listed property and there is no brokerage involved. It is on floor 2 out of 3 floors. This Apartment is available at a reasonable price of Rs 1.15 Cr. The built up area of this property is 1360 Square feet. There are a number of reputed schools in the vicinity such as Hello Kids - India, Kendriya Vidyalaya DRDO, and Global City International School. Medical facility is also close at hand with names like The Life Plus Hospital - Dr...\"\n        ],\n        \"semantic_type\": \"\",\n        \"description\": \"\"\n      }\n    },\n    {\n      \"column\": \"Baths\",\n      \"properties\": {\n        \"dtype\": \"number\",\n        \"std\": 0,\n        \"min\": 1,\n        \"max\": 6,\n        \"num_unique_values\": 6,\n        \"samples\": [\n          4,\n          6,\n          1\n        ],\n        \"semantic_type\": \"\",\n        \"description\": \"\"\n      }\n    },\n    {\n      \"column\": \"Balcony\",\n      \"properties\": {\n        \"dtype\": \"category\",\n        \"num_unique_values\": 2,\n        \"samples\": [\n          \"No\",\n          \"Yes\"\n        ],\n        \"semantic_type\": \"\",\n        \"description\": \"\"\n      }\n    }\n  ]\n}"
            }
          },
          "metadata": {},
          "execution_count": 45
        }
      ]
    },
    {
      "cell_type": "code",
      "source": [
        "df.isnull().sum()"
      ],
      "metadata": {
        "colab": {
          "base_uri": "https://localhost:8080/",
          "height": 366
        },
        "id": "t4lPFHMiMJJJ",
        "outputId": "4bf863b7-2e20-4f13-ff58-2ccaeb5c941b"
      },
      "execution_count": 47,
      "outputs": [
        {
          "output_type": "execute_result",
          "data": {
            "text/plain": [
              "Name                0\n",
              "Property Title      0\n",
              "Price (in Lakhs)    5\n",
              "Location            0\n",
              "Total_Area          0\n",
              "Price_per_SQFT      0\n",
              "Description         0\n",
              "Baths               0\n",
              "Balcony             0\n",
              "dtype: int64"
            ],
            "text/html": [
              "<div>\n",
              "<style scoped>\n",
              "    .dataframe tbody tr th:only-of-type {\n",
              "        vertical-align: middle;\n",
              "    }\n",
              "\n",
              "    .dataframe tbody tr th {\n",
              "        vertical-align: top;\n",
              "    }\n",
              "\n",
              "    .dataframe thead th {\n",
              "        text-align: right;\n",
              "    }\n",
              "</style>\n",
              "<table border=\"1\" class=\"dataframe\">\n",
              "  <thead>\n",
              "    <tr style=\"text-align: right;\">\n",
              "      <th></th>\n",
              "      <th>0</th>\n",
              "    </tr>\n",
              "  </thead>\n",
              "  <tbody>\n",
              "    <tr>\n",
              "      <th>Name</th>\n",
              "      <td>0</td>\n",
              "    </tr>\n",
              "    <tr>\n",
              "      <th>Property Title</th>\n",
              "      <td>0</td>\n",
              "    </tr>\n",
              "    <tr>\n",
              "      <th>Price (in Lakhs)</th>\n",
              "      <td>5</td>\n",
              "    </tr>\n",
              "    <tr>\n",
              "      <th>Location</th>\n",
              "      <td>0</td>\n",
              "    </tr>\n",
              "    <tr>\n",
              "      <th>Total_Area</th>\n",
              "      <td>0</td>\n",
              "    </tr>\n",
              "    <tr>\n",
              "      <th>Price_per_SQFT</th>\n",
              "      <td>0</td>\n",
              "    </tr>\n",
              "    <tr>\n",
              "      <th>Description</th>\n",
              "      <td>0</td>\n",
              "    </tr>\n",
              "    <tr>\n",
              "      <th>Baths</th>\n",
              "      <td>0</td>\n",
              "    </tr>\n",
              "    <tr>\n",
              "      <th>Balcony</th>\n",
              "      <td>0</td>\n",
              "    </tr>\n",
              "  </tbody>\n",
              "</table>\n",
              "</div><br><label><b>dtype:</b> int64</label>"
            ]
          },
          "metadata": {},
          "execution_count": 47
        }
      ]
    },
    {
      "cell_type": "code",
      "source": [
        "df.dropna(subset=['Price (in Lakhs)'], inplace=True)"
      ],
      "metadata": {
        "id": "T0CFHVuCLM_Y"
      },
      "execution_count": null,
      "outputs": []
    },
    {
      "cell_type": "code",
      "source": [
        "print(\"Top 5 Most Expensive Properties:\")\n",
        "print(df[['Name', 'Location', 'Price (in Lakhs)']].sort_values(by='Price (in Lakhs)', ascending=False).head())\n"
      ],
      "metadata": {
        "colab": {
          "base_uri": "https://localhost:8080/"
        },
        "id": "fjd9nqFXVoXz",
        "outputId": "a450daa8-19c4-4cae-8ab0-5d3ab1cc524e"
      },
      "execution_count": 87,
      "outputs": [
        {
          "output_type": "stream",
          "name": "stdout",
          "text": [
            "Top 5 Most Expensive Properties:\n",
            "                                     Name                            Location  \\\n",
            "6053     Yashavantapura, Kolar, Bangalore    Yashavantapura, Kolar, Bangalore   \n",
            "12952    Beadonpura, Karol Bagh,New Delhi    Beadonpura, Karol Bagh,New Delhi   \n",
            "11154                      Balewadi, Pune                      Balewadi, Pune   \n",
            "3537   Central Telecom Society, Bangalore  Central Telecom Society, Bangalore   \n",
            "3227                   Skyline City Tower  Maruthi Nagar, Attiguppe,Bangalore   \n",
            "\n",
            "       Price (in Lakhs)  \n",
            "6053             8400.0  \n",
            "12952            6500.0  \n",
            "11154            4020.0  \n",
            "3537             3500.0  \n",
            "3227             3500.0  \n"
          ]
        }
      ]
    },
    {
      "cell_type": "code",
      "source": [
        "print(\"Top 5 Cheapest Per Sqft Properties:\")\n",
        "print(df[['Name', 'Location', 'Price_per_SQFT']].sort_values(by='Price_per_SQFT').head())"
      ],
      "metadata": {
        "colab": {
          "base_uri": "https://localhost:8080/"
        },
        "id": "r2s6cZaeVus_",
        "outputId": "c5be588f-0856-4a17-cc71-3e24b335afbb"
      },
      "execution_count": 88,
      "outputs": [
        {
          "output_type": "stream",
          "name": "stdout",
          "text": [
            "Top 5 Cheapest Per Sqft Properties:\n",
            "                                    Name                           Location  \\\n",
            "5913                Doddabele, Bangalore               Doddabele, Bangalore   \n",
            "12786           Kashmere Gate, New Delhi           Kashmere Gate, New Delhi   \n",
            "9088   Srijani Pally, Duttapukur,Kolkata  Srijani Pally, Duttapukur,Kolkata   \n",
            "1524               Manimangalam, Chennai              Manimangalam, Chennai   \n",
            "9163             Ghola, Agarpara,Kolkata            Ghola, Agarpara,Kolkata   \n",
            "\n",
            "       Price_per_SQFT  \n",
            "5913           1000.0  \n",
            "12786          1000.0  \n",
            "9088           1000.0  \n",
            "1524           1000.0  \n",
            "9163           1000.0  \n"
          ]
        }
      ]
    },
    {
      "cell_type": "code",
      "source": [
        "plt.figure(figsize=(8, 5))\n",
        "sns.scatterplot(x='Total_Area', y='Price (in Lakhs)', data=df)\n",
        "plt.title('Price vs Total Area')\n",
        "plt.xlabel('Total Area (sqft)')\n",
        "plt.ylabel('Price (Lakhs)')\n",
        "plt.show()"
      ],
      "metadata": {
        "id": "b9u4BN3DNSFR",
        "colab": {
          "base_uri": "https://localhost:8080/",
          "height": 487
        },
        "outputId": "c9bce118-3b76-4d0d-cc58-94e47d7af4c3"
      },
      "execution_count": 54,
      "outputs": [
        {
          "output_type": "display_data",
          "data": {
            "text/plain": [
              "<Figure size 800x500 with 1 Axes>"
            ],
            "image/png": "[encoded data removed]"
          },
          "metadata": {}
        }
      ]
    },
    {
      "cell_type": "markdown",
      "source": [
        "Insight: Price generally increases with Total Area, with some outliers."
      ],
      "metadata": {
        "id": "XoZBWMpzNxxx"
      }
    },
    {
      "cell_type": "code",
      "source": [
        "plt.figure(figsize=(10,8))\n",
        "sns.histplot(df['Price (in Lakhs)'], color='blue',bins=30)\n",
        "plt.title('Distribution of Property Prices')\n",
        "plt.xlabel('Price')\n",
        "plt.ylabel('Frequency')\n",
        "plt.show()"
      ],
      "metadata": {
        "colab": {
          "base_uri": "https://localhost:8080/",
          "height": 718
        },
        "id": "hle1OQpsKorr",
        "outputId": "971d3ed2-fefe-46a0-f6d1-8b9d30dce65c"
      },
      "execution_count": 98,
      "outputs": [
        {
          "output_type": "display_data",
          "data": {
            "text/plain": [
              "<Figure size 1000x800 with 1 Axes>"
            ],
            "image/png": "[encoded data removed]"
          },
          "metadata": {}
        }
      ]
    },
    {
      "cell_type": "markdown",
      "source": [
        "Insight: The data is skewed to the right, meaning most properties have lower prices and lie in one range, and fewer properties have very high prices."
      ],
      "metadata": {
        "id": "SPNu4tRJOpRh"
      }
    },
    {
      "cell_type": "code",
      "source": [
        "plt.figure(figsize=(10,6))\n",
        "sns.histplot(df['Price_per_SQFT'], color='green',bins=10)\n",
        "plt.title('Distribution of Price per Square Foot')\n",
        "plt.xlabel('Price per Square Foot')\n",
        "plt.ylabel('Frequency')\n",
        "plt.show()\n",
        "# Insight: Distribution of Price per SQFT is also skewed right."
      ],
      "metadata": {
        "colab": {
          "base_uri": "https://localhost:8080/",
          "height": 564
        },
        "id": "d-wVHrA3Lh6H",
        "outputId": "31bf9a55-ff03-415e-f558-c83a8784d338"
      },
      "execution_count": 104,
      "outputs": [
        {
          "output_type": "display_data",
          "data": {
            "text/plain": [
              "<Figure size 1000x600 with 1 Axes>"
            ],
            "image/png": "[encoded data removed]"
          },
          "metadata": {}
        }
      ]
    },
    {
      "cell_type": "markdown",
      "source": [],
      "metadata": {
        "id": "1sDe8o3bQ2R5"
      }
    },
    {
      "cell_type": "code",
      "source": [
        "sns.histplot(df['Total_Area'].dropna(), bins=30)\n",
        "plt.title(\"Distribution of Property Area\")\n",
        "plt.xlabel(\"Total Area (sqft)\")\n",
        "plt.ylabel(\"Count\")\n",
        "plt.show()\n"
      ],
      "metadata": {
        "colab": {
          "base_uri": "https://localhost:8080/",
          "height": 472
        },
        "id": "yklMZ-ktUokU",
        "outputId": "fdec65cb-a253-414b-a8a5-ad0284a0ebca"
      },
      "execution_count": 84,
      "outputs": [
        {
          "output_type": "display_data",
          "data": {
            "text/plain": [
              "<Figure size 640x480 with 1 Axes>"
            ],
            "image/png": "[encoded data removed]"
          },
          "metadata": {}
        }
      ]
    },
    {
      "cell_type": "markdown",
      "source": [
        "Insight: The distribution of Total Area is skewed to the right, with most properties having smaller areas."
      ],
      "metadata": {
        "id": "wfLCjqRJVDnl"
      }
    },
    {
      "cell_type": "code",
      "metadata": {
        "colab": {
          "base_uri": "https://localhost:8080/",
          "height": 407
        },
        "id": "d562683d",
        "outputId": "4edbcb3f-b571-4c36-9cf6-39286cee481a"
      },
      "source": [
        "plt.figure(figsize=(6, 4))\n",
        "df['Balcony'].value_counts().plot(kind='bar', color=['skyblue', 'salmon'])\n",
        "plt.title('Count of Properties by Balcony')\n",
        "plt.xlabel('Balcony')\n",
        "plt.ylabel('Number of Properties')\n",
        "plt.xticks(rotation=0)\n",
        "plt.tight_layout()\n",
        "plt.show()"
      ],
      "execution_count": 70,
      "outputs": [
        {
          "output_type": "display_data",
          "data": {
            "text/plain": [
              "<Figure size 600x400 with 1 Axes>"
            ],
            "image/png": "[encoded data removed]"
          },
          "metadata": {}
        }
      ]
    },
    {
      "cell_type": "markdown",
      "metadata": {
        "id": "5b59d659"
      },
      "source": [
        "Insight: There are more properties with balconies than properties without balconies in the dataset."
      ]
    },
    {
      "cell_type": "code",
      "metadata": {
        "id": "66bc8b52"
      },
      "source": [
        "df['Balcony'] = df['Balcony'].map({'Yes': 1, 'No': 0})"
      ],
      "execution_count": 80,
      "outputs": []
    },
    {
      "cell_type": "code",
      "metadata": {
        "colab": {
          "base_uri": "https://localhost:8080/",
          "height": 545
        },
        "id": "7a151290",
        "outputId": "265fc7d3-221c-40e4-c0ea-f7e0b466e7e1"
      },
      "source": [
        "numerical_cols = ['Total_Area', 'Price_per_SQFT', 'Baths', 'Price (in Lakhs)', 'Balcony']\n",
        "correlation_matrix = df[numerical_cols].corr()\n",
        "\n",
        "plt.figure(figsize=(8, 6))\n",
        "sns.heatmap(correlation_matrix, annot=True, cmap='coolwarm', fmt=\".2f\", linewidths=.5)\n",
        "plt.title('Correlation Heatmap of Numerical Variables')\n",
        "plt.show()"
      ],
      "execution_count": 81,
      "outputs": [
        {
          "output_type": "display_data",
          "data": {
            "text/plain": [
              "<Figure size 800x600 with 2 Axes>"
            ],
            "image/png": "[encoded data removed]"
          },
          "metadata": {}
        }
      ]
    },
    {
      "cell_type": "markdown",
      "metadata": {
        "id": "c076475c"
      },
      "source": [
        "Insight: Total Area and Baths have the strongest positive correlation, while Price per SQFT has weak correlations with other numerical variables."
      ]
    },
    {
      "cell_type": "code",
      "source": [],
      "metadata": {
        "id": "rfiL2BVVUYNi"
      },
      "execution_count": null,
      "outputs": []
    }
  ]
}