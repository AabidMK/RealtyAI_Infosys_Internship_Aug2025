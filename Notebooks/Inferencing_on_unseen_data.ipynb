{
  "nbformat": 4,
  "nbformat_minor": 0,
  "metadata": {
    "colab": {
      "provenance": [],
      "authorship_tag": "ABX9TyP51hf9CwY68PfTMBj1ZHwX",
      "include_colab_link": true
    },
    "kernelspec": {
      "name": "python3",
      "display_name": "Python 3"
    },
    "language_info": {
      "name": "python"
    }
  },
  "cells": [
    {
      "cell_type": "markdown",
      "metadata": {
        "id": "view-in-github",
        "colab_type": "text"
      },
      "source": [
        "<a href=\"https://colab.research.google.com/github/AabidMK/RealtyAI_Infosys_Internship_Aug2025/blob/main/Inferencing_on_unseen_data.ipynb\" target=\"_parent\"><img src=\"https://colab.research.google.com/assets/colab-badge.svg\" alt=\"Open In Colab\"/></a>"
      ]
    },
    {
      "cell_type": "code",
      "source": [
        "import joblib\n",
        "# Load pipeline\n",
        "pipeline = joblib.load(\"real_estate_pipeline.pkl\")\n",
        "# Load model\n",
        "model = joblib.load(\"bagging_regressor_model.pkl\")"
      ],
      "metadata": {
        "id": "8ku_RqD8WIGn"
      },
      "execution_count": null,
      "outputs": []
    },
    {
      "cell_type": "code",
      "source": [
        "import pandas as pd\n",
        "# Example unseen data\n",
        "unseen_data = pd.DataFrame({\n",
        "    'area': [1200, 1800, 2500],\n",
        "    'bedrooms': [2, 3, 4],\n",
        "    'bathrooms': [1, 2, 3]\n",
        "})"
      ],
      "metadata": {
        "id": "2BucSAGpWIDH"
      },
      "execution_count": null,
      "outputs": []
    },
    {
      "cell_type": "code",
      "source": [
        "print(type(pipeline))\n",
        "print(pipeline)"
      ],
      "metadata": {
        "colab": {
          "base_uri": "https://localhost:8080/"
        },
        "id": "X2pfXxJAcN9v",
        "outputId": "6c753883-e77a-4136-db28-c4656996ba06"
      },
      "execution_count": null,
      "outputs": [
        {
          "output_type": "stream",
          "name": "stdout",
          "text": [
            "<class 'sklearn.pipeline.Pipeline'>\n",
            "Pipeline(steps=[('preprocessor',\n",
            "                 ColumnTransformer(remainder='passthrough',\n",
            "                                   transformers=[('num', StandardScaler(),\n",
            "                                                  Index(['Total_Area', 'Price_per_SQFT', 'Baths', 'BHK', 'Balcony_Encoded'], dtype='object')),\n",
            "                                                 ('cat',\n",
            "                                                  OneHotEncoder(handle_unknown='ignore'),\n",
            "                                                  Index(['Name', 'Description', 'City'], dtype='object'))])),\n",
            "                ('regressor', BaggingRegressor(random_state=42))])\n"
          ]
        }
      ]
    },
    {
      "cell_type": "code",
      "source": [
        "import pandas as pd\n",
        "import joblib\n",
        "# Load the pipeline\n",
        "pipeline = joblib.load(\"real_estate_pipeline.pkl\")\n",
        "# Example unseen data (make sure column names match training)\n",
        "unseen_data = pd.DataFrame({\n",
        "    'Total_Area': [1200, 1800, 2500],\n",
        "    'Price_per_SQFT': [5000, 6000, 7500],\n",
        "    'Baths': [2, 3, 4],\n",
        "    'BHK': [2, 3, 4],\n",
        "    'Balcony_Encoded': [1, 0, 2],\n",
        "    'Name': [\"Project A\", \"Project B\", \"Project C\"],\n",
        "    'Description': [\"Good flat\", \"Luxury villa\", \"Affordable house\"],\n",
        "    'City': [\"Hyderabad\", \"Delhi\", \"Mumbai\"]\n",
        "})"
      ],
      "metadata": {
        "id": "17v8TN9OcWg0"
      },
      "execution_count": null,
      "outputs": []
    },
    {
      "cell_type": "code",
      "source": [
        "predictions = pipeline.predict(unseen_data)"
      ],
      "metadata": {
        "id": "fHkjXGQVcc0j"
      },
      "execution_count": null,
      "outputs": []
    },
    {
      "cell_type": "code",
      "source": [
        "from sklearn.pipeline import Pipeline\n",
        "import joblib\n",
        "from sklearn.compose import ColumnTransformer\n",
        "from sklearn.preprocessing import StandardScaler, OneHotEncoder\n",
        "from sklearn.ensemble import BaggingRegressor\n",
        "import pandas as pd\n",
        "preprocessor = ColumnTransformer(remainder='passthrough',\n",
        "                                 transformers=[\n",
        "                                     ('num', StandardScaler(),\n",
        "                                      pd.Index(['Total_Area', 'Price_per_SQFT', 'Baths', 'BHK', 'Balcony_Encoded'], dtype='object')),\n",
        "                                     ('cat',\n",
        "                                      OneHotEncoder(handle_unknown='ignore'),\n",
        "                                      pd.Index(['Name', 'Description', 'City'], dtype='object'))\n",
        "                                 ])\n",
        "\n",
        "\n",
        "pipeline = Pipeline(steps=[\n",
        "    ('preprocess', preprocessor),\n",
        "    ('model', BaggingRegressor(random_state=42))\n",
        "])"
      ],
      "metadata": {
        "id": "TuJky6kdceOE"
      },
      "execution_count": null,
      "outputs": []
    },
    {
      "cell_type": "code",
      "source": [
        "pipeline = joblib.load(\"real_estate_pipeline.pkl\")\n",
        "predictions = pipeline.predict(unseen_data)"
      ],
      "metadata": {
        "id": "5TW0KTnVdnN1"
      },
      "execution_count": null,
      "outputs": []
    },
    {
      "cell_type": "code",
      "source": [
        "print(\"Predictions:\", predictions)"
      ],
      "metadata": {
        "colab": {
          "base_uri": "https://localhost:8080/"
        },
        "id": "vfbTanGzWH9w",
        "outputId": "54d4991c-c3a2-4b8b-b854-a6ed95f1f9a3"
      },
      "execution_count": null,
      "outputs": [
        {
          "output_type": "stream",
          "name": "stdout",
          "text": [
            "Predictions: [ 6000000. 10750000. 18800000.]\n"
          ]
        }
      ]
    }
  ]
}