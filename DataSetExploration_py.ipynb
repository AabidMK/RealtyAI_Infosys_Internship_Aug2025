{
  "nbformat": 4,
  "nbformat_minor": 0,
  "metadata": {
    "colab": {
      "provenance": [],
      "authorship_tag": "ABX9TyNMnyMInoq+v0lyHIJbNLJ5",
      "include_colab_link": true
    },
    "kernelspec": {
      "name": "python3",
      "display_name": "Python 3"
    },
    "language_info": {
      "name": "python"
    }
  },
  "cells": [
    {
      "cell_type": "markdown",
      "metadata": {
        "id": "view-in-github",
        "colab_type": "text"
      },
      "source": [
        "<a href=\"https://colab.research.google.com/github/AabidMK/RealtyAI_Infosys_Internship_Aug2025/blob/main/DataSetExploration_py.ipynb\" target=\"_parent\"><img src=\"https://colab.research.google.com/assets/colab-badge.svg\" alt=\"Open In Colab\"/></a>"
      ]
    },
    {
      "cell_type": "markdown",
      "source": [
        "California Housing Price"
      ],
      "metadata": {
        "id": "oVvOqJUI_G0U"
      }
    },
    {
      "cell_type": "code",
      "execution_count": null,
      "metadata": {
        "id": "pgjMT81cWP6T"
      },
      "outputs": [],
      "source": [
        "import pandas as pd\n",
        "import matplotlib.pyplot as plt\n",
        "import seaborn as sns"
      ]
    },
    {
      "cell_type": "code",
      "source": [
        "import zipfile\n",
        "\n",
        "# Unzip the file\n",
        "with zipfile.ZipFile('/content/sample_data/housing.csv.zip', 'r') as zip_ref:\n",
        "    zip_ref.extractall('/content/sample_data/')\n",
        "\n",
        "# Now load the extracted CSV\n",
        "df = pd.read_csv('/content/sample_data/housing.csv')\n",
        "print(df.head())"
      ],
      "metadata": {
        "colab": {
          "base_uri": "https://localhost:8080/"
        },
        "id": "gkmwOwrRZv-5",
        "outputId": "16fce6fb-e742-4e8d-836c-495055fcddfd"
      },
      "execution_count": null,
      "outputs": [
        {
          "output_type": "stream",
          "name": "stdout",
          "text": [
            "   longitude  latitude  housing_median_age  total_rooms  total_bedrooms  \\\n",
            "0    -122.23     37.88                41.0        880.0           129.0   \n",
            "1    -122.22     37.86                21.0       7099.0          1106.0   \n",
            "2    -122.24     37.85                52.0       1467.0           190.0   \n",
            "3    -122.25     37.85                52.0       1274.0           235.0   \n",
            "4    -122.25     37.85                52.0       1627.0           280.0   \n",
            "\n",
            "   population  households  median_income  median_house_value ocean_proximity  \n",
            "0       322.0       126.0         8.3252            452600.0        NEAR BAY  \n",
            "1      2401.0      1138.0         8.3014            358500.0        NEAR BAY  \n",
            "2       496.0       177.0         7.2574            352100.0        NEAR BAY  \n",
            "3       558.0       219.0         5.6431            341300.0        NEAR BAY  \n",
            "4       565.0       259.0         3.8462            342200.0        NEAR BAY  \n"
          ]
        }
      ]
    },
    {
      "cell_type": "code",
      "source": [
        "print(df.info())"
      ],
      "metadata": {
        "colab": {
          "base_uri": "https://localhost:8080/"
        },
        "id": "V7F66vqIhDC3",
        "outputId": "1132f417-f13d-47ed-cbd4-015ec02ead5c"
      },
      "execution_count": null,
      "outputs": [
        {
          "output_type": "stream",
          "name": "stdout",
          "text": [
            "<class 'pandas.core.frame.DataFrame'>\n",
            "RangeIndex: 20640 entries, 0 to 20639\n",
            "Data columns (total 10 columns):\n",
            " #   Column              Non-Null Count  Dtype  \n",
            "---  ------              --------------  -----  \n",
            " 0   longitude           20640 non-null  float64\n",
            " 1   latitude            20640 non-null  float64\n",
            " 2   housing_median_age  20640 non-null  float64\n",
            " 3   total_rooms         20640 non-null  float64\n",
            " 4   total_bedrooms      20433 non-null  float64\n",
            " 5   population          20640 non-null  float64\n",
            " 6   households          20640 non-null  float64\n",
            " 7   median_income       20640 non-null  float64\n",
            " 8   median_house_value  20640 non-null  float64\n",
            " 9   ocean_proximity     20640 non-null  object \n",
            "dtypes: float64(9), object(1)\n",
            "memory usage: 1.6+ MB\n",
            "None\n"
          ]
        }
      ]
    },
    {
      "cell_type": "code",
      "source": [
        "print(df.describe())"
      ],
      "metadata": {
        "colab": {
          "base_uri": "https://localhost:8080/"
        },
        "id": "8OymniIJhv5u",
        "outputId": "6f308d02-cc75-4aba-ddb0-44e366dfa0fa"
      },
      "execution_count": null,
      "outputs": [
        {
          "output_type": "stream",
          "name": "stdout",
          "text": [
            "          longitude      latitude  housing_median_age   total_rooms  \\\n",
            "count  20640.000000  20640.000000        20640.000000  20640.000000   \n",
            "mean    -119.569704     35.631861           28.639486   2635.763081   \n",
            "std        2.003532      2.135952           12.585558   2181.615252   \n",
            "min     -124.350000     32.540000            1.000000      2.000000   \n",
            "25%     -121.800000     33.930000           18.000000   1447.750000   \n",
            "50%     -118.490000     34.260000           29.000000   2127.000000   \n",
            "75%     -118.010000     37.710000           37.000000   3148.000000   \n",
            "max     -114.310000     41.950000           52.000000  39320.000000   \n",
            "\n",
            "       total_bedrooms    population    households  median_income  \\\n",
            "count    20433.000000  20640.000000  20640.000000   20640.000000   \n",
            "mean       537.870553   1425.476744    499.539680       3.870671   \n",
            "std        421.385070   1132.462122    382.329753       1.899822   \n",
            "min          1.000000      3.000000      1.000000       0.499900   \n",
            "25%        296.000000    787.000000    280.000000       2.563400   \n",
            "50%        435.000000   1166.000000    409.000000       3.534800   \n",
            "75%        647.000000   1725.000000    605.000000       4.743250   \n",
            "max       6445.000000  35682.000000   6082.000000      15.000100   \n",
            "\n",
            "       median_house_value  \n",
            "count        20640.000000  \n",
            "mean        206855.816909  \n",
            "std         115395.615874  \n",
            "min          14999.000000  \n",
            "25%         119600.000000  \n",
            "50%         179700.000000  \n",
            "75%         264725.000000  \n",
            "max         500001.000000  \n"
          ]
        }
      ]
    },
    {
      "cell_type": "code",
      "source": [
        "print(df.isnull().sum())"
      ],
      "metadata": {
        "colab": {
          "base_uri": "https://localhost:8080/"
        },
        "id": "LOzNELrKiGze",
        "outputId": "bdedb4ab-1d5f-4569-a149-a2806978cb89"
      },
      "execution_count": null,
      "outputs": [
        {
          "output_type": "stream",
          "name": "stdout",
          "text": [
            "longitude               0\n",
            "latitude                0\n",
            "housing_median_age      0\n",
            "total_rooms             0\n",
            "total_bedrooms        207\n",
            "population              0\n",
            "households              0\n",
            "median_income           0\n",
            "median_house_value      0\n",
            "ocean_proximity         0\n",
            "dtype: int64\n"
          ]
        }
      ]
    },
    {
      "cell_type": "code",
      "source": [
        "print(df.shape)"
      ],
      "metadata": {
        "colab": {
          "base_uri": "https://localhost:8080/"
        },
        "id": "7WO5dZ7IiLou",
        "outputId": "a2b3fefd-aadb-4d1d-ef55-a8823c74cb96"
      },
      "execution_count": null,
      "outputs": [
        {
          "output_type": "stream",
          "name": "stdout",
          "text": [
            "(20640, 10)\n"
          ]
        }
      ]
    },
    {
      "cell_type": "code",
      "source": [
        "print(df.columns)"
      ],
      "metadata": {
        "colab": {
          "base_uri": "https://localhost:8080/"
        },
        "id": "e7zDiQjYia1K",
        "outputId": "befa4e16-7f1a-4f37-bb57-bf988cc55b6e"
      },
      "execution_count": null,
      "outputs": [
        {
          "output_type": "stream",
          "name": "stdout",
          "text": [
            "Index(['longitude', 'latitude', 'housing_median_age', 'total_rooms',\n",
            "       'total_bedrooms', 'population', 'households', 'median_income',\n",
            "       'median_house_value', 'ocean_proximity'],\n",
            "      dtype='object')\n"
          ]
        }
      ]
    },
    {
      "cell_type": "code",
      "source": [
        "# print(df.head())            # View first few rows\n",
        "# print(df.info())            # Summary: column names, data types, non-null counts\n",
        "# print(df.describe())        # Summary stats for numeric columns\n",
        "# print(df.isnull().sum())    # Count of missing values per column\n",
        "# print(df.shape)             # Rows and columns\n",
        "# print(df.columns)           # List of column names"
      ],
      "metadata": {
        "id": "OoFp6rygit8W"
      },
      "execution_count": null,
      "outputs": []
    },
    {
      "cell_type": "markdown",
      "source": [
        "World Real Estate Data"
      ],
      "metadata": {
        "id": "tTCZOFi8_VuD"
      }
    },
    {
      "cell_type": "code",
      "source": [
        "import pandas as pd\n",
        "import matplotlib.pyplot as plt\n",
        "import seaborn as sns"
      ],
      "metadata": {
        "id": "xFTG_DQC_cd_"
      },
      "execution_count": null,
      "outputs": []
    },
    {
      "cell_type": "code",
      "source": [
        "df = pd.read_csv('/content/world_real_estate_data(147k).csv (1).zip')\n",
        "print(df.head())"
      ],
      "metadata": {
        "colab": {
          "base_uri": "https://localhost:8080/"
        },
        "id": "P3-LGSI5AMBT",
        "outputId": "7f730860-0639-4dca-8a91-758cbd547da5"
      },
      "execution_count": null,
      "outputs": [
        {
          "output_type": "stream",
          "name": "stdout",
          "text": [
            "                                               title   country  \\\n",
            "0  2 room apartment 120 m² in Mediterranean Regio...    Turkey   \n",
            "1              4 room villa 500 m² in Kalkan, Turkey    Turkey   \n",
            "2          1 room apartment 65 m² in Antalya, Turkey    Turkey   \n",
            "3             1 room apartment  in Pattaya, Thailand  Thailand   \n",
            "4             2 room apartment  in Pattaya, Thailand  Thailand   \n",
            "\n",
            "                                    location  building_construction_year  \\\n",
            "0               Mediterranean Region, Turkey                         NaN   \n",
            "1  Kalkan, Mediterranean Region, Kas, Turkey                      2021.0   \n",
            "2      Mediterranean Region, Antalya, Turkey                         NaN   \n",
            "3      Chon Buri Province, Pattaya, Thailand                      2020.0   \n",
            "4      Chon Buri Province, Pattaya, Thailand                      2026.0   \n",
            "\n",
            "   building_total_floors  apartment_floor  apartment_rooms  \\\n",
            "0                    5.0              1.0              3.0   \n",
            "1                    2.0              NaN              NaN   \n",
            "2                    5.0              2.0              2.0   \n",
            "3                   15.0              5.0              2.0   \n",
            "4                    8.0              3.0              3.0   \n",
            "\n",
            "   apartment_bedrooms  apartment_bathrooms apartment_total_area  \\\n",
            "0                 2.0                  2.0               120 m²   \n",
            "1                 NaN                  NaN               500 m²   \n",
            "2                 1.0                  1.0                65 m²   \n",
            "3                 1.0                  1.0                  NaN   \n",
            "4                 2.0                  1.0                  NaN   \n",
            "\n",
            "  apartment_living_area  price_in_USD  \\\n",
            "0                110 m²      315209.0   \n",
            "1                480 m²     1108667.0   \n",
            "2                 60 m²      173211.0   \n",
            "3                 40 m²       99900.0   \n",
            "4                 36 m²       67000.0   \n",
            "\n",
            "                                               image  \\\n",
            "0  https://realting.com/uploads/bigSlider/ab3/888...   \n",
            "1  https://realting.com/uploads/bigSlider/87b/679...   \n",
            "2  https://realting.com/uploads/bigSlider/030/a11...   \n",
            "3  https://realting.com/uploads/bigSlider/e9a/e06...   \n",
            "4  https://realting.com/uploads/bigSlider/453/aa2...   \n",
            "\n",
            "                                                 url  \n",
            "0  https://realting.com/property-for-sale/turkey/...  \n",
            "1  https://realting.com/property-for-sale/turkey/...  \n",
            "2  https://realting.com/property-for-sale/turkey/...  \n",
            "3  https://realting.com/property-for-sale/thailan...  \n",
            "4  https://realting.com/property-for-sale/thailan...  \n"
          ]
        }
      ]
    },
    {
      "cell_type": "code",
      "source": [
        "print(df.info())"
      ],
      "metadata": {
        "colab": {
          "base_uri": "https://localhost:8080/"
        },
        "id": "z9leVUrcAcBf",
        "outputId": "5c4718e6-cd17-49d5-dd56-39d87f0c20ea"
      },
      "execution_count": null,
      "outputs": [
        {
          "output_type": "stream",
          "name": "stdout",
          "text": [
            "<class 'pandas.core.frame.DataFrame'>\n",
            "RangeIndex: 147536 entries, 0 to 147535\n",
            "Data columns (total 14 columns):\n",
            " #   Column                      Non-Null Count   Dtype  \n",
            "---  ------                      --------------   -----  \n",
            " 0   title                       147536 non-null  object \n",
            " 1   country                     147406 non-null  object \n",
            " 2   location                    147405 non-null  object \n",
            " 3   building_construction_year  64719 non-null   float64\n",
            " 4   building_total_floors       68224 non-null   float64\n",
            " 5   apartment_floor             54592 non-null   float64\n",
            " 6   apartment_rooms             74178 non-null   float64\n",
            " 7   apartment_bedrooms          36982 non-null   float64\n",
            " 8   apartment_bathrooms         55973 non-null   float64\n",
            " 9   apartment_total_area        141796 non-null  object \n",
            " 10  apartment_living_area       27712 non-null   object \n",
            " 11  price_in_USD                144961 non-null  float64\n",
            " 12  image                       147536 non-null  object \n",
            " 13  url                         147536 non-null  object \n",
            "dtypes: float64(7), object(7)\n",
            "memory usage: 15.8+ MB\n",
            "None\n"
          ]
        }
      ]
    },
    {
      "cell_type": "code",
      "source": [
        "print(df.describe())"
      ],
      "metadata": {
        "colab": {
          "base_uri": "https://localhost:8080/"
        },
        "id": "u4chXPrsAi1x",
        "outputId": "3dc1d857-0217-4923-af5e-68274f8ef84e"
      },
      "execution_count": null,
      "outputs": [
        {
          "output_type": "stream",
          "name": "stdout",
          "text": [
            "       building_construction_year  building_total_floors  apartment_floor  \\\n",
            "count                64719.000000           68224.000000     54592.000000   \n",
            "mean                  1996.921754               8.575692         5.791709   \n",
            "std                    157.527635               8.356781         5.541368   \n",
            "min                      1.000000              -1.000000        -2.000000   \n",
            "25%                   2004.000000               2.000000         2.000000   \n",
            "50%                   2021.000000               5.000000         4.000000   \n",
            "75%                   2024.000000              14.000000         8.000000   \n",
            "max                   2316.000000             124.000000       202.000000   \n",
            "\n",
            "       apartment_rooms  apartment_bedrooms  apartment_bathrooms  price_in_USD  \n",
            "count     74178.000000        36982.000000         55973.000000  1.449610e+05  \n",
            "mean          2.572097            2.289222             1.364229  4.121722e+05  \n",
            "std           1.319545           18.276913             0.745019  8.420984e+05  \n",
            "min          -1.000000           -1.000000             1.000000  0.000000e+00  \n",
            "25%           2.000000            1.000000             1.000000  1.054200e+05  \n",
            "50%           2.000000            2.000000             1.000000  1.902120e+05  \n",
            "75%           3.000000            3.000000             2.000000  3.989300e+05  \n",
            "max         124.000000         2009.000000            43.000000  3.060283e+07  \n"
          ]
        }
      ]
    },
    {
      "cell_type": "code",
      "source": [
        "print(df.isnull().sum())"
      ],
      "metadata": {
        "colab": {
          "base_uri": "https://localhost:8080/"
        },
        "id": "PpJt2DGVAnhT",
        "outputId": "e4768a94-1426-4f7f-e12e-692238e73215"
      },
      "execution_count": null,
      "outputs": [
        {
          "output_type": "stream",
          "name": "stdout",
          "text": [
            "title                              0\n",
            "country                          130\n",
            "location                         131\n",
            "building_construction_year     82817\n",
            "building_total_floors          79312\n",
            "apartment_floor                92944\n",
            "apartment_rooms                73358\n",
            "apartment_bedrooms            110554\n",
            "apartment_bathrooms            91563\n",
            "apartment_total_area            5740\n",
            "apartment_living_area         119824\n",
            "price_in_USD                    2575\n",
            "image                              0\n",
            "url                                0\n",
            "dtype: int64\n"
          ]
        }
      ]
    },
    {
      "cell_type": "code",
      "source": [
        "print(df.shape)"
      ],
      "metadata": {
        "colab": {
          "base_uri": "https://localhost:8080/"
        },
        "id": "nfHpoZy9Ar0J",
        "outputId": "ac21caa8-fddd-49fe-898b-1fc3badc2922"
      },
      "execution_count": null,
      "outputs": [
        {
          "output_type": "stream",
          "name": "stdout",
          "text": [
            "(147536, 14)\n"
          ]
        }
      ]
    },
    {
      "cell_type": "code",
      "source": [
        "print(df.columns)"
      ],
      "metadata": {
        "colab": {
          "base_uri": "https://localhost:8080/"
        },
        "id": "XlllUOM7Awxk",
        "outputId": "a4b51488-4ba8-47c7-d1ac-07e0ee783eab"
      },
      "execution_count": null,
      "outputs": [
        {
          "output_type": "stream",
          "name": "stdout",
          "text": [
            "Index(['title', 'country', 'location', 'building_construction_year',\n",
            "       'building_total_floors', 'apartment_floor', 'apartment_rooms',\n",
            "       'apartment_bedrooms', 'apartment_bathrooms', 'apartment_total_area',\n",
            "       'apartment_living_area', 'price_in_USD', 'image', 'url'],\n",
            "      dtype='object')\n"
          ]
        }
      ]
    },
    {
      "cell_type": "markdown",
      "source": [
        "House Real Estate Data From Indian Cities"
      ],
      "metadata": {
        "id": "MCpT28XrA7T6"
      }
    },
    {
      "cell_type": "code",
      "source": [
        "import pandas as pd\n",
        "import matplotlib.pyplot as plt\n",
        "import seaborn as sns"
      ],
      "metadata": {
        "id": "gvQ9xHrpBCYg"
      },
      "execution_count": null,
      "outputs": []
    },
    {
      "cell_type": "code",
      "source": [
        "df = pd.read_csv('/content/world_real_estate_data(147k).csv (1).zip')\n",
        "print(df.head())"
      ],
      "metadata": {
        "colab": {
          "base_uri": "https://localhost:8080/"
        },
        "id": "Dft9NdOoBG8b",
        "outputId": "a11aea53-96e1-4199-b872-858173b1e37f"
      },
      "execution_count": null,
      "outputs": [
        {
          "output_type": "stream",
          "name": "stdout",
          "text": [
            "                                               title   country  \\\n",
            "0  2 room apartment 120 m² in Mediterranean Regio...    Turkey   \n",
            "1              4 room villa 500 m² in Kalkan, Turkey    Turkey   \n",
            "2          1 room apartment 65 m² in Antalya, Turkey    Turkey   \n",
            "3             1 room apartment  in Pattaya, Thailand  Thailand   \n",
            "4             2 room apartment  in Pattaya, Thailand  Thailand   \n",
            "\n",
            "                                    location  building_construction_year  \\\n",
            "0               Mediterranean Region, Turkey                         NaN   \n",
            "1  Kalkan, Mediterranean Region, Kas, Turkey                      2021.0   \n",
            "2      Mediterranean Region, Antalya, Turkey                         NaN   \n",
            "3      Chon Buri Province, Pattaya, Thailand                      2020.0   \n",
            "4      Chon Buri Province, Pattaya, Thailand                      2026.0   \n",
            "\n",
            "   building_total_floors  apartment_floor  apartment_rooms  \\\n",
            "0                    5.0              1.0              3.0   \n",
            "1                    2.0              NaN              NaN   \n",
            "2                    5.0              2.0              2.0   \n",
            "3                   15.0              5.0              2.0   \n",
            "4                    8.0              3.0              3.0   \n",
            "\n",
            "   apartment_bedrooms  apartment_bathrooms apartment_total_area  \\\n",
            "0                 2.0                  2.0               120 m²   \n",
            "1                 NaN                  NaN               500 m²   \n",
            "2                 1.0                  1.0                65 m²   \n",
            "3                 1.0                  1.0                  NaN   \n",
            "4                 2.0                  1.0                  NaN   \n",
            "\n",
            "  apartment_living_area  price_in_USD  \\\n",
            "0                110 m²      315209.0   \n",
            "1                480 m²     1108667.0   \n",
            "2                 60 m²      173211.0   \n",
            "3                 40 m²       99900.0   \n",
            "4                 36 m²       67000.0   \n",
            "\n",
            "                                               image  \\\n",
            "0  https://realting.com/uploads/bigSlider/ab3/888...   \n",
            "1  https://realting.com/uploads/bigSlider/87b/679...   \n",
            "2  https://realting.com/uploads/bigSlider/030/a11...   \n",
            "3  https://realting.com/uploads/bigSlider/e9a/e06...   \n",
            "4  https://realting.com/uploads/bigSlider/453/aa2...   \n",
            "\n",
            "                                                 url  \n",
            "0  https://realting.com/property-for-sale/turkey/...  \n",
            "1  https://realting.com/property-for-sale/turkey/...  \n",
            "2  https://realting.com/property-for-sale/turkey/...  \n",
            "3  https://realting.com/property-for-sale/thailan...  \n",
            "4  https://realting.com/property-for-sale/thailan...  \n"
          ]
        }
      ]
    },
    {
      "cell_type": "code",
      "source": [
        "print(df.info())"
      ],
      "metadata": {
        "colab": {
          "base_uri": "https://localhost:8080/"
        },
        "id": "pCnAUyeXBUw7",
        "outputId": "1d300818-c84b-46ee-d4ea-94223732a9cd"
      },
      "execution_count": null,
      "outputs": [
        {
          "output_type": "stream",
          "name": "stdout",
          "text": [
            "<class 'pandas.core.frame.DataFrame'>\n",
            "RangeIndex: 147536 entries, 0 to 147535\n",
            "Data columns (total 14 columns):\n",
            " #   Column                      Non-Null Count   Dtype  \n",
            "---  ------                      --------------   -----  \n",
            " 0   title                       147536 non-null  object \n",
            " 1   country                     147406 non-null  object \n",
            " 2   location                    147405 non-null  object \n",
            " 3   building_construction_year  64719 non-null   float64\n",
            " 4   building_total_floors       68224 non-null   float64\n",
            " 5   apartment_floor             54592 non-null   float64\n",
            " 6   apartment_rooms             74178 non-null   float64\n",
            " 7   apartment_bedrooms          36982 non-null   float64\n",
            " 8   apartment_bathrooms         55973 non-null   float64\n",
            " 9   apartment_total_area        141796 non-null  object \n",
            " 10  apartment_living_area       27712 non-null   object \n",
            " 11  price_in_USD                144961 non-null  float64\n",
            " 12  image                       147536 non-null  object \n",
            " 13  url                         147536 non-null  object \n",
            "dtypes: float64(7), object(7)\n",
            "memory usage: 15.8+ MB\n",
            "None\n"
          ]
        }
      ]
    },
    {
      "cell_type": "code",
      "source": [
        "print(df.describe())"
      ],
      "metadata": {
        "colab": {
          "base_uri": "https://localhost:8080/"
        },
        "id": "n5L0N3kZBcoo",
        "outputId": "ea795fa0-80cb-44e8-d002-b18ccc320541"
      },
      "execution_count": null,
      "outputs": [
        {
          "output_type": "stream",
          "name": "stdout",
          "text": [
            "       building_construction_year  building_total_floors  apartment_floor  \\\n",
            "count                64719.000000           68224.000000     54592.000000   \n",
            "mean                  1996.921754               8.575692         5.791709   \n",
            "std                    157.527635               8.356781         5.541368   \n",
            "min                      1.000000              -1.000000        -2.000000   \n",
            "25%                   2004.000000               2.000000         2.000000   \n",
            "50%                   2021.000000               5.000000         4.000000   \n",
            "75%                   2024.000000              14.000000         8.000000   \n",
            "max                   2316.000000             124.000000       202.000000   \n",
            "\n",
            "       apartment_rooms  apartment_bedrooms  apartment_bathrooms  price_in_USD  \n",
            "count     74178.000000        36982.000000         55973.000000  1.449610e+05  \n",
            "mean          2.572097            2.289222             1.364229  4.121722e+05  \n",
            "std           1.319545           18.276913             0.745019  8.420984e+05  \n",
            "min          -1.000000           -1.000000             1.000000  0.000000e+00  \n",
            "25%           2.000000            1.000000             1.000000  1.054200e+05  \n",
            "50%           2.000000            2.000000             1.000000  1.902120e+05  \n",
            "75%           3.000000            3.000000             2.000000  3.989300e+05  \n",
            "max         124.000000         2009.000000            43.000000  3.060283e+07  \n"
          ]
        }
      ]
    },
    {
      "cell_type": "code",
      "source": [
        "print(df.isnull().sum())"
      ],
      "metadata": {
        "colab": {
          "base_uri": "https://localhost:8080/"
        },
        "id": "os47r-BbBhNl",
        "outputId": "0323c2f0-eb7b-4c57-f929-0bf6ddde1dc6"
      },
      "execution_count": null,
      "outputs": [
        {
          "output_type": "stream",
          "name": "stdout",
          "text": [
            "title                              0\n",
            "country                          130\n",
            "location                         131\n",
            "building_construction_year     82817\n",
            "building_total_floors          79312\n",
            "apartment_floor                92944\n",
            "apartment_rooms                73358\n",
            "apartment_bedrooms            110554\n",
            "apartment_bathrooms            91563\n",
            "apartment_total_area            5740\n",
            "apartment_living_area         119824\n",
            "price_in_USD                    2575\n",
            "image                              0\n",
            "url                                0\n",
            "dtype: int64\n"
          ]
        }
      ]
    },
    {
      "cell_type": "code",
      "source": [
        "print(df.shape)"
      ],
      "metadata": {
        "colab": {
          "base_uri": "https://localhost:8080/"
        },
        "id": "ZGPDOoU9BmnD",
        "outputId": "16b09658-db21-479d-b1ac-fbebcaa83413"
      },
      "execution_count": null,
      "outputs": [
        {
          "output_type": "stream",
          "name": "stdout",
          "text": [
            "(147536, 14)\n"
          ]
        }
      ]
    },
    {
      "cell_type": "code",
      "source": [
        "print(df.columns)"
      ],
      "metadata": {
        "colab": {
          "base_uri": "https://localhost:8080/"
        },
        "id": "jMgFJ5zABrVI",
        "outputId": "7b3dc256-45c7-44f1-efaf-1fe736d70f31"
      },
      "execution_count": null,
      "outputs": [
        {
          "output_type": "stream",
          "name": "stdout",
          "text": [
            "Index(['title', 'country', 'location', 'building_construction_year',\n",
            "       'building_total_floors', 'apartment_floor', 'apartment_rooms',\n",
            "       'apartment_bedrooms', 'apartment_bathrooms', 'apartment_total_area',\n",
            "       'apartment_living_area', 'price_in_USD', 'image', 'url'],\n",
            "      dtype='object')\n"
          ]
        }
      ]
    },
    {
      "cell_type": "markdown",
      "source": [
        "Indian House Price Prediction"
      ],
      "metadata": {
        "id": "avoFlDmLByOu"
      }
    },
    {
      "cell_type": "code",
      "source": [
        "import pandas as pd\n",
        "import matplotlib.pyplot as plt\n",
        "import seaborn as sns"
      ],
      "metadata": {
        "id": "5-VMQBeZB2eL"
      },
      "execution_count": null,
      "outputs": []
    },
    {
      "cell_type": "code",
      "source": [
        "df = pd.read_csv('/content/world_real_estate_data(147k).csv (1).zip')\n",
        "print(df.head())"
      ],
      "metadata": {
        "colab": {
          "base_uri": "https://localhost:8080/"
        },
        "id": "fVRYizeJB7Av",
        "outputId": "eca2f6aa-ce00-4766-ea4f-52f1213fe878"
      },
      "execution_count": null,
      "outputs": [
        {
          "output_type": "stream",
          "name": "stdout",
          "text": [
            "                                               title   country  \\\n",
            "0  2 room apartment 120 m² in Mediterranean Regio...    Turkey   \n",
            "1              4 room villa 500 m² in Kalkan, Turkey    Turkey   \n",
            "2          1 room apartment 65 m² in Antalya, Turkey    Turkey   \n",
            "3             1 room apartment  in Pattaya, Thailand  Thailand   \n",
            "4             2 room apartment  in Pattaya, Thailand  Thailand   \n",
            "\n",
            "                                    location  building_construction_year  \\\n",
            "0               Mediterranean Region, Turkey                         NaN   \n",
            "1  Kalkan, Mediterranean Region, Kas, Turkey                      2021.0   \n",
            "2      Mediterranean Region, Antalya, Turkey                         NaN   \n",
            "3      Chon Buri Province, Pattaya, Thailand                      2020.0   \n",
            "4      Chon Buri Province, Pattaya, Thailand                      2026.0   \n",
            "\n",
            "   building_total_floors  apartment_floor  apartment_rooms  \\\n",
            "0                    5.0              1.0              3.0   \n",
            "1                    2.0              NaN              NaN   \n",
            "2                    5.0              2.0              2.0   \n",
            "3                   15.0              5.0              2.0   \n",
            "4                    8.0              3.0              3.0   \n",
            "\n",
            "   apartment_bedrooms  apartment_bathrooms apartment_total_area  \\\n",
            "0                 2.0                  2.0               120 m²   \n",
            "1                 NaN                  NaN               500 m²   \n",
            "2                 1.0                  1.0                65 m²   \n",
            "3                 1.0                  1.0                  NaN   \n",
            "4                 2.0                  1.0                  NaN   \n",
            "\n",
            "  apartment_living_area  price_in_USD  \\\n",
            "0                110 m²      315209.0   \n",
            "1                480 m²     1108667.0   \n",
            "2                 60 m²      173211.0   \n",
            "3                 40 m²       99900.0   \n",
            "4                 36 m²       67000.0   \n",
            "\n",
            "                                               image  \\\n",
            "0  https://realting.com/uploads/bigSlider/ab3/888...   \n",
            "1  https://realting.com/uploads/bigSlider/87b/679...   \n",
            "2  https://realting.com/uploads/bigSlider/030/a11...   \n",
            "3  https://realting.com/uploads/bigSlider/e9a/e06...   \n",
            "4  https://realting.com/uploads/bigSlider/453/aa2...   \n",
            "\n",
            "                                                 url  \n",
            "0  https://realting.com/property-for-sale/turkey/...  \n",
            "1  https://realting.com/property-for-sale/turkey/...  \n",
            "2  https://realting.com/property-for-sale/turkey/...  \n",
            "3  https://realting.com/property-for-sale/thailan...  \n",
            "4  https://realting.com/property-for-sale/thailan...  \n"
          ]
        }
      ]
    },
    {
      "cell_type": "code",
      "source": [
        "print(df.info())"
      ],
      "metadata": {
        "colab": {
          "base_uri": "https://localhost:8080/"
        },
        "id": "sfigiH8oCKBG",
        "outputId": "2c8e72ae-c35d-4364-a36d-62720a554914"
      },
      "execution_count": null,
      "outputs": [
        {
          "output_type": "stream",
          "name": "stdout",
          "text": [
            "<class 'pandas.core.frame.DataFrame'>\n",
            "RangeIndex: 147536 entries, 0 to 147535\n",
            "Data columns (total 14 columns):\n",
            " #   Column                      Non-Null Count   Dtype  \n",
            "---  ------                      --------------   -----  \n",
            " 0   title                       147536 non-null  object \n",
            " 1   country                     147406 non-null  object \n",
            " 2   location                    147405 non-null  object \n",
            " 3   building_construction_year  64719 non-null   float64\n",
            " 4   building_total_floors       68224 non-null   float64\n",
            " 5   apartment_floor             54592 non-null   float64\n",
            " 6   apartment_rooms             74178 non-null   float64\n",
            " 7   apartment_bedrooms          36982 non-null   float64\n",
            " 8   apartment_bathrooms         55973 non-null   float64\n",
            " 9   apartment_total_area        141796 non-null  object \n",
            " 10  apartment_living_area       27712 non-null   object \n",
            " 11  price_in_USD                144961 non-null  float64\n",
            " 12  image                       147536 non-null  object \n",
            " 13  url                         147536 non-null  object \n",
            "dtypes: float64(7), object(7)\n",
            "memory usage: 15.8+ MB\n",
            "None\n"
          ]
        }
      ]
    },
    {
      "cell_type": "code",
      "source": [
        "print(df.describe())"
      ],
      "metadata": {
        "colab": {
          "base_uri": "https://localhost:8080/"
        },
        "id": "g4SNKDVMCP4M",
        "outputId": "789e20c1-18f8-4682-e7c9-76e26a1077cf"
      },
      "execution_count": null,
      "outputs": [
        {
          "output_type": "stream",
          "name": "stdout",
          "text": [
            "       building_construction_year  building_total_floors  apartment_floor  \\\n",
            "count                64719.000000           68224.000000     54592.000000   \n",
            "mean                  1996.921754               8.575692         5.791709   \n",
            "std                    157.527635               8.356781         5.541368   \n",
            "min                      1.000000              -1.000000        -2.000000   \n",
            "25%                   2004.000000               2.000000         2.000000   \n",
            "50%                   2021.000000               5.000000         4.000000   \n",
            "75%                   2024.000000              14.000000         8.000000   \n",
            "max                   2316.000000             124.000000       202.000000   \n",
            "\n",
            "       apartment_rooms  apartment_bedrooms  apartment_bathrooms  price_in_USD  \n",
            "count     74178.000000        36982.000000         55973.000000  1.449610e+05  \n",
            "mean          2.572097            2.289222             1.364229  4.121722e+05  \n",
            "std           1.319545           18.276913             0.745019  8.420984e+05  \n",
            "min          -1.000000           -1.000000             1.000000  0.000000e+00  \n",
            "25%           2.000000            1.000000             1.000000  1.054200e+05  \n",
            "50%           2.000000            2.000000             1.000000  1.902120e+05  \n",
            "75%           3.000000            3.000000             2.000000  3.989300e+05  \n",
            "max         124.000000         2009.000000            43.000000  3.060283e+07  \n"
          ]
        }
      ]
    },
    {
      "cell_type": "code",
      "source": [
        "print(df.isnull().sum())"
      ],
      "metadata": {
        "colab": {
          "base_uri": "https://localhost:8080/"
        },
        "id": "sAfmD_H2CUrl",
        "outputId": "9af2f19c-722f-48af-8091-0f03d0eaca24"
      },
      "execution_count": null,
      "outputs": [
        {
          "output_type": "stream",
          "name": "stdout",
          "text": [
            "title                              0\n",
            "country                          130\n",
            "location                         131\n",
            "building_construction_year     82817\n",
            "building_total_floors          79312\n",
            "apartment_floor                92944\n",
            "apartment_rooms                73358\n",
            "apartment_bedrooms            110554\n",
            "apartment_bathrooms            91563\n",
            "apartment_total_area            5740\n",
            "apartment_living_area         119824\n",
            "price_in_USD                    2575\n",
            "image                              0\n",
            "url                                0\n",
            "dtype: int64\n"
          ]
        }
      ]
    },
    {
      "cell_type": "code",
      "source": [
        "print(df.shape)"
      ],
      "metadata": {
        "colab": {
          "base_uri": "https://localhost:8080/"
        },
        "id": "WvNwGEf1CZ5w",
        "outputId": "17716695-8768-48a3-c96e-609f8a1cfe89"
      },
      "execution_count": null,
      "outputs": [
        {
          "output_type": "stream",
          "name": "stdout",
          "text": [
            "(147536, 14)\n"
          ]
        }
      ]
    },
    {
      "cell_type": "code",
      "source": [
        "print(df.columns)"
      ],
      "metadata": {
        "id": "5lhVIv3ZCgoX",
        "outputId": "fa395fbc-b411-4a79-e6e6-c8666d1045b6",
        "colab": {
          "base_uri": "https://localhost:8080/"
        }
      },
      "execution_count": null,
      "outputs": [
        {
          "output_type": "stream",
          "name": "stdout",
          "text": [
            "Index(['title', 'country', 'location', 'building_construction_year',\n",
            "       'building_total_floors', 'apartment_floor', 'apartment_rooms',\n",
            "       'apartment_bedrooms', 'apartment_bathrooms', 'apartment_total_area',\n",
            "       'apartment_living_area', 'price_in_USD', 'image', 'url'],\n",
            "      dtype='object')\n"
          ]
        }
      ]
    }
  ]
}