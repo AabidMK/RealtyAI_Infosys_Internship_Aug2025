{
 "cells": [
  {
   "cell_type": "code",
   "execution_count": 1,
   "id": "d42a5b4d-3998-424b-af93-fc657389ba59",
   "metadata": {},
   "outputs": [],
   "source": [
    "import pandas as pd\n",
    "import spacy\n",
    "from spacy.matcher import Matcher"
   ]
  },
  {
   "cell_type": "markdown",
   "id": "44d28c3a-e00f-4dbf-9549-92552e20f5e6",
   "metadata": {},
   "source": [
    "Task 1 : Basic Data Exploration using Pandas"
   ]
  },
  {
   "cell_type": "markdown",
   "id": "f1db8048-78e7-495d-8fd8-4ea1953b001e",
   "metadata": {},
   "source": [
    "Import Dataset"
   ]
  },
  {
   "cell_type": "code",
   "execution_count": 2,
   "id": "d527b496-4347-4dab-8794-bcf995f40149",
   "metadata": {},
   "outputs": [],
   "source": [
    "df = pd.read_csv(\"Real Estate Data V21.csv\")"
   ]
  },
  {
   "cell_type": "markdown",
   "id": "e55addfd-cd31-4abb-a9ba-74e91d3cf2fa",
   "metadata": {},
   "source": [
    "Basic Data Exploration"
   ]
  },
  {
   "cell_type": "code",
   "execution_count": 3,
   "id": "d7b2434f-3f10-478a-8640-38edd2cb48f3",
   "metadata": {},
   "outputs": [
    {
     "name": "stdout",
     "output_type": "stream",
     "text": [
      "Shape of dataset: (14528, 9)\n"
     ]
    }
   ],
   "source": [
    "print(\"Shape of dataset:\", df.shape)           "
   ]
  },
  {
   "cell_type": "code",
   "execution_count": 4,
   "id": "66891a66-1651-47f1-b7de-a5a938c68886",
   "metadata": {},
   "outputs": [
    {
     "name": "stdout",
     "output_type": "stream",
     "text": [
      "Columns: ['Name', 'Property Title', 'Price', 'Location', 'Total_Area', 'Price_per_SQFT', 'Description', 'Baths', 'Balcony']\n"
     ]
    }
   ],
   "source": [
    "print(\"Columns:\", df.columns.tolist())"
   ]
  },
  {
   "cell_type": "code",
   "execution_count": 5,
   "id": "27c60ef2-8f1f-4f5f-b4db-34ec7f5af6a3",
   "metadata": {},
   "outputs": [
    {
     "name": "stdout",
     "output_type": "stream",
     "text": [
      "Data types:\n",
      " Name               object\n",
      "Property Title     object\n",
      "Price              object\n",
      "Location           object\n",
      "Total_Area          int64\n",
      "Price_per_SQFT    float64\n",
      "Description        object\n",
      "Baths               int64\n",
      "Balcony            object\n",
      "dtype: object\n"
     ]
    }
   ],
   "source": [
    "print(\"Data types:\\n\", df.dtypes)            "
   ]
  },
  {
   "cell_type": "code",
   "execution_count": 6,
   "id": "8c034948-bec3-40fd-a7ab-721a0944498e",
   "metadata": {},
   "outputs": [
    {
     "data": {
      "text/html": [
       "<div>\n",
       "<style scoped>\n",
       "    .dataframe tbody tr th:only-of-type {\n",
       "        vertical-align: middle;\n",
       "    }\n",
       "\n",
       "    .dataframe tbody tr th {\n",
       "        vertical-align: top;\n",
       "    }\n",
       "\n",
       "    .dataframe thead th {\n",
       "        text-align: right;\n",
       "    }\n",
       "</style>\n",
       "<table border=\"1\" class=\"dataframe\">\n",
       "  <thead>\n",
       "    <tr style=\"text-align: right;\">\n",
       "      <th></th>\n",
       "      <th>Name</th>\n",
       "      <th>Property Title</th>\n",
       "      <th>Price</th>\n",
       "      <th>Location</th>\n",
       "      <th>Total_Area</th>\n",
       "      <th>Price_per_SQFT</th>\n",
       "      <th>Description</th>\n",
       "      <th>Baths</th>\n",
       "      <th>Balcony</th>\n",
       "    </tr>\n",
       "  </thead>\n",
       "  <tbody>\n",
       "    <tr>\n",
       "      <th>0</th>\n",
       "      <td>Casagrand ECR 14</td>\n",
       "      <td>4 BHK Flat for sale in Kanathur Reddikuppam, C...</td>\n",
       "      <td>₹1.99 Cr</td>\n",
       "      <td>Kanathur Reddikuppam, Chennai</td>\n",
       "      <td>2583</td>\n",
       "      <td>7700.0</td>\n",
       "      <td>Best 4 BHK Apartment for modern-day lifestyle ...</td>\n",
       "      <td>4</td>\n",
       "      <td>Yes</td>\n",
       "    </tr>\n",
       "    <tr>\n",
       "      <th>1</th>\n",
       "      <td>Ramanathan Nagar, Pozhichalur,Chennai</td>\n",
       "      <td>10 BHK Independent House for sale in Pozhichal...</td>\n",
       "      <td>₹2.25 Cr</td>\n",
       "      <td>Ramanathan Nagar, Pozhichalur,Chennai</td>\n",
       "      <td>7000</td>\n",
       "      <td>3210.0</td>\n",
       "      <td>Looking for a 10 BHK Independent House for sal...</td>\n",
       "      <td>6</td>\n",
       "      <td>Yes</td>\n",
       "    </tr>\n",
       "    <tr>\n",
       "      <th>2</th>\n",
       "      <td>DAC Prapthi</td>\n",
       "      <td>3 BHK Flat for sale in West Tambaram, Chennai</td>\n",
       "      <td>₹1.0 Cr</td>\n",
       "      <td>Kasthuribai Nagar, West Tambaram,Chennai</td>\n",
       "      <td>1320</td>\n",
       "      <td>7580.0</td>\n",
       "      <td>Property for sale in Tambaram, Chennai. This 3...</td>\n",
       "      <td>3</td>\n",
       "      <td>No</td>\n",
       "    </tr>\n",
       "    <tr>\n",
       "      <th>3</th>\n",
       "      <td>Naveenilaya,Chepauk, Triplicane,Chennai</td>\n",
       "      <td>7 BHK Independent House for sale in Triplicane...</td>\n",
       "      <td>₹3.33 Cr</td>\n",
       "      <td>Naveenilaya,Chepauk, Triplicane,Chennai</td>\n",
       "      <td>4250</td>\n",
       "      <td>7840.0</td>\n",
       "      <td>Entire Building for sale with 7 units of singl...</td>\n",
       "      <td>5</td>\n",
       "      <td>Yes</td>\n",
       "    </tr>\n",
       "    <tr>\n",
       "      <th>4</th>\n",
       "      <td>VGN Spring Field Phase 1</td>\n",
       "      <td>2 BHK Flat for sale in Avadi, Chennai</td>\n",
       "      <td>₹48.0 L</td>\n",
       "      <td>Avadi, Chennai</td>\n",
       "      <td>960</td>\n",
       "      <td>5000.0</td>\n",
       "      <td>Property for sale in Avadi, Chennai. This 2 BH...</td>\n",
       "      <td>3</td>\n",
       "      <td>Yes</td>\n",
       "    </tr>\n",
       "  </tbody>\n",
       "</table>\n",
       "</div>"
      ],
      "text/plain": [
       "                                      Name  \\\n",
       "0                         Casagrand ECR 14   \n",
       "1    Ramanathan Nagar, Pozhichalur,Chennai   \n",
       "2                              DAC Prapthi   \n",
       "3  Naveenilaya,Chepauk, Triplicane,Chennai   \n",
       "4                 VGN Spring Field Phase 1   \n",
       "\n",
       "                                      Property Title     Price  \\\n",
       "0  4 BHK Flat for sale in Kanathur Reddikuppam, C...  ₹1.99 Cr   \n",
       "1  10 BHK Independent House for sale in Pozhichal...  ₹2.25 Cr   \n",
       "2      3 BHK Flat for sale in West Tambaram, Chennai   ₹1.0 Cr   \n",
       "3  7 BHK Independent House for sale in Triplicane...  ₹3.33 Cr   \n",
       "4              2 BHK Flat for sale in Avadi, Chennai   ₹48.0 L   \n",
       "\n",
       "                                   Location  Total_Area  Price_per_SQFT  \\\n",
       "0             Kanathur Reddikuppam, Chennai        2583          7700.0   \n",
       "1     Ramanathan Nagar, Pozhichalur,Chennai        7000          3210.0   \n",
       "2  Kasthuribai Nagar, West Tambaram,Chennai        1320          7580.0   \n",
       "3   Naveenilaya,Chepauk, Triplicane,Chennai        4250          7840.0   \n",
       "4                            Avadi, Chennai         960          5000.0   \n",
       "\n",
       "                                         Description  Baths Balcony  \n",
       "0  Best 4 BHK Apartment for modern-day lifestyle ...      4     Yes  \n",
       "1  Looking for a 10 BHK Independent House for sal...      6     Yes  \n",
       "2  Property for sale in Tambaram, Chennai. This 3...      3      No  \n",
       "3  Entire Building for sale with 7 units of singl...      5     Yes  \n",
       "4  Property for sale in Avadi, Chennai. This 2 BH...      3     Yes  "
      ]
     },
     "execution_count": 6,
     "metadata": {},
     "output_type": "execute_result"
    }
   ],
   "source": [
    "df.head()"
   ]
  },
  {
   "cell_type": "code",
   "execution_count": 7,
   "id": "e43031f9-7a49-4d89-97e2-5c28f95a5ddd",
   "metadata": {},
   "outputs": [
    {
     "name": "stdout",
     "output_type": "stream",
     "text": [
      "Missing values:\n",
      " Name              0\n",
      "Property Title    0\n",
      "Price             0\n",
      "Location          0\n",
      "Total_Area        0\n",
      "Price_per_SQFT    0\n",
      "Description       0\n",
      "Baths             0\n",
      "Balcony           0\n",
      "dtype: int64\n"
     ]
    }
   ],
   "source": [
    "print(\"Missing values:\\n\", df.isnull().sum())"
   ]
  },
  {
   "cell_type": "code",
   "execution_count": 8,
   "id": "55ad016e-cd57-4f5c-87ae-250cffa13cda",
   "metadata": {},
   "outputs": [
    {
     "name": "stdout",
     "output_type": "stream",
     "text": [
      "Duplicate values:\n",
      " 8\n"
     ]
    }
   ],
   "source": [
    "print(\"Duplicate values:\\n\",df.duplicated().sum())  #gives exact  duplicate rows"
   ]
  },
  {
   "cell_type": "code",
   "execution_count": 9,
   "id": "beb48abd-3efc-49ab-aaf8-cb3eda356999",
   "metadata": {},
   "outputs": [
    {
     "name": "stdout",
     "output_type": "stream",
     "text": [
      "Unique values:\n",
      " Name               9998\n",
      "Property Title     6507\n",
      "Price               891\n",
      "Location           7050\n",
      "Total_Area         1774\n",
      "Price_per_SQFT     2094\n",
      "Description       14490\n",
      "Baths                 6\n",
      "Balcony               2\n",
      "dtype: int64\n"
     ]
    }
   ],
   "source": [
    "print(\"Unique values:\\n\",df.nunique())"
   ]
  },
  {
   "cell_type": "code",
   "execution_count": 10,
   "id": "fd312c6d-a012-4f62-8025-fcf50c971690",
   "metadata": {},
   "outputs": [
    {
     "data": {
      "text/html": [
       "<div>\n",
       "<style scoped>\n",
       "    .dataframe tbody tr th:only-of-type {\n",
       "        vertical-align: middle;\n",
       "    }\n",
       "\n",
       "    .dataframe tbody tr th {\n",
       "        vertical-align: top;\n",
       "    }\n",
       "\n",
       "    .dataframe thead th {\n",
       "        text-align: right;\n",
       "    }\n",
       "</style>\n",
       "<table border=\"1\" class=\"dataframe\">\n",
       "  <thead>\n",
       "    <tr style=\"text-align: right;\">\n",
       "      <th></th>\n",
       "      <th>Total_Area</th>\n",
       "      <th>Price_per_SQFT</th>\n",
       "      <th>Baths</th>\n",
       "    </tr>\n",
       "  </thead>\n",
       "  <tbody>\n",
       "    <tr>\n",
       "      <th>count</th>\n",
       "      <td>14528.000000</td>\n",
       "      <td>14528.000000</td>\n",
       "      <td>14528.000000</td>\n",
       "    </tr>\n",
       "    <tr>\n",
       "      <th>mean</th>\n",
       "      <td>1297.916988</td>\n",
       "      <td>11719.456222</td>\n",
       "      <td>2.751239</td>\n",
       "    </tr>\n",
       "    <tr>\n",
       "      <th>std</th>\n",
       "      <td>1245.694305</td>\n",
       "      <td>49036.068632</td>\n",
       "      <td>0.898243</td>\n",
       "    </tr>\n",
       "    <tr>\n",
       "      <th>min</th>\n",
       "      <td>70.000000</td>\n",
       "      <td>0.000000</td>\n",
       "      <td>1.000000</td>\n",
       "    </tr>\n",
       "    <tr>\n",
       "      <th>25%</th>\n",
       "      <td>650.000000</td>\n",
       "      <td>4480.000000</td>\n",
       "      <td>2.000000</td>\n",
       "    </tr>\n",
       "    <tr>\n",
       "      <th>50%</th>\n",
       "      <td>1000.000000</td>\n",
       "      <td>6050.000000</td>\n",
       "      <td>3.000000</td>\n",
       "    </tr>\n",
       "    <tr>\n",
       "      <th>75%</th>\n",
       "      <td>1439.000000</td>\n",
       "      <td>9312.500000</td>\n",
       "      <td>3.000000</td>\n",
       "    </tr>\n",
       "    <tr>\n",
       "      <th>max</th>\n",
       "      <td>35000.000000</td>\n",
       "      <td>999000.000000</td>\n",
       "      <td>6.000000</td>\n",
       "    </tr>\n",
       "  </tbody>\n",
       "</table>\n",
       "</div>"
      ],
      "text/plain": [
       "         Total_Area  Price_per_SQFT         Baths\n",
       "count  14528.000000    14528.000000  14528.000000\n",
       "mean    1297.916988    11719.456222      2.751239\n",
       "std     1245.694305    49036.068632      0.898243\n",
       "min       70.000000        0.000000      1.000000\n",
       "25%      650.000000     4480.000000      2.000000\n",
       "50%     1000.000000     6050.000000      3.000000\n",
       "75%     1439.000000     9312.500000      3.000000\n",
       "max    35000.000000   999000.000000      6.000000"
      ]
     },
     "execution_count": 10,
     "metadata": {},
     "output_type": "execute_result"
    }
   ],
   "source": [
    "df.describe()"
   ]
  },
  {
   "cell_type": "markdown",
   "id": "c776ce90-70a9-4e80-845f-96485ae0e6df",
   "metadata": {},
   "source": [
    "Task 2 : Extraction Of Number of bedrooms from property Title column by Using NLP"
   ]
  },
  {
   "cell_type": "code",
   "execution_count": 11,
   "id": "6a3216dd-fccb-425f-91ce-2da1994811c3",
   "metadata": {},
   "outputs": [],
   "source": [
    "nlp = spacy.load(\"en_core_web_sm\")\n",
    "matcher = Matcher(nlp.vocab)"
   ]
  },
  {
   "cell_type": "code",
   "execution_count": 12,
   "id": "d6bb2a92-97e6-41c9-8435-70801265bc9d",
   "metadata": {},
   "outputs": [],
   "source": [
    "# digit + bhk/bedrooms\n",
    "pattern1 = [{\"LIKE_NUM\": True}, {\"LOWER\": {\"IN\": [\"bhk\", \"bedroom\", \"bedrooms\"]}}]\n",
    "\n",
    "# word-number + bhk/bedrooms\n",
    "pattern2 = [{\"LOWER\": {\"IN\": [\"one\",\"two\",\"three\",\"four\",\"five\",\"six\",\"seven\",\"eight\",\"nine\",\"ten\"]}},\n",
    "            {\"LOWER\": {\"IN\": [\"bhk\",\"bedroom\",\"bedrooms\"]}}]\n",
    "\n",
    "matcher.add(\"BEDROOMS\", [pattern1, pattern2])"
   ]
  },
  {
   "cell_type": "code",
   "execution_count": 13,
   "id": "1a2a2635-362e-47c6-a689-c290c6323076",
   "metadata": {},
   "outputs": [],
   "source": [
    "word_to_num = {\n",
    "    \"one\": 1, \"two\": 2, \"three\": 3, \"four\": 4, \"five\": 5,\n",
    "    \"six\": 6, \"seven\": 7, \"eight\": 8, \"nine\": 9, \"ten\": 10\n",
    "}\n",
    "\n",
    "def extract_bedrooms(text):\n",
    "    doc = nlp(str(text).lower())\n",
    "    matches = matcher(doc)\n",
    "\n",
    "    for match_id, start, end in matches:\n",
    "        span = doc[start:end]\n",
    "        first_token = span[0]\n",
    "\n",
    "        # Case 1: numeric value like \"2 bhk\"\n",
    "        if first_token.like_num:\n",
    "            try:\n",
    "                return int(float(first_token.text))  # Handles \"2.0\", etc.\n",
    "            except ValueError:\n",
    "                return None\n",
    "\n",
    "        # Case 2: written numbers like \"two bedrooms\"\n",
    "        if first_token.text in word_to_num:\n",
    "            return word_to_num[first_token.text]\n",
    "\n",
    "    return None"
   ]
  },
  {
   "cell_type": "code",
   "execution_count": 14,
   "id": "4f6d2f18-4bae-4460-85ee-6ac540168cbc",
   "metadata": {},
   "outputs": [
    {
     "name": "stdout",
     "output_type": "stream",
     "text": [
      "                                       Property Title  Bedrooms\n",
      "0   4 BHK Flat for sale in Kanathur Reddikuppam, C...       4.0\n",
      "1   10 BHK Independent House for sale in Pozhichal...      10.0\n",
      "2       3 BHK Flat for sale in West Tambaram, Chennai       3.0\n",
      "3   7 BHK Independent House for sale in Triplicane...       7.0\n",
      "4               2 BHK Flat for sale in Avadi, Chennai       2.0\n",
      "5            2 BHK Flat for sale in Siruseri, Chennai       2.0\n",
      "6           2 BHK Flat for sale in Sembakkam, Chennai       2.0\n",
      "7   3 BHK Independent House for sale in Mahindra W...       3.0\n",
      "8       2 BHK Flat for sale in West Tambaram, Chennai       2.0\n",
      "9           1 BHK Flat for sale in Chromepet, Chennai       1.0\n",
      "10  1 BHK Flat for sale in Mahindra World City, Ch...       1.0\n",
      "11       3 BHK Flat for sale in Pallikaranai, Chennai       3.0\n",
      "12     6 BHK Villa for sale in West Mambalam, Chennai       6.0\n",
      "13        2 BHK Flat for sale in Ashok Nagar, Chennai       2.0\n",
      "14        2 BHK Flat for sale in Madambakkam, Chennai       2.0\n",
      "15      3 BHK Flat for sale in Perungalathur, Chennai       3.0\n",
      "16           2 BHK Flat for sale in Padappai, Chennai       2.0\n",
      "17       3 BHK Flat for sale in Nungambakkam, Chennai       3.0\n",
      "18          4 BHK Flat for sale in Muttukadu, Chennai       4.0\n",
      "19  2 BHK Independent House for sale in Pozhichalu...       2.0\n"
     ]
    }
   ],
   "source": [
    "df[\"Bedrooms\"] = df[\"Property Title\"].apply(extract_bedrooms)\n",
    "print(df[[\"Property Title\", \"Bedrooms\"]].head(20))"
   ]
  },
  {
   "cell_type": "code",
   "execution_count": null,
   "id": "0d1496fb-6fdc-423a-b480-21e07b9d0534",
   "metadata": {},
   "outputs": [],
   "source": []
  }
 ],
 "metadata": {
  "kernelspec": {
   "display_name": "Python 3 (ipykernel)",
   "language": "python",
   "name": "python3"
  },
  "language_info": {
   "codemirror_mode": {
    "name": "ipython",
    "version": 3
   },
   "file_extension": ".py",
   "mimetype": "text/x-python",
   "name": "python",
   "nbconvert_exporter": "python",
   "pygments_lexer": "ipython3",
   "version": "3.12.6"
  }
 },
 "nbformat": 4,
 "nbformat_minor": 5
}
