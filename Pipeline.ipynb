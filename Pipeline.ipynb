{
 "cells": [
  {
   "cell_type": "code",
   "execution_count": 13,
   "id": "6ab7dd34-3777-470c-80fd-50909df3a911",
   "metadata": {},
   "outputs": [
    {
     "name": "stdout",
     "output_type": "stream",
     "text": [
      "✅ Template unseen CSV saved as 'unseen_real_estate_data.csv'\n"
     ]
    }
   ],
   "source": [
    "import pandas as pd\n",
    "\n",
    "# Define the template unseen dataset with required feature columns (excluding Price)\n",
    "template_data = pd.DataFrame([\n",
    "    {\"Name\": \"\", \"Property Title\": \"\", \"Description\": \"\", \"Location\": \"Hyderabad\", \"Total_Area\": 1200, \"Bedrooms\": 3, \"Baths\": 2, \"Balcony\": 1, \"Price_per_SQFT\": 6500},\n",
    "    {\"Name\": \"\", \"Property Title\": \"\", \"Description\": \"\", \"Location\": \"Bangalore\", \"Total_Area\": 850, \"Bedrooms\": 2, \"Baths\": 1, \"Balcony\": 2, \"Price_per_SQFT\": 7200},\n",
    "    {\"Name\": \"\", \"Property Title\": \"\", \"Description\": \"\", \"Location\": \"Mumbai\", \"Total_Area\": 1500, \"Bedrooms\": 4, \"Baths\": 3, \"Balcony\": 2, \"Price_per_SQFT\": 12000},\n",
    "    {\"Name\": \"\", \"Property Title\": \"\", \"Description\": \"\", \"Location\": \"Chennai\", \"Total_Area\": 950, \"Bedrooms\": 2, \"Baths\": 1, \"Balcony\": 1, \"Price_per_SQFT\": 6000},\n",
    "    {\"Name\": \"\", \"Property Title\": \"\", \"Description\": \"\", \"Location\": \"Delhi\", \"Total_Area\": 1800, \"Bedrooms\": 4, \"Baths\": 3, \"Balcony\": 2, \"Price_per_SQFT\": 11000}\n",
    "])\n",
    "\n",
    "# Save as CSV\n",
    "template_data.to_csv(\"unseen_real_estate_data.csv\", index=False, encoding=\"utf-8\")\n",
    "print(\"✅ Template unseen CSV saved as 'unseen_real_estate_data.csv'\")\n"
   ]
  },
  {
   "cell_type": "code",
   "execution_count": 14,
   "id": "0fdf3b04-b72f-4098-9bda-4c05cb32107d",
   "metadata": {},
   "outputs": [
    {
     "name": "stdout",
     "output_type": "stream",
     "text": [
      "✅ Pipeline loaded successfully!\n",
      "✅ Unseen dataset loaded! Shape: (5, 9)\n",
      "   Name  Property Title  Description   Location  Total_Area  Bedrooms  Baths  \\\n",
      "0   NaN             NaN          NaN  Hyderabad        1200         3      2   \n",
      "1   NaN             NaN          NaN  Bangalore         850         2      1   \n",
      "2   NaN             NaN          NaN     Mumbai        1500         4      3   \n",
      "3   NaN             NaN          NaN    Chennai         950         2      1   \n",
      "4   NaN             NaN          NaN      Delhi        1800         4      3   \n",
      "\n",
      "   Balcony  Price_per_SQFT  \n",
      "0        1            6500  \n",
      "1        2            7200  \n",
      "2        2           12000  \n",
      "3        1            6000  \n",
      "4        2           11000  \n",
      "\n",
      "📊 Inference Results (first 5 rows):\n",
      "   Name  Property Title  Description   Location  Total_Area  Bedrooms  Baths  \\\n",
      "0   NaN             NaN          NaN  Hyderabad        1200         3      2   \n",
      "1   NaN             NaN          NaN  Bangalore         850         2      1   \n",
      "2   NaN             NaN          NaN     Mumbai        1500         4      3   \n",
      "3   NaN             NaN          NaN    Chennai         950         2      1   \n",
      "4   NaN             NaN          NaN      Delhi        1800         4      3   \n",
      "\n",
      "   Balcony  Price_per_SQFT  Predicted_Price  \n",
      "0        1            6500        67.647087  \n",
      "1        2            7200        52.420132  \n",
      "2        2           12000         0.254660  \n",
      "3        1            6000        49.472706  \n",
      "4        2           11000         0.239676  \n",
      "\n",
      "✅ Predictions saved to predictions_on_unseen.csv\n"
     ]
    }
   ],
   "source": [
    "import joblib\n",
    "import pandas as pd\n",
    "\n",
    "# 1️⃣ Load the saved pipeline\n",
    "pipeline = joblib.load(\"xgb_pipeline.joblib\")\n",
    "print(\"✅ Pipeline loaded successfully!\")\n",
    "\n",
    "# 2️⃣ Load unseen data from CSV (make sure file is in the same folder or give full path)\n",
    "unseen_df = pd.read_csv(\"unseen_real_estate_data.csv\")\n",
    "print(\"✅ Unseen dataset loaded! Shape:\", unseen_df.shape)\n",
    "\n",
    "# Show first few rows\n",
    "print(unseen_df.head())\n",
    "\n",
    "# 3️⃣ Run inference\n",
    "predictions = pipeline.predict(unseen_df)\n",
    "\n",
    "# 4️⃣ Attach predictions to the unseen dataset\n",
    "unseen_df[\"Predicted_Price\"] = predictions\n",
    "\n",
    "print(\"\\n📊 Inference Results (first 5 rows):\")\n",
    "print(unseen_df.head())\n",
    "\n",
    "# 5️⃣ Save results\n",
    "unseen_df.to_csv(\"predictions_on_unseen.csv\", index=False)\n",
    "print(\"\\n✅ Predictions saved to predictions_on_unseen.csv\")\n"
   ]
  },
  {
   "cell_type": "code",
   "execution_count": null,
   "id": "cfb42a53-ba68-4aee-908b-87f6dfc84001",
   "metadata": {},
   "outputs": [],
   "source": []
  }
 ],
 "metadata": {
  "kernelspec": {
   "display_name": "Python [conda env:base] *",
   "language": "python",
   "name": "conda-base-py"
  },
  "language_info": {
   "codemirror_mode": {
    "name": "ipython",
    "version": 3
   },
   "file_extension": ".py",
   "mimetype": "text/x-python",
   "name": "python",
   "nbconvert_exporter": "python",
   "pygments_lexer": "ipython3",
   "version": "3.13.5"
  }
 },
 "nbformat": 4,
 "nbformat_minor": 5
}
