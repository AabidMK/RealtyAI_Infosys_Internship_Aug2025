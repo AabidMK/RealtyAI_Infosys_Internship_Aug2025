{
 "cells": [
  {
   "cell_type": "code",
   "execution_count": 2,
   "id": "e2da9817-b80d-4a6c-b9bc-642ace0e59cb",
   "metadata": {},
   "outputs": [],
   "source": [
    "import pandas as pd\n",
    "import numpy as np\n",
    "import re\n",
    "\n",
    "from sklearn.model_selection import train_test_split\n",
    "from sklearn.preprocessing import StandardScaler\n",
    "from sklearn.linear_model import LinearRegression\n",
    "from sklearn.metrics import mean_squared_error, mean_absolute_error, r2_score\n",
    "from category_encoders import TargetEncoder   # pip install category-encoders\n"
   ]
  },
  {
   "cell_type": "code",
   "execution_count": 2,
   "id": "7d0864cc-03db-467c-9fbb-b2444d2bc658",
   "metadata": {},
   "outputs": [
    {
     "name": "stdout",
     "output_type": "stream",
     "text": [
      "Collecting category_encoders\n",
      "  Downloading category_encoders-2.8.1-py3-none-any.whl.metadata (7.9 kB)\n",
      "Requirement already satisfied: numpy>=1.14.0 in c:\\users\\jvsti\\anaconda3\\lib\\site-packages (from category_encoders) (2.1.3)\n",
      "Requirement already satisfied: pandas>=1.0.5 in c:\\users\\jvsti\\anaconda3\\lib\\site-packages (from category_encoders) (2.2.3)\n",
      "Requirement already satisfied: patsy>=0.5.1 in c:\\users\\jvsti\\anaconda3\\lib\\site-packages (from category_encoders) (1.0.1)\n",
      "Requirement already satisfied: scikit-learn>=1.6.0 in c:\\users\\jvsti\\anaconda3\\lib\\site-packages (from category_encoders) (1.6.1)\n",
      "Requirement already satisfied: scipy>=1.0.0 in c:\\users\\jvsti\\anaconda3\\lib\\site-packages (from category_encoders) (1.15.3)\n",
      "Requirement already satisfied: statsmodels>=0.9.0 in c:\\users\\jvsti\\anaconda3\\lib\\site-packages (from category_encoders) (0.14.4)\n",
      "Requirement already satisfied: python-dateutil>=2.8.2 in c:\\users\\jvsti\\anaconda3\\lib\\site-packages (from pandas>=1.0.5->category_encoders) (2.9.0.post0)\n",
      "Requirement already satisfied: pytz>=2020.1 in c:\\users\\jvsti\\anaconda3\\lib\\site-packages (from pandas>=1.0.5->category_encoders) (2024.1)\n",
      "Requirement already satisfied: tzdata>=2022.7 in c:\\users\\jvsti\\anaconda3\\lib\\site-packages (from pandas>=1.0.5->category_encoders) (2025.2)\n",
      "Requirement already satisfied: six>=1.5 in c:\\users\\jvsti\\anaconda3\\lib\\site-packages (from python-dateutil>=2.8.2->pandas>=1.0.5->category_encoders) (1.17.0)\n",
      "Requirement already satisfied: joblib>=1.2.0 in c:\\users\\jvsti\\anaconda3\\lib\\site-packages (from scikit-learn>=1.6.0->category_encoders) (1.4.2)\n",
      "Requirement already satisfied: threadpoolctl>=3.1.0 in c:\\users\\jvsti\\anaconda3\\lib\\site-packages (from scikit-learn>=1.6.0->category_encoders) (3.5.0)\n",
      "Requirement already satisfied: packaging>=21.3 in c:\\users\\jvsti\\anaconda3\\lib\\site-packages (from statsmodels>=0.9.0->category_encoders) (24.2)\n",
      "Downloading category_encoders-2.8.1-py3-none-any.whl (85 kB)\n",
      "Installing collected packages: category_encoders\n",
      "Successfully installed category_encoders-2.8.1\n",
      "Note: you may need to restart the kernel to use updated packages.\n"
     ]
    }
   ],
   "source": [
    "pip install category_encoders\n"
   ]
  },
  {
   "cell_type": "code",
   "execution_count": 3,
   "id": "4736ddf5-df60-4208-a5cf-26fe17674756",
   "metadata": {},
   "outputs": [],
   "source": [
    "df = pd.read_csv(\"Real Estate Data.csv\")\n"
   ]
  },
  {
   "cell_type": "code",
   "execution_count": 4,
   "id": "a79489b0-5a4d-4a5d-b173-21574ae58f97",
   "metadata": {},
   "outputs": [],
   "source": [
    "def price_in_lakhs(val):\n",
    "    val = val.replace(\"₹\", \"\").replace(\",\", \"\").strip()\n",
    "    if \"Cr\" in val:\n",
    "        return float(re.findall(r\"[\\d.]+\", val)[0]) * 100    # 1 Cr = 100 Lakhs\n",
    "    if \"L\" in val:\n",
    "        return float(re.findall(r\"[\\d.]+\", val)[0])          # already in Lakhs\n",
    "    return np.nan\n",
    "\n",
    "df[\"Price_Lakhs\"] = df[\"Price\"].apply(price_in_lakhs)\n"
   ]
  },
  {
   "cell_type": "code",
   "execution_count": 5,
   "id": "c441d17a-b801-4d9a-a237-ac1cb462be87",
   "metadata": {},
   "outputs": [],
   "source": [
    "df[[\"Area\",\"City\"]] = df[\"Location\"].str.rsplit(\",\", n=1, expand=True)\n",
    "df[\"Area\"] = df[\"Area\"].str.strip()\n",
    "df[\"City\"] = df[\"City\"].str.strip()\n"
   ]
  },
  {
   "cell_type": "code",
   "execution_count": 6,
   "id": "6b74d50a-1381-427d-8409-3fd2e381bd5f",
   "metadata": {},
   "outputs": [],
   "source": [
    "def extract_bhk(txt):\n",
    "    match = re.search(r\"(\\d+)\\s*BHK\", str(txt))\n",
    "    return int(match.group(1)) if match else np.nan\n",
    "\n",
    "df[\"BHK\"] = df[\"Property Title\"].apply(extract_bhk)\n"
   ]
  },
  {
   "cell_type": "code",
   "execution_count": 7,
   "id": "b985ded4-8018-47f2-af98-b446a34656a3",
   "metadata": {},
   "outputs": [],
   "source": [
    "num_cols = [\"Total_Area\", \"Price_per_SQFT\", \"Baths\", \"BHK\"]\n",
    "for col in num_cols:\n",
    "    df[f\"log_{col}\"] = np.log1p(df[col])\n"
   ]
  },
  {
   "cell_type": "code",
   "execution_count": 9,
   "id": "bd9a5318-c0bf-473d-b87c-86bf99fc1698",
   "metadata": {},
   "outputs": [],
   "source": [
    "# --- Ensure target column has no missing values ---\n",
    "df = df.dropna(subset=[\"Price_Lakhs\"]).reset_index(drop=True)\n",
    "\n",
    "# --- Ensure categorical columns have no missing values ---\n",
    "df[\"Area\"] = df[\"Area\"].fillna(\"Unknown\")\n",
    "df[\"City\"] = df[\"City\"].fillna(\"Unknown\")\n",
    "\n",
    "# --- Target (mean) encode using simple groupby mapping ---\n",
    "for col in [\"Area\", \"City\"]:\n",
    "    mean_map = df.groupby(col)[\"Price_Lakhs\"].mean()\n",
    "    df[col] = df[col].map(mean_map)\n",
    "\n"
   ]
  },
  {
   "cell_type": "code",
   "execution_count": 10,
   "id": "59ee7699-1e70-4baf-8b52-b0c8fdcf2015",
   "metadata": {},
   "outputs": [],
   "source": [
    "from sklearn.preprocessing import StandardScaler\n",
    "\n",
    "scale_cols = [f\"log_{c}\" for c in [\"Total_Area\", \"Price_per_SQFT\", \"Baths\", \"BHK\"]]\n",
    "scaler = StandardScaler()\n",
    "df[scale_cols] = scaler.fit_transform(df[scale_cols])\n"
   ]
  },
  {
   "cell_type": "code",
   "execution_count": 12,
   "id": "fd3e6ec8-1496-4bd2-b159-85697942f134",
   "metadata": {},
   "outputs": [],
   "source": [
    "from sklearn.model_selection import train_test_split\n",
    "from sklearn.linear_model import LinearRegression\n",
    "from sklearn.impute import SimpleImputer\n",
    "import numpy as np\n",
    "import pandas as pd\n",
    "\n",
    "# ---------- 1️⃣  Select Features & Target ----------\n",
    "X = df[[\"Area\", \"City\"] + scale_cols]\n",
    "y = df[\"Price_Lakhs\"]\n",
    "\n",
    "# ---------- 2️⃣  Remove rows where target is missing ----------\n",
    "# (Important if any Price_Lakhs rows were dropped earlier)\n",
    "mask = y.notna()\n",
    "X = X.loc[mask]\n",
    "y = y.loc[mask]\n",
    "\n",
    "# ---------- 3️⃣  Impute any NaNs in features ----------\n",
    "imputer = SimpleImputer(strategy=\"median\")   # or \"mean\"\n",
    "X = pd.DataFrame(imputer.fit_transform(X), columns=X.columns, index=X.index)\n",
    "\n",
    "# ---------- 4️⃣  Train/Test Split ----------\n",
    "X_train, X_test, y_train, y_test = train_test_split(\n",
    "    X, y, test_size=0.2, random_state=42\n",
    ")\n",
    "\n",
    "# ---------- 5️⃣  Train Linear Regression ----------\n",
    "lr = LinearRegression()\n",
    "lr.fit(X_train, y_train)\n",
    "\n",
    "# ---------- 6️⃣  Predict ----------\n",
    "y_pred = lr.predict(X_test)\n",
    "\n"
   ]
  },
  {
   "cell_type": "code",
   "execution_count": 13,
   "id": "561d9a96-6cdc-4fcc-8ed0-18c5a0b3c081",
   "metadata": {},
   "outputs": [
    {
     "name": "stdout",
     "output_type": "stream",
     "text": [
      "MSE  : 9610.63\n",
      "RMSE : 98.03 Lakhs\n",
      "MAE  : 38.86 Lakhs\n",
      "R²   : 0.800\n"
     ]
    }
   ],
   "source": [
    "from sklearn.metrics import mean_squared_error, mean_absolute_error, r2_score\n",
    "import numpy as np\n",
    "\n",
    "mse  = mean_squared_error(y_test, y_pred)\n",
    "rmse = np.sqrt(mse)\n",
    "mae  = mean_absolute_error(y_test, y_pred)\n",
    "r2   = r2_score(y_test, y_pred)\n",
    "\n",
    "print(f\"MSE  : {mse:.2f}\")\n",
    "print(f\"RMSE : {rmse:.2f} Lakhs\")\n",
    "print(f\"MAE  : {mae:.2f} Lakhs\")\n",
    "print(f\"R²   : {r2:.3f}\")\n"
   ]
  },
  {
   "cell_type": "code",
   "execution_count": null,
   "id": "845f5862-55ea-4d10-81a7-d05d0a0cd703",
   "metadata": {},
   "outputs": [],
   "source": []
  }
 ],
 "metadata": {
  "kernelspec": {
   "display_name": "Python [conda env:base] *",
   "language": "python",
   "name": "conda-base-py"
  },
  "language_info": {
   "codemirror_mode": {
    "name": "ipython",
    "version": 3
   },
   "file_extension": ".py",
   "mimetype": "text/x-python",
   "name": "python",
   "nbconvert_exporter": "python",
   "pygments_lexer": "ipython3",
   "version": "3.13.5"
  }
 },
 "nbformat": 4,
 "nbformat_minor": 5
}
